{
 "cells": [
  {
   "cell_type": "code",
   "execution_count": 2,
   "id": "87d4bd30-a297-4abb-a30a-76aff2fef295",
   "metadata": {},
   "outputs": [
    {
     "name": "stdout",
     "output_type": "stream",
     "text": [
      "C:\\Users\\dinyz\\Dinesh Ram\\Pycharm - Projects\\Wildlife Animal Detection\\YOLO model\n"
     ]
    }
   ],
   "source": [
    "import os\n",
    "HOME = os.getcwd()\n",
    "print(HOME)"
   ]
  },
  {
   "cell_type": "code",
   "execution_count": 3,
   "id": "acda9091-7597-43a7-87cb-ff923ef6f571",
   "metadata": {},
   "outputs": [
    {
     "name": "stdout",
     "output_type": "stream",
     "text": [
      "C:\\Users\\dinyz\\Dinesh Ram\\Pycharm - Projects\\Wildlife Animal Detection\\YOLO model\n"
     ]
    },
    {
     "name": "stderr",
     "output_type": "stream",
     "text": [
      "C:\\Users\\dinyz\\Dinesh Ram\\Pycharm - Projects\\Wildlife Animal Detection\\.venv\\lib\\site-packages\\IPython\\core\\magics\\osm.py:417: UserWarning: This is now an optional IPython functionality, setting dhist requires you to install the `pickleshare` library.\n",
      "  self.shell.db['dhist'] = compress_dhist(dhist)[-100:]\n",
      "\n",
      "[notice] A new release of pip is available: 23.2.1 -> 25.0.1\n",
      "[notice] To update, run: python.exe -m pip install --upgrade pip\n"
     ]
    }
   ],
   "source": [
    "%cd {HOME}\n",
    "!pip install roboflow --quiet"
   ]
  },
  {
   "cell_type": "code",
   "execution_count": 6,
   "id": "10b2a420-514e-422a-8e08-e180cf0b1d95",
   "metadata": {},
   "outputs": [
    {
     "name": "stdout",
     "output_type": "stream",
     "text": [
      "Requirement already satisfied: roboflow in c:\\users\\dinyz\\dinesh ram\\pycharm - projects\\wildlife animal detection\\.venv\\lib\\site-packages (1.1.58)\n",
      "Requirement already satisfied: certifi in c:\\users\\dinyz\\dinesh ram\\pycharm - projects\\wildlife animal detection\\.venv\\lib\\site-packages (from roboflow) (2025.1.31)\n",
      "Requirement already satisfied: idna==3.7 in c:\\users\\dinyz\\dinesh ram\\pycharm - projects\\wildlife animal detection\\.venv\\lib\\site-packages (from roboflow) (3.7)\n",
      "Requirement already satisfied: cycler in c:\\users\\dinyz\\dinesh ram\\pycharm - projects\\wildlife animal detection\\.venv\\lib\\site-packages (from roboflow) (0.12.1)\n",
      "Requirement already satisfied: kiwisolver>=1.3.1 in c:\\users\\dinyz\\dinesh ram\\pycharm - projects\\wildlife animal detection\\.venv\\lib\\site-packages (from roboflow) (1.4.8)\n",
      "Requirement already satisfied: matplotlib in c:\\users\\dinyz\\dinesh ram\\pycharm - projects\\wildlife animal detection\\.venv\\lib\\site-packages (from roboflow) (3.10.1)\n",
      "Requirement already satisfied: numpy>=1.18.5 in c:\\users\\dinyz\\dinesh ram\\pycharm - projects\\wildlife animal detection\\.venv\\lib\\site-packages (from roboflow) (2.1.1)\n",
      "Requirement already satisfied: opencv-python-headless==4.10.0.84 in c:\\users\\dinyz\\dinesh ram\\pycharm - projects\\wildlife animal detection\\.venv\\lib\\site-packages (from roboflow) (4.10.0.84)\n",
      "Requirement already satisfied: Pillow>=7.1.2 in c:\\users\\dinyz\\dinesh ram\\pycharm - projects\\wildlife animal detection\\.venv\\lib\\site-packages (from roboflow) (11.1.0)\n",
      "Requirement already satisfied: pillow-heif>=0.18.0 in c:\\users\\dinyz\\dinesh ram\\pycharm - projects\\wildlife animal detection\\.venv\\lib\\site-packages (from roboflow) (0.22.0)\n",
      "Requirement already satisfied: python-dateutil in c:\\users\\dinyz\\dinesh ram\\pycharm - projects\\wildlife animal detection\\.venv\\lib\\site-packages (from roboflow) (2.9.0.post0)\n",
      "Requirement already satisfied: python-dotenv in c:\\users\\dinyz\\dinesh ram\\pycharm - projects\\wildlife animal detection\\.venv\\lib\\site-packages (from roboflow) (1.0.1)\n",
      "Requirement already satisfied: requests in c:\\users\\dinyz\\dinesh ram\\pycharm - projects\\wildlife animal detection\\.venv\\lib\\site-packages (from roboflow) (2.32.3)\n",
      "Requirement already satisfied: six in c:\\users\\dinyz\\dinesh ram\\pycharm - projects\\wildlife animal detection\\.venv\\lib\\site-packages (from roboflow) (1.17.0)\n",
      "Requirement already satisfied: urllib3>=1.26.6 in c:\\users\\dinyz\\dinesh ram\\pycharm - projects\\wildlife animal detection\\.venv\\lib\\site-packages (from roboflow) (2.3.0)\n",
      "Requirement already satisfied: tqdm>=4.41.0 in c:\\users\\dinyz\\dinesh ram\\pycharm - projects\\wildlife animal detection\\.venv\\lib\\site-packages (from roboflow) (4.67.1)\n",
      "Requirement already satisfied: PyYAML>=5.3.1 in c:\\users\\dinyz\\dinesh ram\\pycharm - projects\\wildlife animal detection\\.venv\\lib\\site-packages (from roboflow) (6.0.2)\n",
      "Requirement already satisfied: requests-toolbelt in c:\\users\\dinyz\\dinesh ram\\pycharm - projects\\wildlife animal detection\\.venv\\lib\\site-packages (from roboflow) (1.0.0)\n",
      "Requirement already satisfied: filetype in c:\\users\\dinyz\\dinesh ram\\pycharm - projects\\wildlife animal detection\\.venv\\lib\\site-packages (from roboflow) (1.2.0)\n",
      "Requirement already satisfied: colorama in c:\\users\\dinyz\\dinesh ram\\pycharm - projects\\wildlife animal detection\\.venv\\lib\\site-packages (from tqdm>=4.41.0->roboflow) (0.4.6)\n",
      "Requirement already satisfied: contourpy>=1.0.1 in c:\\users\\dinyz\\dinesh ram\\pycharm - projects\\wildlife animal detection\\.venv\\lib\\site-packages (from matplotlib->roboflow) (1.3.1)\n",
      "Requirement already satisfied: fonttools>=4.22.0 in c:\\users\\dinyz\\dinesh ram\\pycharm - projects\\wildlife animal detection\\.venv\\lib\\site-packages (from matplotlib->roboflow) (4.56.0)\n",
      "Requirement already satisfied: packaging>=20.0 in c:\\users\\dinyz\\dinesh ram\\pycharm - projects\\wildlife animal detection\\.venv\\lib\\site-packages (from matplotlib->roboflow) (24.2)\n",
      "Requirement already satisfied: pyparsing>=2.3.1 in c:\\users\\dinyz\\dinesh ram\\pycharm - projects\\wildlife animal detection\\.venv\\lib\\site-packages (from matplotlib->roboflow) (3.2.1)\n",
      "Requirement already satisfied: charset-normalizer<4,>=2 in c:\\users\\dinyz\\dinesh ram\\pycharm - projects\\wildlife animal detection\\.venv\\lib\\site-packages (from requests->roboflow) (3.4.1)\n"
     ]
    },
    {
     "name": "stderr",
     "output_type": "stream",
     "text": [
      "\n",
      "[notice] A new release of pip is available: 23.2.1 -> 25.0.1\n",
      "[notice] To update, run: python.exe -m pip install --upgrade pip\n"
     ]
    },
    {
     "name": "stdout",
     "output_type": "stream",
     "text": [
      "loading Roboflow workspace...\n",
      "loading Roboflow project...\n"
     ]
    },
    {
     "name": "stderr",
     "output_type": "stream",
     "text": [
      "Downloading Dataset Version Zip in Wildlife_monitoring-1 to yolov12:: 100%|█████████████████████████████████████████████████████████████| 112130/112130 [00:10<00:00, 10501.41it/s]"
     ]
    },
    {
     "name": "stdout",
     "output_type": "stream",
     "text": [
      "\n"
     ]
    },
    {
     "name": "stderr",
     "output_type": "stream",
     "text": [
      "\n",
      "Extracting Dataset Version Zip to Wildlife_monitoring-1 in yolov12::   0%|▎                                                                     | 21/4870 [00:00<00:05, 835.19it/s]\n"
     ]
    },
    {
     "ename": "FileNotFoundError",
     "evalue": "[Errno 2] No such file or directory: 'Wildlife_monitoring-1\\\\test\\\\images\\\\aerial-view-of-a-herd-of-african-elephants-loxodonda-africana-following-a-trail-in-tall-grass-okavango-delta-botswana-2H2CBBX_jpg.rf.b6c5414c7225874d6dd60de03cc17770.jpg'",
     "output_type": "error",
     "traceback": [
      "\u001b[1;31m---------------------------------------------------------------------------\u001b[0m",
      "\u001b[1;31mFileNotFoundError\u001b[0m                         Traceback (most recent call last)",
      "Cell \u001b[1;32mIn[6], line 7\u001b[0m\n\u001b[0;32m      5\u001b[0m project \u001b[38;5;241m=\u001b[39m rf\u001b[38;5;241m.\u001b[39mworkspace(\u001b[38;5;124m\"\u001b[39m\u001b[38;5;124mwildanimalsmonitoring\u001b[39m\u001b[38;5;124m\"\u001b[39m)\u001b[38;5;241m.\u001b[39mproject(\u001b[38;5;124m\"\u001b[39m\u001b[38;5;124mwildlife_monitoring\u001b[39m\u001b[38;5;124m\"\u001b[39m)\n\u001b[0;32m      6\u001b[0m version \u001b[38;5;241m=\u001b[39m project\u001b[38;5;241m.\u001b[39mversion(\u001b[38;5;241m1\u001b[39m)\n\u001b[1;32m----> 7\u001b[0m dataset \u001b[38;5;241m=\u001b[39m \u001b[43mversion\u001b[49m\u001b[38;5;241;43m.\u001b[39;49m\u001b[43mdownload\u001b[49m\u001b[43m(\u001b[49m\u001b[38;5;124;43m\"\u001b[39;49m\u001b[38;5;124;43myolov12\u001b[39;49m\u001b[38;5;124;43m\"\u001b[39;49m\u001b[43m)\u001b[49m\n",
      "File \u001b[1;32m~\\Dinesh Ram\\Pycharm - Projects\\Wildlife Animal Detection\\.venv\\lib\\site-packages\\roboflow\\core\\version.py:233\u001b[0m, in \u001b[0;36mVersion.download\u001b[1;34m(self, model_format, location, overwrite)\u001b[0m\n\u001b[0;32m    230\u001b[0m             response\u001b[38;5;241m.\u001b[39mraise_for_status()\n\u001b[0;32m    232\u001b[0m \u001b[38;5;28mself\u001b[39m\u001b[38;5;241m.\u001b[39m__download_zip(link, location, model_format)\n\u001b[1;32m--> 233\u001b[0m \u001b[38;5;28;43mself\u001b[39;49m\u001b[38;5;241;43m.\u001b[39;49m\u001b[43m__extract_zip\u001b[49m\u001b[43m(\u001b[49m\u001b[43mlocation\u001b[49m\u001b[43m,\u001b[49m\u001b[43m \u001b[49m\u001b[43mmodel_format\u001b[49m\u001b[43m)\u001b[49m\n\u001b[0;32m    234\u001b[0m \u001b[38;5;28mself\u001b[39m\u001b[38;5;241m.\u001b[39m__reformat_yaml(location, model_format)  \u001b[38;5;66;03m# TODO: is roboflow-python a place to be munging yaml files?\u001b[39;00m\n\u001b[0;32m    236\u001b[0m \u001b[38;5;28;01mreturn\u001b[39;00m Dataset(\u001b[38;5;28mself\u001b[39m\u001b[38;5;241m.\u001b[39mname, \u001b[38;5;28mself\u001b[39m\u001b[38;5;241m.\u001b[39mversion, model_format, os\u001b[38;5;241m.\u001b[39mpath\u001b[38;5;241m.\u001b[39mabspath(location))\n",
      "File \u001b[1;32m~\\Dinesh Ram\\Pycharm - Projects\\Wildlife Animal Detection\\.venv\\lib\\site-packages\\roboflow\\core\\version.py:589\u001b[0m, in \u001b[0;36mVersion.__extract_zip\u001b[1;34m(self, location, format)\u001b[0m\n\u001b[0;32m    584\u001b[0m \u001b[38;5;28;01mfor\u001b[39;00m member \u001b[38;5;129;01min\u001b[39;00m tqdm(\n\u001b[0;32m    585\u001b[0m     zip_ref\u001b[38;5;241m.\u001b[39minfolist(),\n\u001b[0;32m    586\u001b[0m     desc\u001b[38;5;241m=\u001b[39mdesc,\n\u001b[0;32m    587\u001b[0m ):\n\u001b[0;32m    588\u001b[0m     \u001b[38;5;28;01mtry\u001b[39;00m:\n\u001b[1;32m--> 589\u001b[0m         \u001b[43mzip_ref\u001b[49m\u001b[38;5;241;43m.\u001b[39;49m\u001b[43mextract\u001b[49m\u001b[43m(\u001b[49m\u001b[43mmember\u001b[49m\u001b[43m,\u001b[49m\u001b[43m \u001b[49m\u001b[43mlocation\u001b[49m\u001b[43m)\u001b[49m\n\u001b[0;32m    590\u001b[0m     \u001b[38;5;28;01mexcept\u001b[39;00m zipfile\u001b[38;5;241m.\u001b[39merror:\n\u001b[0;32m    591\u001b[0m         \u001b[38;5;28;01mraise\u001b[39;00m \u001b[38;5;167;01mRuntimeError\u001b[39;00m(\u001b[38;5;124m\"\u001b[39m\u001b[38;5;124mError unzipping download\u001b[39m\u001b[38;5;124m\"\u001b[39m)\n",
      "File \u001b[1;32m~\\AppData\\Local\\Programs\\Python\\Python310\\lib\\zipfile.py:1630\u001b[0m, in \u001b[0;36mZipFile.extract\u001b[1;34m(self, member, path, pwd)\u001b[0m\n\u001b[0;32m   1627\u001b[0m \u001b[38;5;28;01melse\u001b[39;00m:\n\u001b[0;32m   1628\u001b[0m     path \u001b[38;5;241m=\u001b[39m os\u001b[38;5;241m.\u001b[39mfspath(path)\n\u001b[1;32m-> 1630\u001b[0m \u001b[38;5;28;01mreturn\u001b[39;00m \u001b[38;5;28;43mself\u001b[39;49m\u001b[38;5;241;43m.\u001b[39;49m\u001b[43m_extract_member\u001b[49m\u001b[43m(\u001b[49m\u001b[43mmember\u001b[49m\u001b[43m,\u001b[49m\u001b[43m \u001b[49m\u001b[43mpath\u001b[49m\u001b[43m,\u001b[49m\u001b[43m \u001b[49m\u001b[43mpwd\u001b[49m\u001b[43m)\u001b[49m\n",
      "File \u001b[1;32m~\\AppData\\Local\\Programs\\Python\\Python310\\lib\\zipfile.py:1701\u001b[0m, in \u001b[0;36mZipFile._extract_member\u001b[1;34m(self, member, targetpath, pwd)\u001b[0m\n\u001b[0;32m   1697\u001b[0m         os\u001b[38;5;241m.\u001b[39mmkdir(targetpath)\n\u001b[0;32m   1698\u001b[0m     \u001b[38;5;28;01mreturn\u001b[39;00m targetpath\n\u001b[0;32m   1700\u001b[0m \u001b[38;5;28;01mwith\u001b[39;00m \u001b[38;5;28mself\u001b[39m\u001b[38;5;241m.\u001b[39mopen(member, pwd\u001b[38;5;241m=\u001b[39mpwd) \u001b[38;5;28;01mas\u001b[39;00m source, \\\n\u001b[1;32m-> 1701\u001b[0m      \u001b[38;5;28;43mopen\u001b[39;49m\u001b[43m(\u001b[49m\u001b[43mtargetpath\u001b[49m\u001b[43m,\u001b[49m\u001b[43m \u001b[49m\u001b[38;5;124;43m\"\u001b[39;49m\u001b[38;5;124;43mwb\u001b[39;49m\u001b[38;5;124;43m\"\u001b[39;49m\u001b[43m)\u001b[49m \u001b[38;5;28;01mas\u001b[39;00m target:\n\u001b[0;32m   1702\u001b[0m     shutil\u001b[38;5;241m.\u001b[39mcopyfileobj(source, target)\n\u001b[0;32m   1704\u001b[0m \u001b[38;5;28;01mreturn\u001b[39;00m targetpath\n",
      "\u001b[1;31mFileNotFoundError\u001b[0m: [Errno 2] No such file or directory: 'Wildlife_monitoring-1\\\\test\\\\images\\\\aerial-view-of-a-herd-of-african-elephants-loxodonda-africana-following-a-trail-in-tall-grass-okavango-delta-botswana-2H2CBBX_jpg.rf.b6c5414c7225874d6dd60de03cc17770.jpg'"
     ]
    }
   ],
   "source": [
    "!pip install roboflow\n",
    "\n",
    "from roboflow import Roboflow\n",
    "rf = Roboflow(api_key=\"AGnD793KQuiJIGrxlvmu\")\n",
    "project = rf.workspace(\"wildanimalsmonitoring\").project(\"wildlife_monitoring\")\n",
    "version = project.version(1)\n",
    "dataset = version.download(\"yolov12\")"
   ]
  },
  {
   "cell_type": "code",
   "execution_count": 4,
   "id": "bc59b427-8fe1-444b-aea2-ec70cbdf0a8e",
   "metadata": {},
   "outputs": [
    {
     "name": "stdout",
     "output_type": "stream",
     "text": [
      "Tue Mar 25 14:13:26 2025       \n",
      "+-----------------------------------------------------------------------------------------+\n",
      "| NVIDIA-SMI 572.83                 Driver Version: 572.83         CUDA Version: 12.8     |\n",
      "|-----------------------------------------+------------------------+----------------------+\n",
      "| GPU  Name                  Driver-Model | Bus-Id          Disp.A | Volatile Uncorr. ECC |\n",
      "| Fan  Temp   Perf          Pwr:Usage/Cap |           Memory-Usage | GPU-Util  Compute M. |\n",
      "|                                         |                        |               MIG M. |\n",
      "|=========================================+========================+======================|\n",
      "|   0  NVIDIA GeForce GTX 1650      WDDM  |   00000000:01:00.0 Off |                  N/A |\n",
      "| N/A   47C    P8              4W /   50W |       0MiB /   4096MiB |      0%      Default |\n",
      "|                                         |                        |                  N/A |\n",
      "+-----------------------------------------+------------------------+----------------------+\n",
      "                                                                                         \n",
      "+-----------------------------------------------------------------------------------------+\n",
      "| Processes:                                                                              |\n",
      "|  GPU   GI   CI              PID   Type   Process name                        GPU Memory |\n",
      "|        ID   ID                                                               Usage      |\n",
      "|=========================================================================================|\n",
      "+-----------------------------------------------------------------------------------------+\n"
     ]
    }
   ],
   "source": [
    "!nvidia-smi"
   ]
  },
  {
   "cell_type": "code",
   "execution_count": 5,
   "id": "fb880067-1e78-4878-a107-33bf4a9b9430",
   "metadata": {},
   "outputs": [
    {
     "name": "stdout",
     "output_type": "stream",
     "text": [
      "True\n"
     ]
    }
   ],
   "source": [
    "import torch\n",
    "print(torch.cuda.is_available())"
   ]
  },
  {
   "cell_type": "code",
   "execution_count": 6,
   "id": "2e46fccb-4e59-4bdf-ab1d-606781445ba4",
   "metadata": {},
   "outputs": [
    {
     "name": "stdout",
     "output_type": "stream",
     "text": [
      "Ultralytics 8.3.94  Python-3.10.11 torch-2.6.0+cu126 CUDA:0 (NVIDIA GeForce GTX 1650, 4096MiB)\n",
      "Setup complete  (12 CPUs, 7.3 GB RAM, 355.7/466.5 GB disk)\n"
     ]
    }
   ],
   "source": [
    "!pip install ultralytics\n",
    "\n",
    "from IPython import display\n",
    "display.clear_output()\n",
    "\n",
    "import ultralytics\n",
    "ultralytics.checks()"
   ]
  },
  {
   "cell_type": "code",
   "execution_count": 7,
   "id": "ea5158e2-3e51-4810-a97b-e0466268b79e",
   "metadata": {},
   "outputs": [],
   "source": [
    "from ultralytics import YOLO\n",
    "from IPython.display import display, Image"
   ]
  },
  {
   "cell_type": "code",
   "execution_count": 7,
   "id": "0aba19ba-05aa-4e5b-8b4a-e4119566c9ab",
   "metadata": {},
   "outputs": [
    {
     "name": "stdout",
     "output_type": "stream",
     "text": [
      "C:\\Users\\dinyz\\Dinesh Ram\\Pycharm - Projects\\Wildlife Animal Detection\\YOLO model\n"
     ]
    },
    {
     "name": "stderr",
     "output_type": "stream",
     "text": [
      "C:\\Users\\dinyz\\Dinesh Ram\\Pycharm - Projects\\Wildlife Animal Detection\\.venv\\lib\\site-packages\\IPython\\core\\magics\\osm.py:417: UserWarning: This is now an optional IPython functionality, setting dhist requires you to install the `pickleshare` library.\n",
      "  self.shell.db['dhist'] = compress_dhist(dhist)[-100:]\n"
     ]
    }
   ],
   "source": [
    "%cd C:\\Users\\dinyz\\Dinesh Ram\\Pycharm - Projects\\Wildlife Animal Detection\\YOLO model"
   ]
  },
  {
   "cell_type": "code",
   "execution_count": 8,
   "id": "cac4fc4e-ee8c-4857-9c48-f7a7afc2b472",
   "metadata": {},
   "outputs": [
    {
     "name": "stdout",
     "output_type": "stream",
     "text": [
      " Volume in drive C is Windows\n",
      " Volume Serial Number is 2890-EBDB\n",
      "\n",
      " Directory of C:\\Users\\dinyz\\Dinesh Ram\\Pycharm - Projects\\Wildlife Animal Detection\\YOLO model\n",
      "\n",
      "25-03-2025  14:07    <DIR>          .\n",
      "25-03-2025  11:07    <DIR>          ..\n",
      "21-03-2025  09:31    <DIR>          .ipynb_checkpoints\n",
      "25-03-2025  13:53               618 data.yaml\n",
      "25-03-2025  13:49    <DIR>          Wildlife_monitoring-1\n",
      "21-03-2025  15:08         6,549,796 yolov8n.pt\n",
      "25-03-2025  14:07           135,392 yolo_pre_trained_model.ipynb\n",
      "               3 File(s)      6,685,806 bytes\n",
      "               4 Dir(s)  118,929,534,976 bytes free\n"
     ]
    }
   ],
   "source": [
    "!dir"
   ]
  },
  {
   "cell_type": "code",
   "execution_count": 9,
   "id": "8a91b390-9082-4198-a0ea-76cc766b8bec",
   "metadata": {},
   "outputs": [],
   "source": [
    "import torch\n",
    "torch.cuda.empty_cache()"
   ]
  },
  {
   "cell_type": "code",
   "execution_count": 10,
   "id": "b87dc889-b63e-4a08-8f30-825effd0fe03",
   "metadata": {},
   "outputs": [],
   "source": [
    "from ultralytics import YOLO\n",
    "\n",
    "# Load a model\n",
    "model = YOLO(\"yolov8n.pt\")"
   ]
  },
  {
   "cell_type": "code",
   "execution_count": null,
   "id": "e33338ab-c7bc-4182-a30d-c7ca9dbf617c",
   "metadata": {},
   "outputs": [
    {
     "name": "stdout",
     "output_type": "stream",
     "text": [
      "New https://pypi.org/project/ultralytics/8.3.96 available  Update with 'pip install -U ultralytics'\n",
      "Ultralytics 8.3.94  Python-3.10.11 torch-2.6.0+cu126 CUDA:0 (NVIDIA GeForce GTX 1650, 4096MiB)\n",
      "\u001b[34m\u001b[1mengine\\trainer: \u001b[0mtask=detect, mode=train, model=yolov8n.pt, data=C:\\Users\\dinyz\\Dinesh Ram\\Pycharm - Projects\\Wildlife Animal Detection\\YOLO model\\data.yaml, epochs=25, time=None, patience=100, batch=16, imgsz=416, save=True, save_period=-1, cache=False, device=0, workers=8, project=None, name=train4, exist_ok=False, pretrained=True, optimizer=auto, verbose=True, seed=0, deterministic=True, single_cls=False, rect=False, cos_lr=False, close_mosaic=10, resume=False, amp=True, fraction=1.0, profile=False, freeze=None, multi_scale=False, overlap_mask=True, mask_ratio=4, dropout=0.0, val=True, split=val, save_json=False, save_hybrid=False, conf=None, iou=0.7, max_det=300, half=False, dnn=False, plots=True, source=None, vid_stride=1, stream_buffer=False, visualize=False, augment=False, agnostic_nms=False, classes=None, retina_masks=False, embed=None, show=False, save_frames=False, save_txt=False, save_conf=False, save_crop=False, show_labels=True, show_conf=True, show_boxes=True, line_width=None, format=torchscript, keras=False, optimize=False, int8=False, dynamic=False, simplify=True, opset=None, workspace=None, nms=False, lr0=0.01, lrf=0.01, momentum=0.937, weight_decay=0.0005, warmup_epochs=3.0, warmup_momentum=0.8, warmup_bias_lr=0.1, box=7.5, cls=0.5, dfl=1.5, pose=12.0, kobj=1.0, nbs=64, hsv_h=0.015, hsv_s=0.7, hsv_v=0.4, degrees=0.0, translate=0.1, scale=0.5, shear=0.0, perspective=0.0, flipud=0.0, fliplr=0.5, bgr=0.0, mosaic=1.0, mixup=0.0, copy_paste=0.0, copy_paste_mode=flip, auto_augment=randaugment, erasing=0.4, crop_fraction=1.0, cfg=None, tracker=botsort.yaml, save_dir=C:\\Users\\dinyz\\runs\\detect\\train4\n",
      "Overriding model.yaml nc=80 with nc=2\n",
      "\n",
      "                   from  n    params  module                                       arguments                     \n",
      "  0                  -1  1       464  ultralytics.nn.modules.conv.Conv             [3, 16, 3, 2]                 \n",
      "  1                  -1  1      4672  ultralytics.nn.modules.conv.Conv             [16, 32, 3, 2]                \n",
      "  2                  -1  1      7360  ultralytics.nn.modules.block.C2f             [32, 32, 1, True]             \n",
      "  3                  -1  1     18560  ultralytics.nn.modules.conv.Conv             [32, 64, 3, 2]                \n",
      "  4                  -1  2     49664  ultralytics.nn.modules.block.C2f             [64, 64, 2, True]             \n",
      "  5                  -1  1     73984  ultralytics.nn.modules.conv.Conv             [64, 128, 3, 2]               \n",
      "  6                  -1  2    197632  ultralytics.nn.modules.block.C2f             [128, 128, 2, True]           \n",
      "  7                  -1  1    295424  ultralytics.nn.modules.conv.Conv             [128, 256, 3, 2]              \n",
      "  8                  -1  1    460288  ultralytics.nn.modules.block.C2f             [256, 256, 1, True]           \n",
      "  9                  -1  1    164608  ultralytics.nn.modules.block.SPPF            [256, 256, 5]                 \n",
      " 10                  -1  1         0  torch.nn.modules.upsampling.Upsample         [None, 2, 'nearest']          \n",
      " 11             [-1, 6]  1         0  ultralytics.nn.modules.conv.Concat           [1]                           \n",
      " 12                  -1  1    148224  ultralytics.nn.modules.block.C2f             [384, 128, 1]                 \n",
      " 13                  -1  1         0  torch.nn.modules.upsampling.Upsample         [None, 2, 'nearest']          \n",
      " 14             [-1, 4]  1         0  ultralytics.nn.modules.conv.Concat           [1]                           \n",
      " 15                  -1  1     37248  ultralytics.nn.modules.block.C2f             [192, 64, 1]                  \n",
      " 16                  -1  1     36992  ultralytics.nn.modules.conv.Conv             [64, 64, 3, 2]                \n",
      " 17            [-1, 12]  1         0  ultralytics.nn.modules.conv.Concat           [1]                           \n",
      " 18                  -1  1    123648  ultralytics.nn.modules.block.C2f             [192, 128, 1]                 \n",
      " 19                  -1  1    147712  ultralytics.nn.modules.conv.Conv             [128, 128, 3, 2]              \n",
      " 20             [-1, 9]  1         0  ultralytics.nn.modules.conv.Concat           [1]                           \n",
      " 21                  -1  1    493056  ultralytics.nn.modules.block.C2f             [384, 256, 1]                 \n",
      " 22        [15, 18, 21]  1    751702  ultralytics.nn.modules.head.Detect           [2, [64, 128, 256]]           \n",
      "Model summary: 129 layers, 3,011,238 parameters, 3,011,222 gradients, 8.2 GFLOPs\n",
      "\n",
      "Transferred 319/355 items from pretrained weights\n",
      "Freezing layer 'model.22.dfl.conv.weight'\n",
      "\u001b[34m\u001b[1mAMP: \u001b[0mchecks failed . AMP training on NVIDIA GeForce GTX 1650 GPU may cause NaN losses or zero-mAP results, so AMP will be disabled during training.\n"
     ]
    },
    {
     "name": "stderr",
     "output_type": "stream",
     "text": [
      "\u001b[34m\u001b[1mtrain: \u001b[0mScanning C:\\Users\\dinyz\\Dinesh Ram\\Pycharm - Projects\\Wildlife Animal Detection\\YOLO model\\Wildlife_monitoring-1\\roboflow\\train\\labels.cache... 2034 images, 0 backgrounds, \u001b[0m\n",
      "\u001b[34m\u001b[1mval: \u001b[0mScanning C:\\Users\\dinyz\\Dinesh Ram\\Pycharm - Projects\\Wildlife Animal Detection\\YOLO model\\Wildlife_monitoring-1\\roboflow\\valid\\labels.cache... 204 images, 0 backgrounds, 0 c\u001b[0m\n"
     ]
    },
    {
     "name": "stdout",
     "output_type": "stream",
     "text": [
      "Plotting labels to C:\\Users\\dinyz\\runs\\detect\\train4\\labels.jpg... \n",
      "\u001b[34m\u001b[1moptimizer:\u001b[0m 'optimizer=auto' found, ignoring 'lr0=0.01' and 'momentum=0.937' and determining best 'optimizer', 'lr0' and 'momentum' automatically... \n",
      "\u001b[34m\u001b[1moptimizer:\u001b[0m AdamW(lr=0.001667, momentum=0.9) with parameter groups 57 weight(decay=0.0), 64 weight(decay=0.0005), 63 bias(decay=0.0)\n",
      "Image sizes 416 train, 416 val\n",
      "Using 8 dataloader workers\n",
      "Logging results to \u001b[1mC:\\Users\\dinyz\\runs\\detect\\train4\u001b[0m\n",
      "Starting training for 25 epochs...\n",
      "\n",
      "      Epoch    GPU_mem   box_loss   cls_loss   dfl_loss  Instances       Size\n"
     ]
    },
    {
     "name": "stderr",
     "output_type": "stream",
     "text": [
      "       1/25      1.87G      1.913      1.991      1.507         14        416: 100%|██████████| 128/128 [00:32<00:00,  3.91it/s]\n",
      "                 Class     Images  Instances      Box(P          R      mAP50  mAP50-95): 100%|██████████| 7/7 [00:03<00:00,  1.86it/s]\n"
     ]
    },
    {
     "name": "stdout",
     "output_type": "stream",
     "text": [
      "                   all        204        985      0.726      0.603      0.663      0.271\n",
      "\n",
      "      Epoch    GPU_mem   box_loss   cls_loss   dfl_loss  Instances       Size\n"
     ]
    },
    {
     "name": "stderr",
     "output_type": "stream",
     "text": [
      "       2/25      1.97G      1.847      1.521      1.455          6        416: 100%|██████████| 128/128 [00:28<00:00,  4.43it/s]\n",
      "                 Class     Images  Instances      Box(P          R      mAP50  mAP50-95): 100%|██████████| 7/7 [00:02<00:00,  3.41it/s]"
     ]
    },
    {
     "name": "stdout",
     "output_type": "stream",
     "text": [
      "                   all        204        985      0.658      0.568      0.618      0.274\n"
     ]
    },
    {
     "name": "stderr",
     "output_type": "stream",
     "text": [
      "\n"
     ]
    },
    {
     "name": "stdout",
     "output_type": "stream",
     "text": [
      "\n",
      "      Epoch    GPU_mem   box_loss   cls_loss   dfl_loss  Instances       Size\n"
     ]
    },
    {
     "name": "stderr",
     "output_type": "stream",
     "text": [
      "       3/25         2G      1.843      1.447      1.475         10        416: 100%|██████████| 128/128 [00:28<00:00,  4.51it/s]\n",
      "                 Class     Images  Instances      Box(P          R      mAP50  mAP50-95): 100%|██████████| 7/7 [00:02<00:00,  3.49it/s]"
     ]
    },
    {
     "name": "stdout",
     "output_type": "stream",
     "text": [
      "                   all        204        985      0.695       0.65       0.67      0.303\n"
     ]
    },
    {
     "name": "stderr",
     "output_type": "stream",
     "text": [
      "\n"
     ]
    },
    {
     "name": "stdout",
     "output_type": "stream",
     "text": [
      "\n",
      "      Epoch    GPU_mem   box_loss   cls_loss   dfl_loss  Instances       Size\n"
     ]
    },
    {
     "name": "stderr",
     "output_type": "stream",
     "text": [
      "       4/25      2.01G      1.812       1.33      1.458         14        416: 100%|██████████| 128/128 [00:29<00:00,  4.38it/s]\n",
      "                 Class     Images  Instances      Box(P          R      mAP50  mAP50-95): 100%|██████████| 7/7 [00:01<00:00,  3.55it/s]"
     ]
    },
    {
     "name": "stdout",
     "output_type": "stream",
     "text": [
      "                   all        204        985       0.76      0.633      0.703      0.317\n"
     ]
    },
    {
     "name": "stderr",
     "output_type": "stream",
     "text": [
      "\n"
     ]
    },
    {
     "name": "stdout",
     "output_type": "stream",
     "text": [
      "\n",
      "      Epoch    GPU_mem   box_loss   cls_loss   dfl_loss  Instances       Size\n"
     ]
    },
    {
     "name": "stderr",
     "output_type": "stream",
     "text": [
      "       5/25      2.03G      1.773      1.262      1.428         27        416: 100%|██████████| 128/128 [00:28<00:00,  4.44it/s]\n",
      "                 Class     Images  Instances      Box(P          R      mAP50  mAP50-95): 100%|██████████| 7/7 [00:02<00:00,  3.03it/s]"
     ]
    },
    {
     "name": "stdout",
     "output_type": "stream",
     "text": [
      "                   all        204        985      0.778      0.683      0.742      0.328\n"
     ]
    },
    {
     "name": "stderr",
     "output_type": "stream",
     "text": [
      "\n"
     ]
    },
    {
     "name": "stdout",
     "output_type": "stream",
     "text": [
      "\n",
      "      Epoch    GPU_mem   box_loss   cls_loss   dfl_loss  Instances       Size\n"
     ]
    },
    {
     "name": "stderr",
     "output_type": "stream",
     "text": [
      "       6/25      2.05G      1.727      1.215       1.41          5        416: 100%|██████████| 128/128 [00:28<00:00,  4.51it/s]\n",
      "                 Class     Images  Instances      Box(P          R      mAP50  mAP50-95): 100%|██████████| 7/7 [00:02<00:00,  3.32it/s]"
     ]
    },
    {
     "name": "stdout",
     "output_type": "stream",
     "text": [
      "                   all        204        985      0.832      0.714      0.781      0.385\n"
     ]
    },
    {
     "name": "stderr",
     "output_type": "stream",
     "text": [
      "\n"
     ]
    },
    {
     "name": "stdout",
     "output_type": "stream",
     "text": [
      "\n",
      "      Epoch    GPU_mem   box_loss   cls_loss   dfl_loss  Instances       Size\n"
     ]
    },
    {
     "name": "stderr",
     "output_type": "stream",
     "text": [
      "       7/25      2.06G       1.71      1.179      1.405          7        416: 100%|██████████| 128/128 [00:28<00:00,  4.55it/s]\n",
      "                 Class     Images  Instances      Box(P          R      mAP50  mAP50-95): 100%|██████████| 7/7 [00:02<00:00,  3.06it/s]"
     ]
    },
    {
     "name": "stdout",
     "output_type": "stream",
     "text": [
      "                   all        204        985      0.804      0.714      0.764      0.367\n"
     ]
    },
    {
     "name": "stderr",
     "output_type": "stream",
     "text": [
      "\n"
     ]
    },
    {
     "name": "stdout",
     "output_type": "stream",
     "text": [
      "\n",
      "      Epoch    GPU_mem   box_loss   cls_loss   dfl_loss  Instances       Size\n"
     ]
    },
    {
     "name": "stderr",
     "output_type": "stream",
     "text": [
      "       8/25      2.08G        1.7      1.125      1.372         13        416: 100%|██████████| 128/128 [00:28<00:00,  4.50it/s]\n",
      "                 Class     Images  Instances      Box(P          R      mAP50  mAP50-95): 100%|██████████| 7/7 [00:02<00:00,  3.21it/s]"
     ]
    },
    {
     "name": "stdout",
     "output_type": "stream",
     "text": [
      "                   all        204        985      0.808      0.703      0.762      0.367\n"
     ]
    },
    {
     "name": "stderr",
     "output_type": "stream",
     "text": [
      "\n"
     ]
    },
    {
     "name": "stdout",
     "output_type": "stream",
     "text": [
      "\n",
      "      Epoch    GPU_mem   box_loss   cls_loss   dfl_loss  Instances       Size\n"
     ]
    },
    {
     "name": "stderr",
     "output_type": "stream",
     "text": [
      "       9/25       2.1G      1.656      1.078      1.358          3        416: 100%|██████████| 128/128 [00:28<00:00,  4.47it/s]\n",
      "                 Class     Images  Instances      Box(P          R      mAP50  mAP50-95): 100%|██████████| 7/7 [00:02<00:00,  2.95it/s]"
     ]
    },
    {
     "name": "stdout",
     "output_type": "stream",
     "text": [
      "                   all        204        985      0.847       0.74      0.796      0.381\n"
     ]
    },
    {
     "name": "stderr",
     "output_type": "stream",
     "text": [
      "\n"
     ]
    },
    {
     "name": "stdout",
     "output_type": "stream",
     "text": [
      "\n",
      "      Epoch    GPU_mem   box_loss   cls_loss   dfl_loss  Instances       Size\n"
     ]
    },
    {
     "name": "stderr",
     "output_type": "stream",
     "text": [
      "      10/25       2.1G      1.663      1.063      1.359          6        416: 100%|██████████| 128/128 [00:28<00:00,  4.42it/s]\n",
      "                 Class     Images  Instances      Box(P          R      mAP50  mAP50-95): 100%|██████████| 7/7 [00:02<00:00,  3.14it/s]"
     ]
    },
    {
     "name": "stdout",
     "output_type": "stream",
     "text": [
      "                   all        204        985      0.868      0.772      0.829      0.418\n"
     ]
    },
    {
     "name": "stderr",
     "output_type": "stream",
     "text": [
      "\n"
     ]
    },
    {
     "name": "stdout",
     "output_type": "stream",
     "text": [
      "\n",
      "      Epoch    GPU_mem   box_loss   cls_loss   dfl_loss  Instances       Size\n"
     ]
    },
    {
     "name": "stderr",
     "output_type": "stream",
     "text": [
      "      11/25       2.1G      1.631      1.041      1.368          4        416: 100%|██████████| 128/128 [00:28<00:00,  4.48it/s]\n",
      "                 Class     Images  Instances      Box(P          R      mAP50  mAP50-95): 100%|██████████| 7/7 [00:02<00:00,  3.47it/s]"
     ]
    },
    {
     "name": "stdout",
     "output_type": "stream",
     "text": [
      "                   all        204        985      0.839      0.737      0.807      0.404\n"
     ]
    },
    {
     "name": "stderr",
     "output_type": "stream",
     "text": [
      "\n"
     ]
    },
    {
     "name": "stdout",
     "output_type": "stream",
     "text": [
      "\n",
      "      Epoch    GPU_mem   box_loss   cls_loss   dfl_loss  Instances       Size\n"
     ]
    },
    {
     "name": "stderr",
     "output_type": "stream",
     "text": [
      "      12/25       2.1G      1.617     0.9979      1.337          7        416: 100%|██████████| 128/128 [00:28<00:00,  4.46it/s]\n",
      "                 Class     Images  Instances      Box(P          R      mAP50  mAP50-95): 100%|██████████| 7/7 [00:02<00:00,  3.42it/s]"
     ]
    },
    {
     "name": "stdout",
     "output_type": "stream",
     "text": [
      "                   all        204        985       0.84      0.728      0.793      0.389\n"
     ]
    },
    {
     "name": "stderr",
     "output_type": "stream",
     "text": [
      "\n"
     ]
    },
    {
     "name": "stdout",
     "output_type": "stream",
     "text": [
      "\n",
      "      Epoch    GPU_mem   box_loss   cls_loss   dfl_loss  Instances       Size\n"
     ]
    },
    {
     "name": "stderr",
     "output_type": "stream",
     "text": [
      "      13/25       2.1G      1.609      0.979      1.316         13        416: 100%|██████████| 128/128 [00:28<00:00,  4.42it/s]\n",
      "                 Class     Images  Instances      Box(P          R      mAP50  mAP50-95): 100%|██████████| 7/7 [00:01<00:00,  3.73it/s]"
     ]
    },
    {
     "name": "stdout",
     "output_type": "stream",
     "text": [
      "                   all        204        985      0.875       0.77       0.83      0.444\n"
     ]
    },
    {
     "name": "stderr",
     "output_type": "stream",
     "text": [
      "\n"
     ]
    },
    {
     "name": "stdout",
     "output_type": "stream",
     "text": [
      "\n",
      "      Epoch    GPU_mem   box_loss   cls_loss   dfl_loss  Instances       Size\n"
     ]
    },
    {
     "name": "stderr",
     "output_type": "stream",
     "text": [
      "      14/25       2.1G      1.564     0.9587      1.315          4        416: 100%|██████████| 128/128 [00:29<00:00,  4.41it/s]\n",
      "                 Class     Images  Instances      Box(P          R      mAP50  mAP50-95): 100%|██████████| 7/7 [00:02<00:00,  3.40it/s]"
     ]
    },
    {
     "name": "stdout",
     "output_type": "stream",
     "text": [
      "                   all        204        985      0.875      0.778      0.839      0.428\n"
     ]
    },
    {
     "name": "stderr",
     "output_type": "stream",
     "text": [
      "\n"
     ]
    },
    {
     "name": "stdout",
     "output_type": "stream",
     "text": [
      "\n",
      "      Epoch    GPU_mem   box_loss   cls_loss   dfl_loss  Instances       Size\n"
     ]
    },
    {
     "name": "stderr",
     "output_type": "stream",
     "text": [
      "      15/25       2.1G      1.549     0.9241      1.293          7        416: 100%|██████████| 128/128 [00:28<00:00,  4.53it/s]\n",
      "                 Class     Images  Instances      Box(P          R      mAP50  mAP50-95): 100%|██████████| 7/7 [00:02<00:00,  3.33it/s]"
     ]
    },
    {
     "name": "stdout",
     "output_type": "stream",
     "text": [
      "                   all        204        985      0.865      0.777       0.83      0.447\n"
     ]
    },
    {
     "name": "stderr",
     "output_type": "stream",
     "text": [
      "\n"
     ]
    },
    {
     "name": "stdout",
     "output_type": "stream",
     "text": [
      "Closing dataloader mosaic\n"
     ]
    }
   ],
   "source": [
    "\n",
    "# Train the model\n",
    "train_results = model.train(\n",
    "    data=r\"C:\\Users\\dinyz\\Dinesh Ram\\Pycharm - Projects\\Wildlife Animal Detection\\YOLO model\\data.yaml\",  # path to dataset YAML\n",
    "    epochs=25,  # number of training epochs\n",
    "    imgsz=416,  # training image size\n",
    "    device=0,  # device to run on, i.e. device=0 or device=0,1,2,3 or device=cpu\n",
    ")"
   ]
  },
  {
   "cell_type": "code",
   "execution_count": 33,
   "id": "fc4de243-1180-4878-9008-314bccbcb62a",
   "metadata": {},
   "outputs": [
    {
     "name": "stdout",
     "output_type": "stream",
     "text": [
      "\n",
      "0: 416x416 13 0s, 33.4ms\n",
      "Speed: 5.5ms preprocess, 33.4ms inference, 27.5ms postprocess per image at shape (1, 3, 416, 416)\n"
     ]
    }
   ],
   "source": [
    "import cv2\n",
    "# Load a model\n",
    "model = YOLO(r\"C:\\Users\\dinyz\\runs\\detect\\train26\\weights\\best.pt\")\n",
    "\n",
    "# Perform object detection on an image\n",
    "test_image = cv2.imread(r\"C:\\Users\\dinyz\\Dinesh Ram\\Pycharm - Projects\\Wildlife Animal Detection\\test_images\\cow_cow.webp\")\n",
    "test_image_resized = cv2.resize(test_image, (416, 416))\n",
    "results = model(test_image_resized)\n",
    "results[0].show()"
   ]
  },
  {
   "cell_type": "code",
   "execution_count": 37,
   "id": "a68d41e2-9ed3-4c46-9ce0-0943f721a8ca",
   "metadata": {},
   "outputs": [
    {
     "name": "stdout",
     "output_type": "stream",
     "text": [
      "\n",
      "\n",
      "WARNING  inference results will accumulate in RAM unless `stream=True` is passed, causing potential out-of-memory\n",
      "errors for large sources or long-running streams and videos. See https://docs.ultralytics.com/modes/predict/ for help.\n",
      "\n",
      "Example:\n",
      "    results = model(source=..., stream=True)  # generator of Results objects\n",
      "    for r in results:\n",
      "        boxes = r.boxes  # Boxes object for bbox outputs\n",
      "        masks = r.masks  # Masks object for segment masks outputs\n",
      "        probs = r.probs  # Class probabilities for classification outputs\n",
      "\n",
      "video 1/1 (frame 1/644) C:\\Users\\dinyz\\Dinesh Ram\\Pycharm - Projects\\Wildlife Animal Detection\\test_videos\\cow_video.mp4: 256x416 15 0s, 35.6ms\n",
      "video 1/1 (frame 2/644) C:\\Users\\dinyz\\Dinesh Ram\\Pycharm - Projects\\Wildlife Animal Detection\\test_videos\\cow_video.mp4: 256x416 16 0s, 22.6ms\n",
      "video 1/1 (frame 3/644) C:\\Users\\dinyz\\Dinesh Ram\\Pycharm - Projects\\Wildlife Animal Detection\\test_videos\\cow_video.mp4: 256x416 18 0s, 21.8ms\n",
      "video 1/1 (frame 4/644) C:\\Users\\dinyz\\Dinesh Ram\\Pycharm - Projects\\Wildlife Animal Detection\\test_videos\\cow_video.mp4: 256x416 17 0s, 21.9ms\n",
      "video 1/1 (frame 5/644) C:\\Users\\dinyz\\Dinesh Ram\\Pycharm - Projects\\Wildlife Animal Detection\\test_videos\\cow_video.mp4: 256x416 19 0s, 21.8ms\n",
      "video 1/1 (frame 6/644) C:\\Users\\dinyz\\Dinesh Ram\\Pycharm - Projects\\Wildlife Animal Detection\\test_videos\\cow_video.mp4: 256x416 16 0s, 21.2ms\n",
      "video 1/1 (frame 7/644) C:\\Users\\dinyz\\Dinesh Ram\\Pycharm - Projects\\Wildlife Animal Detection\\test_videos\\cow_video.mp4: 256x416 14 0s, 20.5ms\n",
      "video 1/1 (frame 8/644) C:\\Users\\dinyz\\Dinesh Ram\\Pycharm - Projects\\Wildlife Animal Detection\\test_videos\\cow_video.mp4: 256x416 16 0s, 20.6ms\n",
      "video 1/1 (frame 9/644) C:\\Users\\dinyz\\Dinesh Ram\\Pycharm - Projects\\Wildlife Animal Detection\\test_videos\\cow_video.mp4: 256x416 14 0s, 20.4ms\n",
      "video 1/1 (frame 10/644) C:\\Users\\dinyz\\Dinesh Ram\\Pycharm - Projects\\Wildlife Animal Detection\\test_videos\\cow_video.mp4: 256x416 15 0s, 20.6ms\n",
      "video 1/1 (frame 11/644) C:\\Users\\dinyz\\Dinesh Ram\\Pycharm - Projects\\Wildlife Animal Detection\\test_videos\\cow_video.mp4: 256x416 16 0s, 20.6ms\n",
      "video 1/1 (frame 12/644) C:\\Users\\dinyz\\Dinesh Ram\\Pycharm - Projects\\Wildlife Animal Detection\\test_videos\\cow_video.mp4: 256x416 15 0s, 11.6ms\n",
      "video 1/1 (frame 13/644) C:\\Users\\dinyz\\Dinesh Ram\\Pycharm - Projects\\Wildlife Animal Detection\\test_videos\\cow_video.mp4: 256x416 16 0s, 12.1ms\n",
      "video 1/1 (frame 14/644) C:\\Users\\dinyz\\Dinesh Ram\\Pycharm - Projects\\Wildlife Animal Detection\\test_videos\\cow_video.mp4: 256x416 16 0s, 10.3ms\n",
      "video 1/1 (frame 15/644) C:\\Users\\dinyz\\Dinesh Ram\\Pycharm - Projects\\Wildlife Animal Detection\\test_videos\\cow_video.mp4: 256x416 15 0s, 12.5ms\n",
      "video 1/1 (frame 16/644) C:\\Users\\dinyz\\Dinesh Ram\\Pycharm - Projects\\Wildlife Animal Detection\\test_videos\\cow_video.mp4: 256x416 16 0s, 11.8ms\n",
      "video 1/1 (frame 17/644) C:\\Users\\dinyz\\Dinesh Ram\\Pycharm - Projects\\Wildlife Animal Detection\\test_videos\\cow_video.mp4: 256x416 15 0s, 14.2ms\n",
      "video 1/1 (frame 18/644) C:\\Users\\dinyz\\Dinesh Ram\\Pycharm - Projects\\Wildlife Animal Detection\\test_videos\\cow_video.mp4: 256x416 15 0s, 15.2ms\n",
      "video 1/1 (frame 19/644) C:\\Users\\dinyz\\Dinesh Ram\\Pycharm - Projects\\Wildlife Animal Detection\\test_videos\\cow_video.mp4: 256x416 14 0s, 16.7ms\n",
      "video 1/1 (frame 20/644) C:\\Users\\dinyz\\Dinesh Ram\\Pycharm - Projects\\Wildlife Animal Detection\\test_videos\\cow_video.mp4: 256x416 12 0s, 11.2ms\n",
      "video 1/1 (frame 21/644) C:\\Users\\dinyz\\Dinesh Ram\\Pycharm - Projects\\Wildlife Animal Detection\\test_videos\\cow_video.mp4: 256x416 13 0s, 12.8ms\n",
      "video 1/1 (frame 22/644) C:\\Users\\dinyz\\Dinesh Ram\\Pycharm - Projects\\Wildlife Animal Detection\\test_videos\\cow_video.mp4: 256x416 16 0s, 10.1ms\n",
      "video 1/1 (frame 23/644) C:\\Users\\dinyz\\Dinesh Ram\\Pycharm - Projects\\Wildlife Animal Detection\\test_videos\\cow_video.mp4: 256x416 17 0s, 14.9ms\n",
      "video 1/1 (frame 24/644) C:\\Users\\dinyz\\Dinesh Ram\\Pycharm - Projects\\Wildlife Animal Detection\\test_videos\\cow_video.mp4: 256x416 19 0s, 14.7ms\n",
      "video 1/1 (frame 25/644) C:\\Users\\dinyz\\Dinesh Ram\\Pycharm - Projects\\Wildlife Animal Detection\\test_videos\\cow_video.mp4: 256x416 18 0s, 15.0ms\n",
      "video 1/1 (frame 26/644) C:\\Users\\dinyz\\Dinesh Ram\\Pycharm - Projects\\Wildlife Animal Detection\\test_videos\\cow_video.mp4: 256x416 18 0s, 12.1ms\n",
      "video 1/1 (frame 27/644) C:\\Users\\dinyz\\Dinesh Ram\\Pycharm - Projects\\Wildlife Animal Detection\\test_videos\\cow_video.mp4: 256x416 18 0s, 9.5ms\n",
      "video 1/1 (frame 28/644) C:\\Users\\dinyz\\Dinesh Ram\\Pycharm - Projects\\Wildlife Animal Detection\\test_videos\\cow_video.mp4: 256x416 18 0s, 12.5ms\n",
      "video 1/1 (frame 29/644) C:\\Users\\dinyz\\Dinesh Ram\\Pycharm - Projects\\Wildlife Animal Detection\\test_videos\\cow_video.mp4: 256x416 17 0s, 14.8ms\n",
      "video 1/1 (frame 30/644) C:\\Users\\dinyz\\Dinesh Ram\\Pycharm - Projects\\Wildlife Animal Detection\\test_videos\\cow_video.mp4: 256x416 16 0s, 12.9ms\n",
      "video 1/1 (frame 31/644) C:\\Users\\dinyz\\Dinesh Ram\\Pycharm - Projects\\Wildlife Animal Detection\\test_videos\\cow_video.mp4: 256x416 19 0s, 10.8ms\n",
      "video 1/1 (frame 32/644) C:\\Users\\dinyz\\Dinesh Ram\\Pycharm - Projects\\Wildlife Animal Detection\\test_videos\\cow_video.mp4: 256x416 20 0s, 11.9ms\n",
      "video 1/1 (frame 33/644) C:\\Users\\dinyz\\Dinesh Ram\\Pycharm - Projects\\Wildlife Animal Detection\\test_videos\\cow_video.mp4: 256x416 20 0s, 9.8ms\n",
      "video 1/1 (frame 34/644) C:\\Users\\dinyz\\Dinesh Ram\\Pycharm - Projects\\Wildlife Animal Detection\\test_videos\\cow_video.mp4: 256x416 19 0s, 12.6ms\n",
      "video 1/1 (frame 35/644) C:\\Users\\dinyz\\Dinesh Ram\\Pycharm - Projects\\Wildlife Animal Detection\\test_videos\\cow_video.mp4: 256x416 20 0s, 10.8ms\n",
      "video 1/1 (frame 36/644) C:\\Users\\dinyz\\Dinesh Ram\\Pycharm - Projects\\Wildlife Animal Detection\\test_videos\\cow_video.mp4: 256x416 19 0s, 10.6ms\n",
      "video 1/1 (frame 37/644) C:\\Users\\dinyz\\Dinesh Ram\\Pycharm - Projects\\Wildlife Animal Detection\\test_videos\\cow_video.mp4: 256x416 20 0s, 10.7ms\n",
      "video 1/1 (frame 38/644) C:\\Users\\dinyz\\Dinesh Ram\\Pycharm - Projects\\Wildlife Animal Detection\\test_videos\\cow_video.mp4: 256x416 20 0s, 12.2ms\n",
      "video 1/1 (frame 39/644) C:\\Users\\dinyz\\Dinesh Ram\\Pycharm - Projects\\Wildlife Animal Detection\\test_videos\\cow_video.mp4: 256x416 19 0s, 12.8ms\n",
      "video 1/1 (frame 40/644) C:\\Users\\dinyz\\Dinesh Ram\\Pycharm - Projects\\Wildlife Animal Detection\\test_videos\\cow_video.mp4: 256x416 16 0s, 15.0ms\n",
      "video 1/1 (frame 41/644) C:\\Users\\dinyz\\Dinesh Ram\\Pycharm - Projects\\Wildlife Animal Detection\\test_videos\\cow_video.mp4: 256x416 16 0s, 15.9ms\n",
      "video 1/1 (frame 42/644) C:\\Users\\dinyz\\Dinesh Ram\\Pycharm - Projects\\Wildlife Animal Detection\\test_videos\\cow_video.mp4: 256x416 17 0s, 14.2ms\n",
      "video 1/1 (frame 43/644) C:\\Users\\dinyz\\Dinesh Ram\\Pycharm - Projects\\Wildlife Animal Detection\\test_videos\\cow_video.mp4: 256x416 17 0s, 10.2ms\n",
      "video 1/1 (frame 44/644) C:\\Users\\dinyz\\Dinesh Ram\\Pycharm - Projects\\Wildlife Animal Detection\\test_videos\\cow_video.mp4: 256x416 18 0s, 11.2ms\n",
      "video 1/1 (frame 45/644) C:\\Users\\dinyz\\Dinesh Ram\\Pycharm - Projects\\Wildlife Animal Detection\\test_videos\\cow_video.mp4: 256x416 19 0s, 9.9ms\n",
      "video 1/1 (frame 46/644) C:\\Users\\dinyz\\Dinesh Ram\\Pycharm - Projects\\Wildlife Animal Detection\\test_videos\\cow_video.mp4: 256x416 17 0s, 11.8ms\n",
      "video 1/1 (frame 47/644) C:\\Users\\dinyz\\Dinesh Ram\\Pycharm - Projects\\Wildlife Animal Detection\\test_videos\\cow_video.mp4: 256x416 16 0s, 11.1ms\n",
      "video 1/1 (frame 48/644) C:\\Users\\dinyz\\Dinesh Ram\\Pycharm - Projects\\Wildlife Animal Detection\\test_videos\\cow_video.mp4: 256x416 17 0s, 12.5ms\n",
      "video 1/1 (frame 49/644) C:\\Users\\dinyz\\Dinesh Ram\\Pycharm - Projects\\Wildlife Animal Detection\\test_videos\\cow_video.mp4: 256x416 19 0s, 10.8ms\n",
      "video 1/1 (frame 50/644) C:\\Users\\dinyz\\Dinesh Ram\\Pycharm - Projects\\Wildlife Animal Detection\\test_videos\\cow_video.mp4: 256x416 20 0s, 11.0ms\n",
      "video 1/1 (frame 51/644) C:\\Users\\dinyz\\Dinesh Ram\\Pycharm - Projects\\Wildlife Animal Detection\\test_videos\\cow_video.mp4: 256x416 19 0s, 11.2ms\n",
      "video 1/1 (frame 52/644) C:\\Users\\dinyz\\Dinesh Ram\\Pycharm - Projects\\Wildlife Animal Detection\\test_videos\\cow_video.mp4: 256x416 17 0s, 12.4ms\n",
      "video 1/1 (frame 53/644) C:\\Users\\dinyz\\Dinesh Ram\\Pycharm - Projects\\Wildlife Animal Detection\\test_videos\\cow_video.mp4: 256x416 19 0s, 11.4ms\n",
      "video 1/1 (frame 54/644) C:\\Users\\dinyz\\Dinesh Ram\\Pycharm - Projects\\Wildlife Animal Detection\\test_videos\\cow_video.mp4: 256x416 15 0s, 11.5ms\n",
      "video 1/1 (frame 55/644) C:\\Users\\dinyz\\Dinesh Ram\\Pycharm - Projects\\Wildlife Animal Detection\\test_videos\\cow_video.mp4: 256x416 16 0s, 14.4ms\n",
      "video 1/1 (frame 56/644) C:\\Users\\dinyz\\Dinesh Ram\\Pycharm - Projects\\Wildlife Animal Detection\\test_videos\\cow_video.mp4: 256x416 17 0s, 12.3ms\n",
      "video 1/1 (frame 57/644) C:\\Users\\dinyz\\Dinesh Ram\\Pycharm - Projects\\Wildlife Animal Detection\\test_videos\\cow_video.mp4: 256x416 16 0s, 11.4ms\n",
      "video 1/1 (frame 58/644) C:\\Users\\dinyz\\Dinesh Ram\\Pycharm - Projects\\Wildlife Animal Detection\\test_videos\\cow_video.mp4: 256x416 19 0s, 13.8ms\n",
      "video 1/1 (frame 59/644) C:\\Users\\dinyz\\Dinesh Ram\\Pycharm - Projects\\Wildlife Animal Detection\\test_videos\\cow_video.mp4: 256x416 17 0s, 11.5ms\n",
      "video 1/1 (frame 60/644) C:\\Users\\dinyz\\Dinesh Ram\\Pycharm - Projects\\Wildlife Animal Detection\\test_videos\\cow_video.mp4: 256x416 16 0s, 12.5ms\n",
      "video 1/1 (frame 61/644) C:\\Users\\dinyz\\Dinesh Ram\\Pycharm - Projects\\Wildlife Animal Detection\\test_videos\\cow_video.mp4: 256x416 15 0s, 13.9ms\n",
      "video 1/1 (frame 62/644) C:\\Users\\dinyz\\Dinesh Ram\\Pycharm - Projects\\Wildlife Animal Detection\\test_videos\\cow_video.mp4: 256x416 18 0s, 14.5ms\n",
      "video 1/1 (frame 63/644) C:\\Users\\dinyz\\Dinesh Ram\\Pycharm - Projects\\Wildlife Animal Detection\\test_videos\\cow_video.mp4: 256x416 19 0s, 14.1ms\n",
      "video 1/1 (frame 64/644) C:\\Users\\dinyz\\Dinesh Ram\\Pycharm - Projects\\Wildlife Animal Detection\\test_videos\\cow_video.mp4: 256x416 18 0s, 10.7ms\n",
      "video 1/1 (frame 65/644) C:\\Users\\dinyz\\Dinesh Ram\\Pycharm - Projects\\Wildlife Animal Detection\\test_videos\\cow_video.mp4: 256x416 20 0s, 16.3ms\n",
      "video 1/1 (frame 66/644) C:\\Users\\dinyz\\Dinesh Ram\\Pycharm - Projects\\Wildlife Animal Detection\\test_videos\\cow_video.mp4: 256x416 23 0s, 11.2ms\n",
      "video 1/1 (frame 67/644) C:\\Users\\dinyz\\Dinesh Ram\\Pycharm - Projects\\Wildlife Animal Detection\\test_videos\\cow_video.mp4: 256x416 23 0s, 15.1ms\n",
      "video 1/1 (frame 68/644) C:\\Users\\dinyz\\Dinesh Ram\\Pycharm - Projects\\Wildlife Animal Detection\\test_videos\\cow_video.mp4: 256x416 23 0s, 13.0ms\n",
      "video 1/1 (frame 69/644) C:\\Users\\dinyz\\Dinesh Ram\\Pycharm - Projects\\Wildlife Animal Detection\\test_videos\\cow_video.mp4: 256x416 25 0s, 10.1ms\n",
      "video 1/1 (frame 70/644) C:\\Users\\dinyz\\Dinesh Ram\\Pycharm - Projects\\Wildlife Animal Detection\\test_videos\\cow_video.mp4: 256x416 21 0s, 12.0ms\n",
      "video 1/1 (frame 71/644) C:\\Users\\dinyz\\Dinesh Ram\\Pycharm - Projects\\Wildlife Animal Detection\\test_videos\\cow_video.mp4: 256x416 18 0s, 10.6ms\n",
      "video 1/1 (frame 72/644) C:\\Users\\dinyz\\Dinesh Ram\\Pycharm - Projects\\Wildlife Animal Detection\\test_videos\\cow_video.mp4: 256x416 17 0s, 12.5ms\n",
      "video 1/1 (frame 73/644) C:\\Users\\dinyz\\Dinesh Ram\\Pycharm - Projects\\Wildlife Animal Detection\\test_videos\\cow_video.mp4: 256x416 16 0s, 15.6ms\n",
      "video 1/1 (frame 74/644) C:\\Users\\dinyz\\Dinesh Ram\\Pycharm - Projects\\Wildlife Animal Detection\\test_videos\\cow_video.mp4: 256x416 16 0s, 11.1ms\n",
      "video 1/1 (frame 75/644) C:\\Users\\dinyz\\Dinesh Ram\\Pycharm - Projects\\Wildlife Animal Detection\\test_videos\\cow_video.mp4: 256x416 17 0s, 11.6ms\n",
      "video 1/1 (frame 76/644) C:\\Users\\dinyz\\Dinesh Ram\\Pycharm - Projects\\Wildlife Animal Detection\\test_videos\\cow_video.mp4: 256x416 21 0s, 14.1ms\n",
      "video 1/1 (frame 77/644) C:\\Users\\dinyz\\Dinesh Ram\\Pycharm - Projects\\Wildlife Animal Detection\\test_videos\\cow_video.mp4: 256x416 23 0s, 13.9ms\n",
      "video 1/1 (frame 78/644) C:\\Users\\dinyz\\Dinesh Ram\\Pycharm - Projects\\Wildlife Animal Detection\\test_videos\\cow_video.mp4: 256x416 19 0s, 10.1ms\n",
      "video 1/1 (frame 79/644) C:\\Users\\dinyz\\Dinesh Ram\\Pycharm - Projects\\Wildlife Animal Detection\\test_videos\\cow_video.mp4: 256x416 20 0s, 9.8ms\n",
      "video 1/1 (frame 80/644) C:\\Users\\dinyz\\Dinesh Ram\\Pycharm - Projects\\Wildlife Animal Detection\\test_videos\\cow_video.mp4: 256x416 20 0s, 14.0ms\n",
      "video 1/1 (frame 81/644) C:\\Users\\dinyz\\Dinesh Ram\\Pycharm - Projects\\Wildlife Animal Detection\\test_videos\\cow_video.mp4: 256x416 21 0s, 10.6ms\n",
      "video 1/1 (frame 82/644) C:\\Users\\dinyz\\Dinesh Ram\\Pycharm - Projects\\Wildlife Animal Detection\\test_videos\\cow_video.mp4: 256x416 20 0s, 12.4ms\n",
      "video 1/1 (frame 83/644) C:\\Users\\dinyz\\Dinesh Ram\\Pycharm - Projects\\Wildlife Animal Detection\\test_videos\\cow_video.mp4: 256x416 18 0s, 19.3ms\n",
      "video 1/1 (frame 84/644) C:\\Users\\dinyz\\Dinesh Ram\\Pycharm - Projects\\Wildlife Animal Detection\\test_videos\\cow_video.mp4: 256x416 18 0s, 12.3ms\n",
      "video 1/1 (frame 85/644) C:\\Users\\dinyz\\Dinesh Ram\\Pycharm - Projects\\Wildlife Animal Detection\\test_videos\\cow_video.mp4: 256x416 20 0s, 12.8ms\n",
      "video 1/1 (frame 86/644) C:\\Users\\dinyz\\Dinesh Ram\\Pycharm - Projects\\Wildlife Animal Detection\\test_videos\\cow_video.mp4: 256x416 21 0s, 11.3ms\n",
      "video 1/1 (frame 87/644) C:\\Users\\dinyz\\Dinesh Ram\\Pycharm - Projects\\Wildlife Animal Detection\\test_videos\\cow_video.mp4: 256x416 19 0s, 11.7ms\n",
      "video 1/1 (frame 88/644) C:\\Users\\dinyz\\Dinesh Ram\\Pycharm - Projects\\Wildlife Animal Detection\\test_videos\\cow_video.mp4: 256x416 24 0s, 20.1ms\n",
      "video 1/1 (frame 89/644) C:\\Users\\dinyz\\Dinesh Ram\\Pycharm - Projects\\Wildlife Animal Detection\\test_videos\\cow_video.mp4: 256x416 18 0s, 12.5ms\n",
      "video 1/1 (frame 90/644) C:\\Users\\dinyz\\Dinesh Ram\\Pycharm - Projects\\Wildlife Animal Detection\\test_videos\\cow_video.mp4: 256x416 19 0s, 15.5ms\n",
      "video 1/1 (frame 91/644) C:\\Users\\dinyz\\Dinesh Ram\\Pycharm - Projects\\Wildlife Animal Detection\\test_videos\\cow_video.mp4: 256x416 18 0s, 13.4ms\n",
      "video 1/1 (frame 92/644) C:\\Users\\dinyz\\Dinesh Ram\\Pycharm - Projects\\Wildlife Animal Detection\\test_videos\\cow_video.mp4: 256x416 20 0s, 12.7ms\n",
      "video 1/1 (frame 93/644) C:\\Users\\dinyz\\Dinesh Ram\\Pycharm - Projects\\Wildlife Animal Detection\\test_videos\\cow_video.mp4: 256x416 21 0s, 16.8ms\n",
      "video 1/1 (frame 94/644) C:\\Users\\dinyz\\Dinesh Ram\\Pycharm - Projects\\Wildlife Animal Detection\\test_videos\\cow_video.mp4: 256x416 20 0s, 13.4ms\n",
      "video 1/1 (frame 95/644) C:\\Users\\dinyz\\Dinesh Ram\\Pycharm - Projects\\Wildlife Animal Detection\\test_videos\\cow_video.mp4: 256x416 20 0s, 12.8ms\n",
      "video 1/1 (frame 96/644) C:\\Users\\dinyz\\Dinesh Ram\\Pycharm - Projects\\Wildlife Animal Detection\\test_videos\\cow_video.mp4: 256x416 21 0s, 12.5ms\n",
      "video 1/1 (frame 97/644) C:\\Users\\dinyz\\Dinesh Ram\\Pycharm - Projects\\Wildlife Animal Detection\\test_videos\\cow_video.mp4: 256x416 22 0s, 10.1ms\n",
      "video 1/1 (frame 98/644) C:\\Users\\dinyz\\Dinesh Ram\\Pycharm - Projects\\Wildlife Animal Detection\\test_videos\\cow_video.mp4: 256x416 19 0s, 12.0ms\n",
      "video 1/1 (frame 99/644) C:\\Users\\dinyz\\Dinesh Ram\\Pycharm - Projects\\Wildlife Animal Detection\\test_videos\\cow_video.mp4: 256x416 16 0s, 10.8ms\n",
      "video 1/1 (frame 100/644) C:\\Users\\dinyz\\Dinesh Ram\\Pycharm - Projects\\Wildlife Animal Detection\\test_videos\\cow_video.mp4: 256x416 17 0s, 23.1ms\n",
      "video 1/1 (frame 101/644) C:\\Users\\dinyz\\Dinesh Ram\\Pycharm - Projects\\Wildlife Animal Detection\\test_videos\\cow_video.mp4: 256x416 16 0s, 20.3ms\n",
      "video 1/1 (frame 102/644) C:\\Users\\dinyz\\Dinesh Ram\\Pycharm - Projects\\Wildlife Animal Detection\\test_videos\\cow_video.mp4: 256x416 18 0s, 12.3ms\n",
      "video 1/1 (frame 103/644) C:\\Users\\dinyz\\Dinesh Ram\\Pycharm - Projects\\Wildlife Animal Detection\\test_videos\\cow_video.mp4: 256x416 17 0s, 11.1ms\n",
      "video 1/1 (frame 104/644) C:\\Users\\dinyz\\Dinesh Ram\\Pycharm - Projects\\Wildlife Animal Detection\\test_videos\\cow_video.mp4: 256x416 16 0s, 17.5ms\n",
      "video 1/1 (frame 105/644) C:\\Users\\dinyz\\Dinesh Ram\\Pycharm - Projects\\Wildlife Animal Detection\\test_videos\\cow_video.mp4: 256x416 16 0s, 12.0ms\n",
      "video 1/1 (frame 106/644) C:\\Users\\dinyz\\Dinesh Ram\\Pycharm - Projects\\Wildlife Animal Detection\\test_videos\\cow_video.mp4: 256x416 14 0s, 19.3ms\n",
      "video 1/1 (frame 107/644) C:\\Users\\dinyz\\Dinesh Ram\\Pycharm - Projects\\Wildlife Animal Detection\\test_videos\\cow_video.mp4: 256x416 17 0s, 13.7ms\n",
      "video 1/1 (frame 108/644) C:\\Users\\dinyz\\Dinesh Ram\\Pycharm - Projects\\Wildlife Animal Detection\\test_videos\\cow_video.mp4: 256x416 18 0s, 14.0ms\n",
      "video 1/1 (frame 109/644) C:\\Users\\dinyz\\Dinesh Ram\\Pycharm - Projects\\Wildlife Animal Detection\\test_videos\\cow_video.mp4: 256x416 21 0s, 9.5ms\n",
      "video 1/1 (frame 110/644) C:\\Users\\dinyz\\Dinesh Ram\\Pycharm - Projects\\Wildlife Animal Detection\\test_videos\\cow_video.mp4: 256x416 18 0s, 14.1ms\n",
      "video 1/1 (frame 111/644) C:\\Users\\dinyz\\Dinesh Ram\\Pycharm - Projects\\Wildlife Animal Detection\\test_videos\\cow_video.mp4: 256x416 19 0s, 16.1ms\n",
      "video 1/1 (frame 112/644) C:\\Users\\dinyz\\Dinesh Ram\\Pycharm - Projects\\Wildlife Animal Detection\\test_videos\\cow_video.mp4: 256x416 19 0s, 13.8ms\n",
      "video 1/1 (frame 113/644) C:\\Users\\dinyz\\Dinesh Ram\\Pycharm - Projects\\Wildlife Animal Detection\\test_videos\\cow_video.mp4: 256x416 23 0s, 13.0ms\n",
      "video 1/1 (frame 114/644) C:\\Users\\dinyz\\Dinesh Ram\\Pycharm - Projects\\Wildlife Animal Detection\\test_videos\\cow_video.mp4: 256x416 19 0s, 19.7ms\n",
      "video 1/1 (frame 115/644) C:\\Users\\dinyz\\Dinesh Ram\\Pycharm - Projects\\Wildlife Animal Detection\\test_videos\\cow_video.mp4: 256x416 16 0s, 11.6ms\n",
      "video 1/1 (frame 116/644) C:\\Users\\dinyz\\Dinesh Ram\\Pycharm - Projects\\Wildlife Animal Detection\\test_videos\\cow_video.mp4: 256x416 23 0s, 23.2ms\n",
      "video 1/1 (frame 117/644) C:\\Users\\dinyz\\Dinesh Ram\\Pycharm - Projects\\Wildlife Animal Detection\\test_videos\\cow_video.mp4: 256x416 21 0s, 19.3ms\n",
      "video 1/1 (frame 118/644) C:\\Users\\dinyz\\Dinesh Ram\\Pycharm - Projects\\Wildlife Animal Detection\\test_videos\\cow_video.mp4: 256x416 26 0s, 19.0ms\n",
      "video 1/1 (frame 119/644) C:\\Users\\dinyz\\Dinesh Ram\\Pycharm - Projects\\Wildlife Animal Detection\\test_videos\\cow_video.mp4: 256x416 29 0s, 19.2ms\n",
      "video 1/1 (frame 120/644) C:\\Users\\dinyz\\Dinesh Ram\\Pycharm - Projects\\Wildlife Animal Detection\\test_videos\\cow_video.mp4: 256x416 23 0s, 20.2ms\n",
      "video 1/1 (frame 121/644) C:\\Users\\dinyz\\Dinesh Ram\\Pycharm - Projects\\Wildlife Animal Detection\\test_videos\\cow_video.mp4: 256x416 19 0s, 19.5ms\n",
      "video 1/1 (frame 122/644) C:\\Users\\dinyz\\Dinesh Ram\\Pycharm - Projects\\Wildlife Animal Detection\\test_videos\\cow_video.mp4: 256x416 15 0s, 11.7ms\n",
      "video 1/1 (frame 123/644) C:\\Users\\dinyz\\Dinesh Ram\\Pycharm - Projects\\Wildlife Animal Detection\\test_videos\\cow_video.mp4: 256x416 23 0s, 11.7ms\n",
      "video 1/1 (frame 124/644) C:\\Users\\dinyz\\Dinesh Ram\\Pycharm - Projects\\Wildlife Animal Detection\\test_videos\\cow_video.mp4: 256x416 23 0s, 12.4ms\n",
      "video 1/1 (frame 125/644) C:\\Users\\dinyz\\Dinesh Ram\\Pycharm - Projects\\Wildlife Animal Detection\\test_videos\\cow_video.mp4: 256x416 23 0s, 12.4ms\n",
      "video 1/1 (frame 126/644) C:\\Users\\dinyz\\Dinesh Ram\\Pycharm - Projects\\Wildlife Animal Detection\\test_videos\\cow_video.mp4: 256x416 24 0s, 12.2ms\n",
      "video 1/1 (frame 127/644) C:\\Users\\dinyz\\Dinesh Ram\\Pycharm - Projects\\Wildlife Animal Detection\\test_videos\\cow_video.mp4: 256x416 23 0s, 10.6ms\n",
      "video 1/1 (frame 128/644) C:\\Users\\dinyz\\Dinesh Ram\\Pycharm - Projects\\Wildlife Animal Detection\\test_videos\\cow_video.mp4: 256x416 23 0s, 11.7ms\n",
      "video 1/1 (frame 129/644) C:\\Users\\dinyz\\Dinesh Ram\\Pycharm - Projects\\Wildlife Animal Detection\\test_videos\\cow_video.mp4: 256x416 23 0s, 12.9ms\n",
      "video 1/1 (frame 130/644) C:\\Users\\dinyz\\Dinesh Ram\\Pycharm - Projects\\Wildlife Animal Detection\\test_videos\\cow_video.mp4: 256x416 24 0s, 13.9ms\n",
      "video 1/1 (frame 131/644) C:\\Users\\dinyz\\Dinesh Ram\\Pycharm - Projects\\Wildlife Animal Detection\\test_videos\\cow_video.mp4: 256x416 24 0s, 14.3ms\n",
      "video 1/1 (frame 132/644) C:\\Users\\dinyz\\Dinesh Ram\\Pycharm - Projects\\Wildlife Animal Detection\\test_videos\\cow_video.mp4: 256x416 28 0s, 15.2ms\n",
      "video 1/1 (frame 133/644) C:\\Users\\dinyz\\Dinesh Ram\\Pycharm - Projects\\Wildlife Animal Detection\\test_videos\\cow_video.mp4: 256x416 30 0s, 12.2ms\n",
      "video 1/1 (frame 134/644) C:\\Users\\dinyz\\Dinesh Ram\\Pycharm - Projects\\Wildlife Animal Detection\\test_videos\\cow_video.mp4: 256x416 28 0s, 10.7ms\n",
      "video 1/1 (frame 135/644) C:\\Users\\dinyz\\Dinesh Ram\\Pycharm - Projects\\Wildlife Animal Detection\\test_videos\\cow_video.mp4: 256x416 29 0s, 11.7ms\n",
      "video 1/1 (frame 136/644) C:\\Users\\dinyz\\Dinesh Ram\\Pycharm - Projects\\Wildlife Animal Detection\\test_videos\\cow_video.mp4: 256x416 27 0s, 10.8ms\n",
      "video 1/1 (frame 137/644) C:\\Users\\dinyz\\Dinesh Ram\\Pycharm - Projects\\Wildlife Animal Detection\\test_videos\\cow_video.mp4: 256x416 28 0s, 12.0ms\n",
      "video 1/1 (frame 138/644) C:\\Users\\dinyz\\Dinesh Ram\\Pycharm - Projects\\Wildlife Animal Detection\\test_videos\\cow_video.mp4: 256x416 32 0s, 10.7ms\n",
      "video 1/1 (frame 139/644) C:\\Users\\dinyz\\Dinesh Ram\\Pycharm - Projects\\Wildlife Animal Detection\\test_videos\\cow_video.mp4: 256x416 30 0s, 12.0ms\n",
      "video 1/1 (frame 140/644) C:\\Users\\dinyz\\Dinesh Ram\\Pycharm - Projects\\Wildlife Animal Detection\\test_videos\\cow_video.mp4: 256x416 27 0s, 10.9ms\n",
      "video 1/1 (frame 141/644) C:\\Users\\dinyz\\Dinesh Ram\\Pycharm - Projects\\Wildlife Animal Detection\\test_videos\\cow_video.mp4: 256x416 30 0s, 17.2ms\n",
      "video 1/1 (frame 142/644) C:\\Users\\dinyz\\Dinesh Ram\\Pycharm - Projects\\Wildlife Animal Detection\\test_videos\\cow_video.mp4: 256x416 32 0s, 10.1ms\n",
      "video 1/1 (frame 143/644) C:\\Users\\dinyz\\Dinesh Ram\\Pycharm - Projects\\Wildlife Animal Detection\\test_videos\\cow_video.mp4: 256x416 26 0s, 13.1ms\n",
      "video 1/1 (frame 144/644) C:\\Users\\dinyz\\Dinesh Ram\\Pycharm - Projects\\Wildlife Animal Detection\\test_videos\\cow_video.mp4: 256x416 23 0s, 14.9ms\n",
      "video 1/1 (frame 145/644) C:\\Users\\dinyz\\Dinesh Ram\\Pycharm - Projects\\Wildlife Animal Detection\\test_videos\\cow_video.mp4: 256x416 25 0s, 11.0ms\n",
      "video 1/1 (frame 146/644) C:\\Users\\dinyz\\Dinesh Ram\\Pycharm - Projects\\Wildlife Animal Detection\\test_videos\\cow_video.mp4: 256x416 28 0s, 10.4ms\n",
      "video 1/1 (frame 147/644) C:\\Users\\dinyz\\Dinesh Ram\\Pycharm - Projects\\Wildlife Animal Detection\\test_videos\\cow_video.mp4: 256x416 28 0s, 13.2ms\n",
      "video 1/1 (frame 148/644) C:\\Users\\dinyz\\Dinesh Ram\\Pycharm - Projects\\Wildlife Animal Detection\\test_videos\\cow_video.mp4: 256x416 27 0s, 11.2ms\n",
      "video 1/1 (frame 149/644) C:\\Users\\dinyz\\Dinesh Ram\\Pycharm - Projects\\Wildlife Animal Detection\\test_videos\\cow_video.mp4: 256x416 28 0s, 12.5ms\n",
      "video 1/1 (frame 150/644) C:\\Users\\dinyz\\Dinesh Ram\\Pycharm - Projects\\Wildlife Animal Detection\\test_videos\\cow_video.mp4: 256x416 26 0s, 16.7ms\n",
      "video 1/1 (frame 151/644) C:\\Users\\dinyz\\Dinesh Ram\\Pycharm - Projects\\Wildlife Animal Detection\\test_videos\\cow_video.mp4: 256x416 27 0s, 14.7ms\n",
      "video 1/1 (frame 152/644) C:\\Users\\dinyz\\Dinesh Ram\\Pycharm - Projects\\Wildlife Animal Detection\\test_videos\\cow_video.mp4: 256x416 29 0s, 15.0ms\n",
      "video 1/1 (frame 153/644) C:\\Users\\dinyz\\Dinesh Ram\\Pycharm - Projects\\Wildlife Animal Detection\\test_videos\\cow_video.mp4: 256x416 30 0s, 14.3ms\n",
      "video 1/1 (frame 154/644) C:\\Users\\dinyz\\Dinesh Ram\\Pycharm - Projects\\Wildlife Animal Detection\\test_videos\\cow_video.mp4: 256x416 30 0s, 9.4ms\n",
      "video 1/1 (frame 155/644) C:\\Users\\dinyz\\Dinesh Ram\\Pycharm - Projects\\Wildlife Animal Detection\\test_videos\\cow_video.mp4: 256x416 27 0s, 9.4ms\n",
      "video 1/1 (frame 156/644) C:\\Users\\dinyz\\Dinesh Ram\\Pycharm - Projects\\Wildlife Animal Detection\\test_videos\\cow_video.mp4: 256x416 31 0s, 11.0ms\n",
      "video 1/1 (frame 157/644) C:\\Users\\dinyz\\Dinesh Ram\\Pycharm - Projects\\Wildlife Animal Detection\\test_videos\\cow_video.mp4: 256x416 33 0s, 11.7ms\n",
      "video 1/1 (frame 158/644) C:\\Users\\dinyz\\Dinesh Ram\\Pycharm - Projects\\Wildlife Animal Detection\\test_videos\\cow_video.mp4: 256x416 31 0s, 12.1ms\n",
      "video 1/1 (frame 159/644) C:\\Users\\dinyz\\Dinesh Ram\\Pycharm - Projects\\Wildlife Animal Detection\\test_videos\\cow_video.mp4: 256x416 31 0s, 14.6ms\n",
      "video 1/1 (frame 160/644) C:\\Users\\dinyz\\Dinesh Ram\\Pycharm - Projects\\Wildlife Animal Detection\\test_videos\\cow_video.mp4: 256x416 27 0s, 12.2ms\n",
      "video 1/1 (frame 161/644) C:\\Users\\dinyz\\Dinesh Ram\\Pycharm - Projects\\Wildlife Animal Detection\\test_videos\\cow_video.mp4: 256x416 30 0s, 15.8ms\n",
      "video 1/1 (frame 162/644) C:\\Users\\dinyz\\Dinesh Ram\\Pycharm - Projects\\Wildlife Animal Detection\\test_videos\\cow_video.mp4: 256x416 31 0s, 12.5ms\n",
      "video 1/1 (frame 163/644) C:\\Users\\dinyz\\Dinesh Ram\\Pycharm - Projects\\Wildlife Animal Detection\\test_videos\\cow_video.mp4: 256x416 31 0s, 16.1ms\n",
      "video 1/1 (frame 164/644) C:\\Users\\dinyz\\Dinesh Ram\\Pycharm - Projects\\Wildlife Animal Detection\\test_videos\\cow_video.mp4: 256x416 30 0s, 11.2ms\n",
      "video 1/1 (frame 165/644) C:\\Users\\dinyz\\Dinesh Ram\\Pycharm - Projects\\Wildlife Animal Detection\\test_videos\\cow_video.mp4: 256x416 30 0s, 16.5ms\n",
      "video 1/1 (frame 166/644) C:\\Users\\dinyz\\Dinesh Ram\\Pycharm - Projects\\Wildlife Animal Detection\\test_videos\\cow_video.mp4: 256x416 32 0s, 13.6ms\n",
      "video 1/1 (frame 167/644) C:\\Users\\dinyz\\Dinesh Ram\\Pycharm - Projects\\Wildlife Animal Detection\\test_videos\\cow_video.mp4: 256x416 29 0s, 14.1ms\n",
      "video 1/1 (frame 168/644) C:\\Users\\dinyz\\Dinesh Ram\\Pycharm - Projects\\Wildlife Animal Detection\\test_videos\\cow_video.mp4: 256x416 28 0s, 12.0ms\n",
      "video 1/1 (frame 169/644) C:\\Users\\dinyz\\Dinesh Ram\\Pycharm - Projects\\Wildlife Animal Detection\\test_videos\\cow_video.mp4: 256x416 26 0s, 11.7ms\n",
      "video 1/1 (frame 170/644) C:\\Users\\dinyz\\Dinesh Ram\\Pycharm - Projects\\Wildlife Animal Detection\\test_videos\\cow_video.mp4: 256x416 26 0s, 13.5ms\n",
      "video 1/1 (frame 171/644) C:\\Users\\dinyz\\Dinesh Ram\\Pycharm - Projects\\Wildlife Animal Detection\\test_videos\\cow_video.mp4: 256x416 30 0s, 13.4ms\n",
      "video 1/1 (frame 172/644) C:\\Users\\dinyz\\Dinesh Ram\\Pycharm - Projects\\Wildlife Animal Detection\\test_videos\\cow_video.mp4: 256x416 26 0s, 12.8ms\n",
      "video 1/1 (frame 173/644) C:\\Users\\dinyz\\Dinesh Ram\\Pycharm - Projects\\Wildlife Animal Detection\\test_videos\\cow_video.mp4: 256x416 26 0s, 21.3ms\n",
      "video 1/1 (frame 174/644) C:\\Users\\dinyz\\Dinesh Ram\\Pycharm - Projects\\Wildlife Animal Detection\\test_videos\\cow_video.mp4: 256x416 29 0s, 12.9ms\n",
      "video 1/1 (frame 175/644) C:\\Users\\dinyz\\Dinesh Ram\\Pycharm - Projects\\Wildlife Animal Detection\\test_videos\\cow_video.mp4: 256x416 26 0s, 11.9ms\n",
      "video 1/1 (frame 176/644) C:\\Users\\dinyz\\Dinesh Ram\\Pycharm - Projects\\Wildlife Animal Detection\\test_videos\\cow_video.mp4: 256x416 31 0s, 1 1, 11.5ms\n",
      "video 1/1 (frame 177/644) C:\\Users\\dinyz\\Dinesh Ram\\Pycharm - Projects\\Wildlife Animal Detection\\test_videos\\cow_video.mp4: 256x416 28 0s, 13.7ms\n",
      "video 1/1 (frame 178/644) C:\\Users\\dinyz\\Dinesh Ram\\Pycharm - Projects\\Wildlife Animal Detection\\test_videos\\cow_video.mp4: 256x416 30 0s, 11.4ms\n",
      "video 1/1 (frame 179/644) C:\\Users\\dinyz\\Dinesh Ram\\Pycharm - Projects\\Wildlife Animal Detection\\test_videos\\cow_video.mp4: 256x416 29 0s, 1 1, 11.2ms\n",
      "video 1/1 (frame 180/644) C:\\Users\\dinyz\\Dinesh Ram\\Pycharm - Projects\\Wildlife Animal Detection\\test_videos\\cow_video.mp4: 256x416 32 0s, 11.8ms\n",
      "video 1/1 (frame 181/644) C:\\Users\\dinyz\\Dinesh Ram\\Pycharm - Projects\\Wildlife Animal Detection\\test_videos\\cow_video.mp4: 256x416 34 0s, 13.9ms\n",
      "video 1/1 (frame 182/644) C:\\Users\\dinyz\\Dinesh Ram\\Pycharm - Projects\\Wildlife Animal Detection\\test_videos\\cow_video.mp4: 256x416 26 0s, 9.4ms\n",
      "video 1/1 (frame 183/644) C:\\Users\\dinyz\\Dinesh Ram\\Pycharm - Projects\\Wildlife Animal Detection\\test_videos\\cow_video.mp4: 256x416 27 0s, 15.6ms\n",
      "video 1/1 (frame 184/644) C:\\Users\\dinyz\\Dinesh Ram\\Pycharm - Projects\\Wildlife Animal Detection\\test_videos\\cow_video.mp4: 256x416 28 0s, 11.8ms\n",
      "video 1/1 (frame 185/644) C:\\Users\\dinyz\\Dinesh Ram\\Pycharm - Projects\\Wildlife Animal Detection\\test_videos\\cow_video.mp4: 256x416 29 0s, 12.8ms\n",
      "video 1/1 (frame 186/644) C:\\Users\\dinyz\\Dinesh Ram\\Pycharm - Projects\\Wildlife Animal Detection\\test_videos\\cow_video.mp4: 256x416 29 0s, 1 1, 12.6ms\n",
      "video 1/1 (frame 187/644) C:\\Users\\dinyz\\Dinesh Ram\\Pycharm - Projects\\Wildlife Animal Detection\\test_videos\\cow_video.mp4: 256x416 29 0s, 1 1, 11.4ms\n",
      "video 1/1 (frame 188/644) C:\\Users\\dinyz\\Dinesh Ram\\Pycharm - Projects\\Wildlife Animal Detection\\test_videos\\cow_video.mp4: 256x416 28 0s, 1 1, 12.7ms\n",
      "video 1/1 (frame 189/644) C:\\Users\\dinyz\\Dinesh Ram\\Pycharm - Projects\\Wildlife Animal Detection\\test_videos\\cow_video.mp4: 256x416 29 0s, 12.7ms\n",
      "video 1/1 (frame 190/644) C:\\Users\\dinyz\\Dinesh Ram\\Pycharm - Projects\\Wildlife Animal Detection\\test_videos\\cow_video.mp4: 256x416 29 0s, 12.6ms\n",
      "video 1/1 (frame 191/644) C:\\Users\\dinyz\\Dinesh Ram\\Pycharm - Projects\\Wildlife Animal Detection\\test_videos\\cow_video.mp4: 256x416 27 0s, 13.0ms\n",
      "video 1/1 (frame 192/644) C:\\Users\\dinyz\\Dinesh Ram\\Pycharm - Projects\\Wildlife Animal Detection\\test_videos\\cow_video.mp4: 256x416 27 0s, 1 1, 16.7ms\n",
      "video 1/1 (frame 193/644) C:\\Users\\dinyz\\Dinesh Ram\\Pycharm - Projects\\Wildlife Animal Detection\\test_videos\\cow_video.mp4: 256x416 27 0s, 1 1, 12.4ms\n",
      "video 1/1 (frame 194/644) C:\\Users\\dinyz\\Dinesh Ram\\Pycharm - Projects\\Wildlife Animal Detection\\test_videos\\cow_video.mp4: 256x416 24 0s, 1 1, 17.1ms\n",
      "video 1/1 (frame 195/644) C:\\Users\\dinyz\\Dinesh Ram\\Pycharm - Projects\\Wildlife Animal Detection\\test_videos\\cow_video.mp4: 256x416 28 0s, 1 1, 13.5ms\n",
      "video 1/1 (frame 196/644) C:\\Users\\dinyz\\Dinesh Ram\\Pycharm - Projects\\Wildlife Animal Detection\\test_videos\\cow_video.mp4: 256x416 25 0s, 1 1, 10.9ms\n",
      "video 1/1 (frame 197/644) C:\\Users\\dinyz\\Dinesh Ram\\Pycharm - Projects\\Wildlife Animal Detection\\test_videos\\cow_video.mp4: 256x416 26 0s, 1 1, 9.4ms\n",
      "video 1/1 (frame 198/644) C:\\Users\\dinyz\\Dinesh Ram\\Pycharm - Projects\\Wildlife Animal Detection\\test_videos\\cow_video.mp4: 256x416 27 0s, 1 1, 10.0ms\n",
      "video 1/1 (frame 199/644) C:\\Users\\dinyz\\Dinesh Ram\\Pycharm - Projects\\Wildlife Animal Detection\\test_videos\\cow_video.mp4: 256x416 27 0s, 1 1, 14.9ms\n",
      "video 1/1 (frame 200/644) C:\\Users\\dinyz\\Dinesh Ram\\Pycharm - Projects\\Wildlife Animal Detection\\test_videos\\cow_video.mp4: 256x416 25 0s, 1 1, 13.5ms\n",
      "video 1/1 (frame 201/644) C:\\Users\\dinyz\\Dinesh Ram\\Pycharm - Projects\\Wildlife Animal Detection\\test_videos\\cow_video.mp4: 256x416 30 0s, 1 1, 11.1ms\n",
      "video 1/1 (frame 202/644) C:\\Users\\dinyz\\Dinesh Ram\\Pycharm - Projects\\Wildlife Animal Detection\\test_videos\\cow_video.mp4: 256x416 26 0s, 1 1, 11.1ms\n",
      "video 1/1 (frame 203/644) C:\\Users\\dinyz\\Dinesh Ram\\Pycharm - Projects\\Wildlife Animal Detection\\test_videos\\cow_video.mp4: 256x416 27 0s, 1 1, 12.9ms\n",
      "video 1/1 (frame 204/644) C:\\Users\\dinyz\\Dinesh Ram\\Pycharm - Projects\\Wildlife Animal Detection\\test_videos\\cow_video.mp4: 256x416 22 0s, 1 1, 11.8ms\n",
      "video 1/1 (frame 205/644) C:\\Users\\dinyz\\Dinesh Ram\\Pycharm - Projects\\Wildlife Animal Detection\\test_videos\\cow_video.mp4: 256x416 21 0s, 1 1, 12.6ms\n",
      "video 1/1 (frame 206/644) C:\\Users\\dinyz\\Dinesh Ram\\Pycharm - Projects\\Wildlife Animal Detection\\test_videos\\cow_video.mp4: 256x416 22 0s, 1 1, 1 2, 14.2ms\n",
      "video 1/1 (frame 207/644) C:\\Users\\dinyz\\Dinesh Ram\\Pycharm - Projects\\Wildlife Animal Detection\\test_videos\\cow_video.mp4: 256x416 28 0s, 1 1, 9.6ms\n",
      "video 1/1 (frame 208/644) C:\\Users\\dinyz\\Dinesh Ram\\Pycharm - Projects\\Wildlife Animal Detection\\test_videos\\cow_video.mp4: 256x416 27 0s, 1 1, 14.2ms\n",
      "video 1/1 (frame 209/644) C:\\Users\\dinyz\\Dinesh Ram\\Pycharm - Projects\\Wildlife Animal Detection\\test_videos\\cow_video.mp4: 256x416 25 0s, 9.2ms\n",
      "video 1/1 (frame 210/644) C:\\Users\\dinyz\\Dinesh Ram\\Pycharm - Projects\\Wildlife Animal Detection\\test_videos\\cow_video.mp4: 256x416 27 0s, 1 1, 11.4ms\n",
      "video 1/1 (frame 211/644) C:\\Users\\dinyz\\Dinesh Ram\\Pycharm - Projects\\Wildlife Animal Detection\\test_videos\\cow_video.mp4: 256x416 23 0s, 12.3ms\n",
      "video 1/1 (frame 212/644) C:\\Users\\dinyz\\Dinesh Ram\\Pycharm - Projects\\Wildlife Animal Detection\\test_videos\\cow_video.mp4: 256x416 24 0s, 17.7ms\n",
      "video 1/1 (frame 213/644) C:\\Users\\dinyz\\Dinesh Ram\\Pycharm - Projects\\Wildlife Animal Detection\\test_videos\\cow_video.mp4: 256x416 23 0s, 1 1, 13.3ms\n",
      "video 1/1 (frame 214/644) C:\\Users\\dinyz\\Dinesh Ram\\Pycharm - Projects\\Wildlife Animal Detection\\test_videos\\cow_video.mp4: 256x416 24 0s, 11.7ms\n",
      "video 1/1 (frame 215/644) C:\\Users\\dinyz\\Dinesh Ram\\Pycharm - Projects\\Wildlife Animal Detection\\test_videos\\cow_video.mp4: 256x416 22 0s, 15.7ms\n",
      "video 1/1 (frame 216/644) C:\\Users\\dinyz\\Dinesh Ram\\Pycharm - Projects\\Wildlife Animal Detection\\test_videos\\cow_video.mp4: 256x416 21 0s, 1 1, 15.3ms\n",
      "video 1/1 (frame 217/644) C:\\Users\\dinyz\\Dinesh Ram\\Pycharm - Projects\\Wildlife Animal Detection\\test_videos\\cow_video.mp4: 256x416 25 0s, 1 1, 11.2ms\n",
      "video 1/1 (frame 218/644) C:\\Users\\dinyz\\Dinesh Ram\\Pycharm - Projects\\Wildlife Animal Detection\\test_videos\\cow_video.mp4: 256x416 25 0s, 1 1, 9.7ms\n",
      "video 1/1 (frame 219/644) C:\\Users\\dinyz\\Dinesh Ram\\Pycharm - Projects\\Wildlife Animal Detection\\test_videos\\cow_video.mp4: 256x416 23 0s, 1 1, 10.1ms\n",
      "video 1/1 (frame 220/644) C:\\Users\\dinyz\\Dinesh Ram\\Pycharm - Projects\\Wildlife Animal Detection\\test_videos\\cow_video.mp4: 256x416 25 0s, 1 1, 13.1ms\n",
      "video 1/1 (frame 221/644) C:\\Users\\dinyz\\Dinesh Ram\\Pycharm - Projects\\Wildlife Animal Detection\\test_videos\\cow_video.mp4: 256x416 23 0s, 1 1, 13.7ms\n",
      "video 1/1 (frame 222/644) C:\\Users\\dinyz\\Dinesh Ram\\Pycharm - Projects\\Wildlife Animal Detection\\test_videos\\cow_video.mp4: 256x416 21 0s, 1 1, 13.6ms\n",
      "video 1/1 (frame 223/644) C:\\Users\\dinyz\\Dinesh Ram\\Pycharm - Projects\\Wildlife Animal Detection\\test_videos\\cow_video.mp4: 256x416 20 0s, 1 1, 13.2ms\n",
      "video 1/1 (frame 224/644) C:\\Users\\dinyz\\Dinesh Ram\\Pycharm - Projects\\Wildlife Animal Detection\\test_videos\\cow_video.mp4: 256x416 17 0s, 1 1, 12.0ms\n",
      "video 1/1 (frame 225/644) C:\\Users\\dinyz\\Dinesh Ram\\Pycharm - Projects\\Wildlife Animal Detection\\test_videos\\cow_video.mp4: 256x416 19 0s, 1 1, 13.7ms\n",
      "video 1/1 (frame 226/644) C:\\Users\\dinyz\\Dinesh Ram\\Pycharm - Projects\\Wildlife Animal Detection\\test_videos\\cow_video.mp4: 256x416 21 0s, 1 1, 14.3ms\n",
      "video 1/1 (frame 227/644) C:\\Users\\dinyz\\Dinesh Ram\\Pycharm - Projects\\Wildlife Animal Detection\\test_videos\\cow_video.mp4: 256x416 20 0s, 1 1, 19.5ms\n",
      "video 1/1 (frame 228/644) C:\\Users\\dinyz\\Dinesh Ram\\Pycharm - Projects\\Wildlife Animal Detection\\test_videos\\cow_video.mp4: 256x416 17 0s, 1 1, 18.4ms\n",
      "video 1/1 (frame 229/644) C:\\Users\\dinyz\\Dinesh Ram\\Pycharm - Projects\\Wildlife Animal Detection\\test_videos\\cow_video.mp4: 256x416 17 0s, 1 1, 19.3ms\n",
      "video 1/1 (frame 230/644) C:\\Users\\dinyz\\Dinesh Ram\\Pycharm - Projects\\Wildlife Animal Detection\\test_videos\\cow_video.mp4: 256x416 16 0s, 1 1, 18.9ms\n",
      "video 1/1 (frame 231/644) C:\\Users\\dinyz\\Dinesh Ram\\Pycharm - Projects\\Wildlife Animal Detection\\test_videos\\cow_video.mp4: 256x416 14 0s, 1 1, 23.5ms\n",
      "video 1/1 (frame 232/644) C:\\Users\\dinyz\\Dinesh Ram\\Pycharm - Projects\\Wildlife Animal Detection\\test_videos\\cow_video.mp4: 256x416 15 0s, 1 1, 28.8ms\n",
      "video 1/1 (frame 233/644) C:\\Users\\dinyz\\Dinesh Ram\\Pycharm - Projects\\Wildlife Animal Detection\\test_videos\\cow_video.mp4: 256x416 18 0s, 1 1, 20.5ms\n",
      "video 1/1 (frame 234/644) C:\\Users\\dinyz\\Dinesh Ram\\Pycharm - Projects\\Wildlife Animal Detection\\test_videos\\cow_video.mp4: 256x416 19 0s, 1 1, 11.2ms\n",
      "video 1/1 (frame 235/644) C:\\Users\\dinyz\\Dinesh Ram\\Pycharm - Projects\\Wildlife Animal Detection\\test_videos\\cow_video.mp4: 256x416 18 0s, 1 1, 19.2ms\n",
      "video 1/1 (frame 236/644) C:\\Users\\dinyz\\Dinesh Ram\\Pycharm - Projects\\Wildlife Animal Detection\\test_videos\\cow_video.mp4: 256x416 17 0s, 1 1, 12.6ms\n",
      "video 1/1 (frame 237/644) C:\\Users\\dinyz\\Dinesh Ram\\Pycharm - Projects\\Wildlife Animal Detection\\test_videos\\cow_video.mp4: 256x416 15 0s, 1 1, 14.8ms\n",
      "video 1/1 (frame 238/644) C:\\Users\\dinyz\\Dinesh Ram\\Pycharm - Projects\\Wildlife Animal Detection\\test_videos\\cow_video.mp4: 256x416 15 0s, 1 1, 12.4ms\n",
      "video 1/1 (frame 239/644) C:\\Users\\dinyz\\Dinesh Ram\\Pycharm - Projects\\Wildlife Animal Detection\\test_videos\\cow_video.mp4: 256x416 17 0s, 1 1, 12.6ms\n",
      "video 1/1 (frame 240/644) C:\\Users\\dinyz\\Dinesh Ram\\Pycharm - Projects\\Wildlife Animal Detection\\test_videos\\cow_video.mp4: 256x416 18 0s, 1 1, 12.6ms\n",
      "video 1/1 (frame 241/644) C:\\Users\\dinyz\\Dinesh Ram\\Pycharm - Projects\\Wildlife Animal Detection\\test_videos\\cow_video.mp4: 256x416 19 0s, 1 1, 21.9ms\n",
      "video 1/1 (frame 242/644) C:\\Users\\dinyz\\Dinesh Ram\\Pycharm - Projects\\Wildlife Animal Detection\\test_videos\\cow_video.mp4: 256x416 17 0s, 1 1, 19.1ms\n",
      "video 1/1 (frame 243/644) C:\\Users\\dinyz\\Dinesh Ram\\Pycharm - Projects\\Wildlife Animal Detection\\test_videos\\cow_video.mp4: 256x416 14 0s, 1 1, 20.3ms\n",
      "video 1/1 (frame 244/644) C:\\Users\\dinyz\\Dinesh Ram\\Pycharm - Projects\\Wildlife Animal Detection\\test_videos\\cow_video.mp4: 256x416 11 0s, 1 1, 10.1ms\n",
      "video 1/1 (frame 245/644) C:\\Users\\dinyz\\Dinesh Ram\\Pycharm - Projects\\Wildlife Animal Detection\\test_videos\\cow_video.mp4: 256x416 18 0s, 1 1, 14.7ms\n",
      "video 1/1 (frame 246/644) C:\\Users\\dinyz\\Dinesh Ram\\Pycharm - Projects\\Wildlife Animal Detection\\test_videos\\cow_video.mp4: 256x416 18 0s, 1 1, 11.5ms\n",
      "video 1/1 (frame 247/644) C:\\Users\\dinyz\\Dinesh Ram\\Pycharm - Projects\\Wildlife Animal Detection\\test_videos\\cow_video.mp4: 256x416 16 0s, 1 1, 11.9ms\n",
      "video 1/1 (frame 248/644) C:\\Users\\dinyz\\Dinesh Ram\\Pycharm - Projects\\Wildlife Animal Detection\\test_videos\\cow_video.mp4: 256x416 16 0s, 1 1, 11.1ms\n",
      "video 1/1 (frame 249/644) C:\\Users\\dinyz\\Dinesh Ram\\Pycharm - Projects\\Wildlife Animal Detection\\test_videos\\cow_video.mp4: 256x416 16 0s, 1 1, 12.2ms\n",
      "video 1/1 (frame 250/644) C:\\Users\\dinyz\\Dinesh Ram\\Pycharm - Projects\\Wildlife Animal Detection\\test_videos\\cow_video.mp4: 256x416 16 0s, 1 1, 10.9ms\n",
      "video 1/1 (frame 251/644) C:\\Users\\dinyz\\Dinesh Ram\\Pycharm - Projects\\Wildlife Animal Detection\\test_videos\\cow_video.mp4: 256x416 20 0s, 1 1, 18.3ms\n",
      "video 1/1 (frame 252/644) C:\\Users\\dinyz\\Dinesh Ram\\Pycharm - Projects\\Wildlife Animal Detection\\test_videos\\cow_video.mp4: 256x416 16 0s, 1 1, 17.1ms\n",
      "video 1/1 (frame 253/644) C:\\Users\\dinyz\\Dinesh Ram\\Pycharm - Projects\\Wildlife Animal Detection\\test_videos\\cow_video.mp4: 256x416 19 0s, 1 1, 17.6ms\n",
      "video 1/1 (frame 254/644) C:\\Users\\dinyz\\Dinesh Ram\\Pycharm - Projects\\Wildlife Animal Detection\\test_videos\\cow_video.mp4: 256x416 20 0s, 1 1, 26.4ms\n",
      "video 1/1 (frame 255/644) C:\\Users\\dinyz\\Dinesh Ram\\Pycharm - Projects\\Wildlife Animal Detection\\test_videos\\cow_video.mp4: 256x416 19 0s, 1 1, 9.8ms\n",
      "video 1/1 (frame 256/644) C:\\Users\\dinyz\\Dinesh Ram\\Pycharm - Projects\\Wildlife Animal Detection\\test_videos\\cow_video.mp4: 256x416 25 0s, 1 1, 10.7ms\n",
      "video 1/1 (frame 257/644) C:\\Users\\dinyz\\Dinesh Ram\\Pycharm - Projects\\Wildlife Animal Detection\\test_videos\\cow_video.mp4: 256x416 24 0s, 1 1, 13.2ms\n",
      "video 1/1 (frame 258/644) C:\\Users\\dinyz\\Dinesh Ram\\Pycharm - Projects\\Wildlife Animal Detection\\test_videos\\cow_video.mp4: 256x416 23 0s, 1 1, 12.6ms\n",
      "video 1/1 (frame 259/644) C:\\Users\\dinyz\\Dinesh Ram\\Pycharm - Projects\\Wildlife Animal Detection\\test_videos\\cow_video.mp4: 256x416 24 0s, 1 1, 13.2ms\n",
      "video 1/1 (frame 260/644) C:\\Users\\dinyz\\Dinesh Ram\\Pycharm - Projects\\Wildlife Animal Detection\\test_videos\\cow_video.mp4: 256x416 26 0s, 1 1, 13.7ms\n",
      "video 1/1 (frame 261/644) C:\\Users\\dinyz\\Dinesh Ram\\Pycharm - Projects\\Wildlife Animal Detection\\test_videos\\cow_video.mp4: 256x416 22 0s, 1 1, 14.4ms\n",
      "video 1/1 (frame 262/644) C:\\Users\\dinyz\\Dinesh Ram\\Pycharm - Projects\\Wildlife Animal Detection\\test_videos\\cow_video.mp4: 256x416 25 0s, 1 1, 13.0ms\n",
      "video 1/1 (frame 263/644) C:\\Users\\dinyz\\Dinesh Ram\\Pycharm - Projects\\Wildlife Animal Detection\\test_videos\\cow_video.mp4: 256x416 21 0s, 1 1, 13.5ms\n",
      "video 1/1 (frame 264/644) C:\\Users\\dinyz\\Dinesh Ram\\Pycharm - Projects\\Wildlife Animal Detection\\test_videos\\cow_video.mp4: 256x416 19 0s, 1 1, 14.0ms\n",
      "video 1/1 (frame 265/644) C:\\Users\\dinyz\\Dinesh Ram\\Pycharm - Projects\\Wildlife Animal Detection\\test_videos\\cow_video.mp4: 256x416 24 0s, 1 1, 13.4ms\n",
      "video 1/1 (frame 266/644) C:\\Users\\dinyz\\Dinesh Ram\\Pycharm - Projects\\Wildlife Animal Detection\\test_videos\\cow_video.mp4: 256x416 20 0s, 1 1, 10.2ms\n",
      "video 1/1 (frame 267/644) C:\\Users\\dinyz\\Dinesh Ram\\Pycharm - Projects\\Wildlife Animal Detection\\test_videos\\cow_video.mp4: 256x416 20 0s, 1 1, 17.6ms\n",
      "video 1/1 (frame 268/644) C:\\Users\\dinyz\\Dinesh Ram\\Pycharm - Projects\\Wildlife Animal Detection\\test_videos\\cow_video.mp4: 256x416 20 0s, 1 1, 20.5ms\n",
      "video 1/1 (frame 269/644) C:\\Users\\dinyz\\Dinesh Ram\\Pycharm - Projects\\Wildlife Animal Detection\\test_videos\\cow_video.mp4: 256x416 23 0s, 1 1, 17.8ms\n",
      "video 1/1 (frame 270/644) C:\\Users\\dinyz\\Dinesh Ram\\Pycharm - Projects\\Wildlife Animal Detection\\test_videos\\cow_video.mp4: 256x416 21 0s, 1 1, 12.5ms\n",
      "video 1/1 (frame 271/644) C:\\Users\\dinyz\\Dinesh Ram\\Pycharm - Projects\\Wildlife Animal Detection\\test_videos\\cow_video.mp4: 256x416 18 0s, 1 1, 11.1ms\n",
      "video 1/1 (frame 272/644) C:\\Users\\dinyz\\Dinesh Ram\\Pycharm - Projects\\Wildlife Animal Detection\\test_videos\\cow_video.mp4: 256x416 22 0s, 1 1, 12.4ms\n",
      "video 1/1 (frame 273/644) C:\\Users\\dinyz\\Dinesh Ram\\Pycharm - Projects\\Wildlife Animal Detection\\test_videos\\cow_video.mp4: 256x416 19 0s, 1 1, 12.2ms\n",
      "video 1/1 (frame 274/644) C:\\Users\\dinyz\\Dinesh Ram\\Pycharm - Projects\\Wildlife Animal Detection\\test_videos\\cow_video.mp4: 256x416 19 0s, 1 1, 8.7ms\n",
      "video 1/1 (frame 275/644) C:\\Users\\dinyz\\Dinesh Ram\\Pycharm - Projects\\Wildlife Animal Detection\\test_videos\\cow_video.mp4: 256x416 16 0s, 1 1, 11.9ms\n",
      "video 1/1 (frame 276/644) C:\\Users\\dinyz\\Dinesh Ram\\Pycharm - Projects\\Wildlife Animal Detection\\test_videos\\cow_video.mp4: 256x416 16 0s, 1 1, 10.0ms\n",
      "video 1/1 (frame 277/644) C:\\Users\\dinyz\\Dinesh Ram\\Pycharm - Projects\\Wildlife Animal Detection\\test_videos\\cow_video.mp4: 256x416 18 0s, 1 1, 9.9ms\n",
      "video 1/1 (frame 278/644) C:\\Users\\dinyz\\Dinesh Ram\\Pycharm - Projects\\Wildlife Animal Detection\\test_videos\\cow_video.mp4: 256x416 18 0s, 1 1, 13.9ms\n",
      "video 1/1 (frame 279/644) C:\\Users\\dinyz\\Dinesh Ram\\Pycharm - Projects\\Wildlife Animal Detection\\test_videos\\cow_video.mp4: 256x416 13 0s, 1 1, 1 2, 12.1ms\n",
      "video 1/1 (frame 280/644) C:\\Users\\dinyz\\Dinesh Ram\\Pycharm - Projects\\Wildlife Animal Detection\\test_videos\\cow_video.mp4: 256x416 15 0s, 1 1, 1 2, 13.0ms\n",
      "video 1/1 (frame 281/644) C:\\Users\\dinyz\\Dinesh Ram\\Pycharm - Projects\\Wildlife Animal Detection\\test_videos\\cow_video.mp4: 256x416 14 0s, 1 1, 13.6ms\n",
      "video 1/1 (frame 282/644) C:\\Users\\dinyz\\Dinesh Ram\\Pycharm - Projects\\Wildlife Animal Detection\\test_videos\\cow_video.mp4: 256x416 14 0s, 1 1, 1 2, 24.2ms\n",
      "video 1/1 (frame 283/644) C:\\Users\\dinyz\\Dinesh Ram\\Pycharm - Projects\\Wildlife Animal Detection\\test_videos\\cow_video.mp4: 256x416 16 0s, 1 1, 1 2, 17.9ms\n",
      "video 1/1 (frame 284/644) C:\\Users\\dinyz\\Dinesh Ram\\Pycharm - Projects\\Wildlife Animal Detection\\test_videos\\cow_video.mp4: 256x416 15 0s, 1 1, 12.5ms\n",
      "video 1/1 (frame 285/644) C:\\Users\\dinyz\\Dinesh Ram\\Pycharm - Projects\\Wildlife Animal Detection\\test_videos\\cow_video.mp4: 256x416 17 0s, 1 1, 13.4ms\n",
      "video 1/1 (frame 286/644) C:\\Users\\dinyz\\Dinesh Ram\\Pycharm - Projects\\Wildlife Animal Detection\\test_videos\\cow_video.mp4: 256x416 15 0s, 1 1, 18.8ms\n",
      "video 1/1 (frame 287/644) C:\\Users\\dinyz\\Dinesh Ram\\Pycharm - Projects\\Wildlife Animal Detection\\test_videos\\cow_video.mp4: 256x416 17 0s, 1 1, 18.5ms\n",
      "video 1/1 (frame 288/644) C:\\Users\\dinyz\\Dinesh Ram\\Pycharm - Projects\\Wildlife Animal Detection\\test_videos\\cow_video.mp4: 256x416 16 0s, 1 1, 8.9ms\n",
      "video 1/1 (frame 289/644) C:\\Users\\dinyz\\Dinesh Ram\\Pycharm - Projects\\Wildlife Animal Detection\\test_videos\\cow_video.mp4: 256x416 16 0s, 1 1, 9.5ms\n",
      "video 1/1 (frame 290/644) C:\\Users\\dinyz\\Dinesh Ram\\Pycharm - Projects\\Wildlife Animal Detection\\test_videos\\cow_video.mp4: 256x416 18 0s, 1 1, 9.9ms\n",
      "video 1/1 (frame 291/644) C:\\Users\\dinyz\\Dinesh Ram\\Pycharm - Projects\\Wildlife Animal Detection\\test_videos\\cow_video.mp4: 256x416 18 0s, 1 1, 8.9ms\n",
      "video 1/1 (frame 292/644) C:\\Users\\dinyz\\Dinesh Ram\\Pycharm - Projects\\Wildlife Animal Detection\\test_videos\\cow_video.mp4: 256x416 15 0s, 1 1, 12.1ms\n",
      "video 1/1 (frame 293/644) C:\\Users\\dinyz\\Dinesh Ram\\Pycharm - Projects\\Wildlife Animal Detection\\test_videos\\cow_video.mp4: 256x416 15 0s, 1 1, 17.5ms\n",
      "video 1/1 (frame 294/644) C:\\Users\\dinyz\\Dinesh Ram\\Pycharm - Projects\\Wildlife Animal Detection\\test_videos\\cow_video.mp4: 256x416 16 0s, 1 1, 19.9ms\n",
      "video 1/1 (frame 295/644) C:\\Users\\dinyz\\Dinesh Ram\\Pycharm - Projects\\Wildlife Animal Detection\\test_videos\\cow_video.mp4: 256x416 15 0s, 1 1, 14.6ms\n",
      "video 1/1 (frame 296/644) C:\\Users\\dinyz\\Dinesh Ram\\Pycharm - Projects\\Wildlife Animal Detection\\test_videos\\cow_video.mp4: 256x416 16 0s, 1 1, 17.1ms\n",
      "video 1/1 (frame 297/644) C:\\Users\\dinyz\\Dinesh Ram\\Pycharm - Projects\\Wildlife Animal Detection\\test_videos\\cow_video.mp4: 256x416 15 0s, 1 1, 12.7ms\n",
      "video 1/1 (frame 298/644) C:\\Users\\dinyz\\Dinesh Ram\\Pycharm - Projects\\Wildlife Animal Detection\\test_videos\\cow_video.mp4: 256x416 16 0s, 1 1, 9.7ms\n",
      "video 1/1 (frame 299/644) C:\\Users\\dinyz\\Dinesh Ram\\Pycharm - Projects\\Wildlife Animal Detection\\test_videos\\cow_video.mp4: 256x416 13 0s, 1 1, 10.4ms\n",
      "video 1/1 (frame 300/644) C:\\Users\\dinyz\\Dinesh Ram\\Pycharm - Projects\\Wildlife Animal Detection\\test_videos\\cow_video.mp4: 256x416 12 0s, 1 1, 8.9ms\n",
      "video 1/1 (frame 301/644) C:\\Users\\dinyz\\Dinesh Ram\\Pycharm - Projects\\Wildlife Animal Detection\\test_videos\\cow_video.mp4: 256x416 11 0s, 1 1, 15.4ms\n",
      "video 1/1 (frame 302/644) C:\\Users\\dinyz\\Dinesh Ram\\Pycharm - Projects\\Wildlife Animal Detection\\test_videos\\cow_video.mp4: 256x416 14 0s, 1 1, 2 2s, 19.4ms\n",
      "video 1/1 (frame 303/644) C:\\Users\\dinyz\\Dinesh Ram\\Pycharm - Projects\\Wildlife Animal Detection\\test_videos\\cow_video.mp4: 256x416 15 0s, 1 1, 3 2s, 17.8ms\n",
      "video 1/1 (frame 304/644) C:\\Users\\dinyz\\Dinesh Ram\\Pycharm - Projects\\Wildlife Animal Detection\\test_videos\\cow_video.mp4: 256x416 15 0s, 1 1, 2 2s, 18.9ms\n",
      "video 1/1 (frame 305/644) C:\\Users\\dinyz\\Dinesh Ram\\Pycharm - Projects\\Wildlife Animal Detection\\test_videos\\cow_video.mp4: 256x416 13 0s, 1 1, 1 2, 17.3ms\n",
      "video 1/1 (frame 306/644) C:\\Users\\dinyz\\Dinesh Ram\\Pycharm - Projects\\Wildlife Animal Detection\\test_videos\\cow_video.mp4: 256x416 15 0s, 1 1, 14.9ms\n",
      "video 1/1 (frame 307/644) C:\\Users\\dinyz\\Dinesh Ram\\Pycharm - Projects\\Wildlife Animal Detection\\test_videos\\cow_video.mp4: 256x416 15 0s, 1 1, 18.1ms\n",
      "video 1/1 (frame 308/644) C:\\Users\\dinyz\\Dinesh Ram\\Pycharm - Projects\\Wildlife Animal Detection\\test_videos\\cow_video.mp4: 256x416 15 0s, 1 1, 12.3ms\n",
      "video 1/1 (frame 309/644) C:\\Users\\dinyz\\Dinesh Ram\\Pycharm - Projects\\Wildlife Animal Detection\\test_videos\\cow_video.mp4: 256x416 15 0s, 1 1, 1 2, 13.4ms\n",
      "video 1/1 (frame 310/644) C:\\Users\\dinyz\\Dinesh Ram\\Pycharm - Projects\\Wildlife Animal Detection\\test_videos\\cow_video.mp4: 256x416 17 0s, 1 1, 12.2ms\n",
      "video 1/1 (frame 311/644) C:\\Users\\dinyz\\Dinesh Ram\\Pycharm - Projects\\Wildlife Animal Detection\\test_videos\\cow_video.mp4: 256x416 13 0s, 1 1, 1 2, 13.2ms\n",
      "video 1/1 (frame 312/644) C:\\Users\\dinyz\\Dinesh Ram\\Pycharm - Projects\\Wildlife Animal Detection\\test_videos\\cow_video.mp4: 256x416 11 0s, 1 1, 1 2, 13.4ms\n",
      "video 1/1 (frame 313/644) C:\\Users\\dinyz\\Dinesh Ram\\Pycharm - Projects\\Wildlife Animal Detection\\test_videos\\cow_video.mp4: 256x416 12 0s, 1 1, 1 2, 13.6ms\n",
      "video 1/1 (frame 314/644) C:\\Users\\dinyz\\Dinesh Ram\\Pycharm - Projects\\Wildlife Animal Detection\\test_videos\\cow_video.mp4: 256x416 15 0s, 1 1, 1 2, 12.8ms\n",
      "video 1/1 (frame 315/644) C:\\Users\\dinyz\\Dinesh Ram\\Pycharm - Projects\\Wildlife Animal Detection\\test_videos\\cow_video.mp4: 256x416 13 0s, 1 1, 1 2, 12.7ms\n",
      "video 1/1 (frame 316/644) C:\\Users\\dinyz\\Dinesh Ram\\Pycharm - Projects\\Wildlife Animal Detection\\test_videos\\cow_video.mp4: 256x416 11 0s, 1 1, 18.1ms\n",
      "video 1/1 (frame 317/644) C:\\Users\\dinyz\\Dinesh Ram\\Pycharm - Projects\\Wildlife Animal Detection\\test_videos\\cow_video.mp4: 256x416 11 0s, 1 1, 1 2, 17.9ms\n",
      "video 1/1 (frame 318/644) C:\\Users\\dinyz\\Dinesh Ram\\Pycharm - Projects\\Wildlife Animal Detection\\test_videos\\cow_video.mp4: 256x416 13 0s, 1 1, 1 2, 13.0ms\n",
      "video 1/1 (frame 319/644) C:\\Users\\dinyz\\Dinesh Ram\\Pycharm - Projects\\Wildlife Animal Detection\\test_videos\\cow_video.mp4: 256x416 11 0s, 1 1, 1 2, 11.9ms\n",
      "video 1/1 (frame 320/644) C:\\Users\\dinyz\\Dinesh Ram\\Pycharm - Projects\\Wildlife Animal Detection\\test_videos\\cow_video.mp4: 256x416 11 0s, 1 1, 1 2, 13.8ms\n",
      "video 1/1 (frame 321/644) C:\\Users\\dinyz\\Dinesh Ram\\Pycharm - Projects\\Wildlife Animal Detection\\test_videos\\cow_video.mp4: 256x416 14 0s, 1 1, 1 2, 20.0ms\n",
      "video 1/1 (frame 322/644) C:\\Users\\dinyz\\Dinesh Ram\\Pycharm - Projects\\Wildlife Animal Detection\\test_videos\\cow_video.mp4: 256x416 13 0s, 1 1, 10.4ms\n",
      "video 1/1 (frame 323/644) C:\\Users\\dinyz\\Dinesh Ram\\Pycharm - Projects\\Wildlife Animal Detection\\test_videos\\cow_video.mp4: 256x416 12 0s, 1 1, 10.4ms\n",
      "video 1/1 (frame 324/644) C:\\Users\\dinyz\\Dinesh Ram\\Pycharm - Projects\\Wildlife Animal Detection\\test_videos\\cow_video.mp4: 256x416 11 0s, 9.0ms\n",
      "video 1/1 (frame 325/644) C:\\Users\\dinyz\\Dinesh Ram\\Pycharm - Projects\\Wildlife Animal Detection\\test_videos\\cow_video.mp4: 256x416 12 0s, 9.2ms\n",
      "video 1/1 (frame 326/644) C:\\Users\\dinyz\\Dinesh Ram\\Pycharm - Projects\\Wildlife Animal Detection\\test_videos\\cow_video.mp4: 256x416 12 0s, 1 1, 11.8ms\n",
      "video 1/1 (frame 327/644) C:\\Users\\dinyz\\Dinesh Ram\\Pycharm - Projects\\Wildlife Animal Detection\\test_videos\\cow_video.mp4: 256x416 11 0s, 22.9ms\n",
      "video 1/1 (frame 328/644) C:\\Users\\dinyz\\Dinesh Ram\\Pycharm - Projects\\Wildlife Animal Detection\\test_videos\\cow_video.mp4: 256x416 8 0s, 21.4ms\n",
      "video 1/1 (frame 329/644) C:\\Users\\dinyz\\Dinesh Ram\\Pycharm - Projects\\Wildlife Animal Detection\\test_videos\\cow_video.mp4: 256x416 10 0s, 1 1, 17.9ms\n",
      "video 1/1 (frame 330/644) C:\\Users\\dinyz\\Dinesh Ram\\Pycharm - Projects\\Wildlife Animal Detection\\test_videos\\cow_video.mp4: 256x416 8 0s, 19.3ms\n",
      "video 1/1 (frame 331/644) C:\\Users\\dinyz\\Dinesh Ram\\Pycharm - Projects\\Wildlife Animal Detection\\test_videos\\cow_video.mp4: 256x416 10 0s, 11.9ms\n",
      "video 1/1 (frame 332/644) C:\\Users\\dinyz\\Dinesh Ram\\Pycharm - Projects\\Wildlife Animal Detection\\test_videos\\cow_video.mp4: 256x416 13 0s, 10.8ms\n",
      "video 1/1 (frame 333/644) C:\\Users\\dinyz\\Dinesh Ram\\Pycharm - Projects\\Wildlife Animal Detection\\test_videos\\cow_video.mp4: 256x416 13 0s, 12.1ms\n",
      "video 1/1 (frame 334/644) C:\\Users\\dinyz\\Dinesh Ram\\Pycharm - Projects\\Wildlife Animal Detection\\test_videos\\cow_video.mp4: 256x416 10 0s, 11.9ms\n",
      "video 1/1 (frame 335/644) C:\\Users\\dinyz\\Dinesh Ram\\Pycharm - Projects\\Wildlife Animal Detection\\test_videos\\cow_video.mp4: 256x416 14 0s, 12.4ms\n",
      "video 1/1 (frame 336/644) C:\\Users\\dinyz\\Dinesh Ram\\Pycharm - Projects\\Wildlife Animal Detection\\test_videos\\cow_video.mp4: 256x416 15 0s, 12.0ms\n",
      "video 1/1 (frame 337/644) C:\\Users\\dinyz\\Dinesh Ram\\Pycharm - Projects\\Wildlife Animal Detection\\test_videos\\cow_video.mp4: 256x416 14 0s, 14.6ms\n",
      "video 1/1 (frame 338/644) C:\\Users\\dinyz\\Dinesh Ram\\Pycharm - Projects\\Wildlife Animal Detection\\test_videos\\cow_video.mp4: 256x416 12 0s, 13.4ms\n",
      "video 1/1 (frame 339/644) C:\\Users\\dinyz\\Dinesh Ram\\Pycharm - Projects\\Wildlife Animal Detection\\test_videos\\cow_video.mp4: 256x416 12 0s, 1 1, 9.6ms\n",
      "video 1/1 (frame 340/644) C:\\Users\\dinyz\\Dinesh Ram\\Pycharm - Projects\\Wildlife Animal Detection\\test_videos\\cow_video.mp4: 256x416 12 0s, 12.6ms\n",
      "video 1/1 (frame 341/644) C:\\Users\\dinyz\\Dinesh Ram\\Pycharm - Projects\\Wildlife Animal Detection\\test_videos\\cow_video.mp4: 256x416 12 0s, 18.7ms\n",
      "video 1/1 (frame 342/644) C:\\Users\\dinyz\\Dinesh Ram\\Pycharm - Projects\\Wildlife Animal Detection\\test_videos\\cow_video.mp4: 256x416 16 0s, 11.9ms\n",
      "video 1/1 (frame 343/644) C:\\Users\\dinyz\\Dinesh Ram\\Pycharm - Projects\\Wildlife Animal Detection\\test_videos\\cow_video.mp4: 256x416 13 0s, 1 1, 13.3ms\n",
      "video 1/1 (frame 344/644) C:\\Users\\dinyz\\Dinesh Ram\\Pycharm - Projects\\Wildlife Animal Detection\\test_videos\\cow_video.mp4: 256x416 11 0s, 1 1, 13.1ms\n",
      "video 1/1 (frame 345/644) C:\\Users\\dinyz\\Dinesh Ram\\Pycharm - Projects\\Wildlife Animal Detection\\test_videos\\cow_video.mp4: 256x416 10 0s, 12.5ms\n",
      "video 1/1 (frame 346/644) C:\\Users\\dinyz\\Dinesh Ram\\Pycharm - Projects\\Wildlife Animal Detection\\test_videos\\cow_video.mp4: 256x416 9 0s, 1 1, 12.6ms\n",
      "video 1/1 (frame 347/644) C:\\Users\\dinyz\\Dinesh Ram\\Pycharm - Projects\\Wildlife Animal Detection\\test_videos\\cow_video.mp4: 256x416 8 0s, 1 1, 13.2ms\n",
      "video 1/1 (frame 348/644) C:\\Users\\dinyz\\Dinesh Ram\\Pycharm - Projects\\Wildlife Animal Detection\\test_videos\\cow_video.mp4: 256x416 8 0s, 1 1, 12.6ms\n",
      "video 1/1 (frame 349/644) C:\\Users\\dinyz\\Dinesh Ram\\Pycharm - Projects\\Wildlife Animal Detection\\test_videos\\cow_video.mp4: 256x416 8 0s, 1 1, 19.9ms\n",
      "video 1/1 (frame 350/644) C:\\Users\\dinyz\\Dinesh Ram\\Pycharm - Projects\\Wildlife Animal Detection\\test_videos\\cow_video.mp4: 256x416 8 0s, 1 1, 22.1ms\n",
      "video 1/1 (frame 351/644) C:\\Users\\dinyz\\Dinesh Ram\\Pycharm - Projects\\Wildlife Animal Detection\\test_videos\\cow_video.mp4: 256x416 9 0s, 23.1ms\n",
      "video 1/1 (frame 352/644) C:\\Users\\dinyz\\Dinesh Ram\\Pycharm - Projects\\Wildlife Animal Detection\\test_videos\\cow_video.mp4: 256x416 10 0s, 10.4ms\n",
      "video 1/1 (frame 353/644) C:\\Users\\dinyz\\Dinesh Ram\\Pycharm - Projects\\Wildlife Animal Detection\\test_videos\\cow_video.mp4: 256x416 8 0s, 10.5ms\n",
      "video 1/1 (frame 354/644) C:\\Users\\dinyz\\Dinesh Ram\\Pycharm - Projects\\Wildlife Animal Detection\\test_videos\\cow_video.mp4: 256x416 9 0s, 9.8ms\n",
      "video 1/1 (frame 355/644) C:\\Users\\dinyz\\Dinesh Ram\\Pycharm - Projects\\Wildlife Animal Detection\\test_videos\\cow_video.mp4: 256x416 9 0s, 9.6ms\n",
      "video 1/1 (frame 356/644) C:\\Users\\dinyz\\Dinesh Ram\\Pycharm - Projects\\Wildlife Animal Detection\\test_videos\\cow_video.mp4: 256x416 8 0s, 17.3ms\n",
      "video 1/1 (frame 357/644) C:\\Users\\dinyz\\Dinesh Ram\\Pycharm - Projects\\Wildlife Animal Detection\\test_videos\\cow_video.mp4: 256x416 9 0s, 17.8ms\n",
      "video 1/1 (frame 358/644) C:\\Users\\dinyz\\Dinesh Ram\\Pycharm - Projects\\Wildlife Animal Detection\\test_videos\\cow_video.mp4: 256x416 8 0s, 12.5ms\n",
      "video 1/1 (frame 359/644) C:\\Users\\dinyz\\Dinesh Ram\\Pycharm - Projects\\Wildlife Animal Detection\\test_videos\\cow_video.mp4: 256x416 8 0s, 12.5ms\n",
      "video 1/1 (frame 360/644) C:\\Users\\dinyz\\Dinesh Ram\\Pycharm - Projects\\Wildlife Animal Detection\\test_videos\\cow_video.mp4: 256x416 7 0s, 12.4ms\n",
      "video 1/1 (frame 361/644) C:\\Users\\dinyz\\Dinesh Ram\\Pycharm - Projects\\Wildlife Animal Detection\\test_videos\\cow_video.mp4: 256x416 7 0s, 1 1, 12.3ms\n",
      "video 1/1 (frame 362/644) C:\\Users\\dinyz\\Dinesh Ram\\Pycharm - Projects\\Wildlife Animal Detection\\test_videos\\cow_video.mp4: 256x416 7 0s, 12.8ms\n",
      "video 1/1 (frame 363/644) C:\\Users\\dinyz\\Dinesh Ram\\Pycharm - Projects\\Wildlife Animal Detection\\test_videos\\cow_video.mp4: 256x416 7 0s, 12.0ms\n",
      "video 1/1 (frame 364/644) C:\\Users\\dinyz\\Dinesh Ram\\Pycharm - Projects\\Wildlife Animal Detection\\test_videos\\cow_video.mp4: 256x416 7 0s, 12.4ms\n",
      "video 1/1 (frame 365/644) C:\\Users\\dinyz\\Dinesh Ram\\Pycharm - Projects\\Wildlife Animal Detection\\test_videos\\cow_video.mp4: 256x416 7 0s, 12.8ms\n",
      "video 1/1 (frame 366/644) C:\\Users\\dinyz\\Dinesh Ram\\Pycharm - Projects\\Wildlife Animal Detection\\test_videos\\cow_video.mp4: 256x416 7 0s, 12.3ms\n",
      "video 1/1 (frame 367/644) C:\\Users\\dinyz\\Dinesh Ram\\Pycharm - Projects\\Wildlife Animal Detection\\test_videos\\cow_video.mp4: 256x416 7 0s, 12.1ms\n",
      "video 1/1 (frame 368/644) C:\\Users\\dinyz\\Dinesh Ram\\Pycharm - Projects\\Wildlife Animal Detection\\test_videos\\cow_video.mp4: 256x416 7 0s, 12.0ms\n",
      "video 1/1 (frame 369/644) C:\\Users\\dinyz\\Dinesh Ram\\Pycharm - Projects\\Wildlife Animal Detection\\test_videos\\cow_video.mp4: 256x416 5 0s, 11.5ms\n",
      "video 1/1 (frame 370/644) C:\\Users\\dinyz\\Dinesh Ram\\Pycharm - Projects\\Wildlife Animal Detection\\test_videos\\cow_video.mp4: 256x416 6 0s, 24.9ms\n",
      "video 1/1 (frame 371/644) C:\\Users\\dinyz\\Dinesh Ram\\Pycharm - Projects\\Wildlife Animal Detection\\test_videos\\cow_video.mp4: 256x416 6 0s, 10.1ms\n",
      "video 1/1 (frame 372/644) C:\\Users\\dinyz\\Dinesh Ram\\Pycharm - Projects\\Wildlife Animal Detection\\test_videos\\cow_video.mp4: 256x416 7 0s, 11.9ms\n",
      "video 1/1 (frame 373/644) C:\\Users\\dinyz\\Dinesh Ram\\Pycharm - Projects\\Wildlife Animal Detection\\test_videos\\cow_video.mp4: 256x416 7 0s, 10.8ms\n",
      "video 1/1 (frame 374/644) C:\\Users\\dinyz\\Dinesh Ram\\Pycharm - Projects\\Wildlife Animal Detection\\test_videos\\cow_video.mp4: 256x416 8 0s, 11.1ms\n",
      "video 1/1 (frame 375/644) C:\\Users\\dinyz\\Dinesh Ram\\Pycharm - Projects\\Wildlife Animal Detection\\test_videos\\cow_video.mp4: 256x416 9 0s, 1 2, 12.2ms\n",
      "video 1/1 (frame 376/644) C:\\Users\\dinyz\\Dinesh Ram\\Pycharm - Projects\\Wildlife Animal Detection\\test_videos\\cow_video.mp4: 256x416 6 0s, 10.8ms\n",
      "video 1/1 (frame 377/644) C:\\Users\\dinyz\\Dinesh Ram\\Pycharm - Projects\\Wildlife Animal Detection\\test_videos\\cow_video.mp4: 256x416 6 0s, 18.5ms\n",
      "video 1/1 (frame 378/644) C:\\Users\\dinyz\\Dinesh Ram\\Pycharm - Projects\\Wildlife Animal Detection\\test_videos\\cow_video.mp4: 256x416 6 0s, 1 2, 22.4ms\n",
      "video 1/1 (frame 379/644) C:\\Users\\dinyz\\Dinesh Ram\\Pycharm - Projects\\Wildlife Animal Detection\\test_videos\\cow_video.mp4: 256x416 5 0s, 2 2s, 18.0ms\n",
      "video 1/1 (frame 380/644) C:\\Users\\dinyz\\Dinesh Ram\\Pycharm - Projects\\Wildlife Animal Detection\\test_videos\\cow_video.mp4: 256x416 3 0s, 2 2s, 13.7ms\n",
      "video 1/1 (frame 381/644) C:\\Users\\dinyz\\Dinesh Ram\\Pycharm - Projects\\Wildlife Animal Detection\\test_videos\\cow_video.mp4: 256x416 5 0s, 1 2, 12.3ms\n",
      "video 1/1 (frame 382/644) C:\\Users\\dinyz\\Dinesh Ram\\Pycharm - Projects\\Wildlife Animal Detection\\test_videos\\cow_video.mp4: 256x416 4 0s, 1 2, 18.1ms\n",
      "video 1/1 (frame 383/644) C:\\Users\\dinyz\\Dinesh Ram\\Pycharm - Projects\\Wildlife Animal Detection\\test_videos\\cow_video.mp4: 256x416 5 0s, 1 2, 18.5ms\n",
      "video 1/1 (frame 384/644) C:\\Users\\dinyz\\Dinesh Ram\\Pycharm - Projects\\Wildlife Animal Detection\\test_videos\\cow_video.mp4: 256x416 3 0s, 1 2, 18.4ms\n",
      "video 1/1 (frame 385/644) C:\\Users\\dinyz\\Dinesh Ram\\Pycharm - Projects\\Wildlife Animal Detection\\test_videos\\cow_video.mp4: 256x416 2 0s, 1 2, 12.0ms\n",
      "video 1/1 (frame 386/644) C:\\Users\\dinyz\\Dinesh Ram\\Pycharm - Projects\\Wildlife Animal Detection\\test_videos\\cow_video.mp4: 256x416 1 0, 13.6ms\n",
      "video 1/1 (frame 387/644) C:\\Users\\dinyz\\Dinesh Ram\\Pycharm - Projects\\Wildlife Animal Detection\\test_videos\\cow_video.mp4: 256x416 3 0s, 1 2, 12.2ms\n",
      "video 1/1 (frame 388/644) C:\\Users\\dinyz\\Dinesh Ram\\Pycharm - Projects\\Wildlife Animal Detection\\test_videos\\cow_video.mp4: 256x416 3 0s, 12.2ms\n",
      "video 1/1 (frame 389/644) C:\\Users\\dinyz\\Dinesh Ram\\Pycharm - Projects\\Wildlife Animal Detection\\test_videos\\cow_video.mp4: 256x416 3 0s, 2 2s, 18.7ms\n",
      "video 1/1 (frame 390/644) C:\\Users\\dinyz\\Dinesh Ram\\Pycharm - Projects\\Wildlife Animal Detection\\test_videos\\cow_video.mp4: 256x416 2 0s, 1 2, 18.3ms\n",
      "video 1/1 (frame 391/644) C:\\Users\\dinyz\\Dinesh Ram\\Pycharm - Projects\\Wildlife Animal Detection\\test_videos\\cow_video.mp4: 256x416 5 0s, 1 1, 1 2, 17.6ms\n",
      "video 1/1 (frame 392/644) C:\\Users\\dinyz\\Dinesh Ram\\Pycharm - Projects\\Wildlife Animal Detection\\test_videos\\cow_video.mp4: 256x416 6 0s, 1 2, 17.3ms\n",
      "video 1/1 (frame 393/644) C:\\Users\\dinyz\\Dinesh Ram\\Pycharm - Projects\\Wildlife Animal Detection\\test_videos\\cow_video.mp4: 256x416 9 0s, 12.0ms\n",
      "video 1/1 (frame 394/644) C:\\Users\\dinyz\\Dinesh Ram\\Pycharm - Projects\\Wildlife Animal Detection\\test_videos\\cow_video.mp4: 256x416 7 0s, 1 2, 10.2ms\n",
      "video 1/1 (frame 395/644) C:\\Users\\dinyz\\Dinesh Ram\\Pycharm - Projects\\Wildlife Animal Detection\\test_videos\\cow_video.mp4: 256x416 5 0s, 1 2, 9.7ms\n",
      "video 1/1 (frame 396/644) C:\\Users\\dinyz\\Dinesh Ram\\Pycharm - Projects\\Wildlife Animal Detection\\test_videos\\cow_video.mp4: 256x416 4 0s, 1 2, 9.2ms\n",
      "video 1/1 (frame 397/644) C:\\Users\\dinyz\\Dinesh Ram\\Pycharm - Projects\\Wildlife Animal Detection\\test_videos\\cow_video.mp4: 256x416 2 0s, 1 2, 9.4ms\n",
      "video 1/1 (frame 398/644) C:\\Users\\dinyz\\Dinesh Ram\\Pycharm - Projects\\Wildlife Animal Detection\\test_videos\\cow_video.mp4: 256x416 2 0s, 1 2, 13.4ms\n",
      "video 1/1 (frame 399/644) C:\\Users\\dinyz\\Dinesh Ram\\Pycharm - Projects\\Wildlife Animal Detection\\test_videos\\cow_video.mp4: 256x416 4 0s, 2 2s, 12.7ms\n",
      "video 1/1 (frame 400/644) C:\\Users\\dinyz\\Dinesh Ram\\Pycharm - Projects\\Wildlife Animal Detection\\test_videos\\cow_video.mp4: 256x416 1 0, 3 2s, 8.5ms\n",
      "video 1/1 (frame 401/644) C:\\Users\\dinyz\\Dinesh Ram\\Pycharm - Projects\\Wildlife Animal Detection\\test_videos\\cow_video.mp4: 256x416 1 0, 2 2s, 9.3ms\n",
      "video 1/1 (frame 402/644) C:\\Users\\dinyz\\Dinesh Ram\\Pycharm - Projects\\Wildlife Animal Detection\\test_videos\\cow_video.mp4: 256x416 3 0s, 2 2s, 12.4ms\n",
      "video 1/1 (frame 403/644) C:\\Users\\dinyz\\Dinesh Ram\\Pycharm - Projects\\Wildlife Animal Detection\\test_videos\\cow_video.mp4: 256x416 5 0s, 1 2, 12.6ms\n",
      "video 1/1 (frame 404/644) C:\\Users\\dinyz\\Dinesh Ram\\Pycharm - Projects\\Wildlife Animal Detection\\test_videos\\cow_video.mp4: 256x416 6 0s, 1 2, 12.7ms\n",
      "video 1/1 (frame 405/644) C:\\Users\\dinyz\\Dinesh Ram\\Pycharm - Projects\\Wildlife Animal Detection\\test_videos\\cow_video.mp4: 256x416 5 0s, 1 2, 12.5ms\n",
      "video 1/1 (frame 406/644) C:\\Users\\dinyz\\Dinesh Ram\\Pycharm - Projects\\Wildlife Animal Detection\\test_videos\\cow_video.mp4: 256x416 7 0s, 1 2, 12.4ms\n",
      "video 1/1 (frame 407/644) C:\\Users\\dinyz\\Dinesh Ram\\Pycharm - Projects\\Wildlife Animal Detection\\test_videos\\cow_video.mp4: 256x416 3 0s, 9.8ms\n",
      "video 1/1 (frame 408/644) C:\\Users\\dinyz\\Dinesh Ram\\Pycharm - Projects\\Wildlife Animal Detection\\test_videos\\cow_video.mp4: 256x416 1 0, 2 2s, 13.8ms\n",
      "video 1/1 (frame 409/644) C:\\Users\\dinyz\\Dinesh Ram\\Pycharm - Projects\\Wildlife Animal Detection\\test_videos\\cow_video.mp4: 256x416 1 0, 1 2, 13.4ms\n",
      "video 1/1 (frame 410/644) C:\\Users\\dinyz\\Dinesh Ram\\Pycharm - Projects\\Wildlife Animal Detection\\test_videos\\cow_video.mp4: 256x416 2 0s, 1 2, 12.6ms\n",
      "video 1/1 (frame 411/644) C:\\Users\\dinyz\\Dinesh Ram\\Pycharm - Projects\\Wildlife Animal Detection\\test_videos\\cow_video.mp4: 256x416 2 0s, 1 2, 12.6ms\n",
      "video 1/1 (frame 412/644) C:\\Users\\dinyz\\Dinesh Ram\\Pycharm - Projects\\Wildlife Animal Detection\\test_videos\\cow_video.mp4: 256x416 1 0, 1 2, 12.7ms\n",
      "video 1/1 (frame 413/644) C:\\Users\\dinyz\\Dinesh Ram\\Pycharm - Projects\\Wildlife Animal Detection\\test_videos\\cow_video.mp4: 256x416 5 0s, 12.8ms\n",
      "video 1/1 (frame 414/644) C:\\Users\\dinyz\\Dinesh Ram\\Pycharm - Projects\\Wildlife Animal Detection\\test_videos\\cow_video.mp4: 256x416 1 0, 1 2, 12.7ms\n",
      "video 1/1 (frame 415/644) C:\\Users\\dinyz\\Dinesh Ram\\Pycharm - Projects\\Wildlife Animal Detection\\test_videos\\cow_video.mp4: 256x416 1 0, 1 2, 12.6ms\n",
      "video 1/1 (frame 416/644) C:\\Users\\dinyz\\Dinesh Ram\\Pycharm - Projects\\Wildlife Animal Detection\\test_videos\\cow_video.mp4: 256x416 4 0s, 1 2, 12.5ms\n",
      "video 1/1 (frame 417/644) C:\\Users\\dinyz\\Dinesh Ram\\Pycharm - Projects\\Wildlife Animal Detection\\test_videos\\cow_video.mp4: 256x416 2 2s, 10.4ms\n",
      "video 1/1 (frame 418/644) C:\\Users\\dinyz\\Dinesh Ram\\Pycharm - Projects\\Wildlife Animal Detection\\test_videos\\cow_video.mp4: 256x416 2 0s, 1 2, 14.7ms\n",
      "video 1/1 (frame 419/644) C:\\Users\\dinyz\\Dinesh Ram\\Pycharm - Projects\\Wildlife Animal Detection\\test_videos\\cow_video.mp4: 256x416 3 0s, 1 2, 12.6ms\n",
      "video 1/1 (frame 420/644) C:\\Users\\dinyz\\Dinesh Ram\\Pycharm - Projects\\Wildlife Animal Detection\\test_videos\\cow_video.mp4: 256x416 4 0s, 17.3ms\n",
      "video 1/1 (frame 421/644) C:\\Users\\dinyz\\Dinesh Ram\\Pycharm - Projects\\Wildlife Animal Detection\\test_videos\\cow_video.mp4: 256x416 3 0s, 12.5ms\n",
      "video 1/1 (frame 422/644) C:\\Users\\dinyz\\Dinesh Ram\\Pycharm - Projects\\Wildlife Animal Detection\\test_videos\\cow_video.mp4: 256x416 2 0s, 2 2s, 12.9ms\n",
      "video 1/1 (frame 423/644) C:\\Users\\dinyz\\Dinesh Ram\\Pycharm - Projects\\Wildlife Animal Detection\\test_videos\\cow_video.mp4: 256x416 4 0s, 1 2, 12.2ms\n",
      "video 1/1 (frame 424/644) C:\\Users\\dinyz\\Dinesh Ram\\Pycharm - Projects\\Wildlife Animal Detection\\test_videos\\cow_video.mp4: 256x416 4 0s, 1 2, 12.7ms\n",
      "video 1/1 (frame 425/644) C:\\Users\\dinyz\\Dinesh Ram\\Pycharm - Projects\\Wildlife Animal Detection\\test_videos\\cow_video.mp4: 256x416 9 0s, 13.5ms\n",
      "video 1/1 (frame 426/644) C:\\Users\\dinyz\\Dinesh Ram\\Pycharm - Projects\\Wildlife Animal Detection\\test_videos\\cow_video.mp4: 256x416 5 0s, 11.7ms\n",
      "video 1/1 (frame 427/644) C:\\Users\\dinyz\\Dinesh Ram\\Pycharm - Projects\\Wildlife Animal Detection\\test_videos\\cow_video.mp4: 256x416 9 0s, 13.6ms\n",
      "video 1/1 (frame 428/644) C:\\Users\\dinyz\\Dinesh Ram\\Pycharm - Projects\\Wildlife Animal Detection\\test_videos\\cow_video.mp4: 256x416 11 0s, 8.7ms\n",
      "video 1/1 (frame 429/644) C:\\Users\\dinyz\\Dinesh Ram\\Pycharm - Projects\\Wildlife Animal Detection\\test_videos\\cow_video.mp4: 256x416 6 0s, 15.5ms\n",
      "video 1/1 (frame 430/644) C:\\Users\\dinyz\\Dinesh Ram\\Pycharm - Projects\\Wildlife Animal Detection\\test_videos\\cow_video.mp4: 256x416 8 0s, 13.6ms\n",
      "video 1/1 (frame 431/644) C:\\Users\\dinyz\\Dinesh Ram\\Pycharm - Projects\\Wildlife Animal Detection\\test_videos\\cow_video.mp4: 256x416 11 0s, 10.9ms\n",
      "video 1/1 (frame 432/644) C:\\Users\\dinyz\\Dinesh Ram\\Pycharm - Projects\\Wildlife Animal Detection\\test_videos\\cow_video.mp4: 256x416 8 0s, 13.5ms\n",
      "video 1/1 (frame 433/644) C:\\Users\\dinyz\\Dinesh Ram\\Pycharm - Projects\\Wildlife Animal Detection\\test_videos\\cow_video.mp4: 256x416 10 0s, 13.0ms\n",
      "video 1/1 (frame 434/644) C:\\Users\\dinyz\\Dinesh Ram\\Pycharm - Projects\\Wildlife Animal Detection\\test_videos\\cow_video.mp4: 256x416 13 0s, 13.4ms\n",
      "video 1/1 (frame 435/644) C:\\Users\\dinyz\\Dinesh Ram\\Pycharm - Projects\\Wildlife Animal Detection\\test_videos\\cow_video.mp4: 256x416 8 0s, 13.8ms\n",
      "video 1/1 (frame 436/644) C:\\Users\\dinyz\\Dinesh Ram\\Pycharm - Projects\\Wildlife Animal Detection\\test_videos\\cow_video.mp4: 256x416 10 0s, 14.1ms\n",
      "video 1/1 (frame 437/644) C:\\Users\\dinyz\\Dinesh Ram\\Pycharm - Projects\\Wildlife Animal Detection\\test_videos\\cow_video.mp4: 256x416 9 0s, 13.8ms\n",
      "video 1/1 (frame 438/644) C:\\Users\\dinyz\\Dinesh Ram\\Pycharm - Projects\\Wildlife Animal Detection\\test_videos\\cow_video.mp4: 256x416 11 0s, 8.7ms\n",
      "video 1/1 (frame 439/644) C:\\Users\\dinyz\\Dinesh Ram\\Pycharm - Projects\\Wildlife Animal Detection\\test_videos\\cow_video.mp4: 256x416 10 0s, 8.4ms\n",
      "video 1/1 (frame 440/644) C:\\Users\\dinyz\\Dinesh Ram\\Pycharm - Projects\\Wildlife Animal Detection\\test_videos\\cow_video.mp4: 256x416 10 0s, 10.9ms\n",
      "video 1/1 (frame 441/644) C:\\Users\\dinyz\\Dinesh Ram\\Pycharm - Projects\\Wildlife Animal Detection\\test_videos\\cow_video.mp4: 256x416 7 0s, 15.9ms\n",
      "video 1/1 (frame 442/644) C:\\Users\\dinyz\\Dinesh Ram\\Pycharm - Projects\\Wildlife Animal Detection\\test_videos\\cow_video.mp4: 256x416 9 0s, 10.9ms\n",
      "video 1/1 (frame 443/644) C:\\Users\\dinyz\\Dinesh Ram\\Pycharm - Projects\\Wildlife Animal Detection\\test_videos\\cow_video.mp4: 256x416 9 0s, 12.3ms\n",
      "video 1/1 (frame 444/644) C:\\Users\\dinyz\\Dinesh Ram\\Pycharm - Projects\\Wildlife Animal Detection\\test_videos\\cow_video.mp4: 256x416 12 0s, 12.6ms\n",
      "video 1/1 (frame 445/644) C:\\Users\\dinyz\\Dinesh Ram\\Pycharm - Projects\\Wildlife Animal Detection\\test_videos\\cow_video.mp4: 256x416 7 0s, 12.4ms\n",
      "video 1/1 (frame 446/644) C:\\Users\\dinyz\\Dinesh Ram\\Pycharm - Projects\\Wildlife Animal Detection\\test_videos\\cow_video.mp4: 256x416 11 0s, 11.5ms\n",
      "video 1/1 (frame 447/644) C:\\Users\\dinyz\\Dinesh Ram\\Pycharm - Projects\\Wildlife Animal Detection\\test_videos\\cow_video.mp4: 256x416 11 0s, 12.6ms\n",
      "video 1/1 (frame 448/644) C:\\Users\\dinyz\\Dinesh Ram\\Pycharm - Projects\\Wildlife Animal Detection\\test_videos\\cow_video.mp4: 256x416 12 0s, 11.8ms\n",
      "video 1/1 (frame 449/644) C:\\Users\\dinyz\\Dinesh Ram\\Pycharm - Projects\\Wildlife Animal Detection\\test_videos\\cow_video.mp4: 256x416 19 0s, 12.0ms\n",
      "video 1/1 (frame 450/644) C:\\Users\\dinyz\\Dinesh Ram\\Pycharm - Projects\\Wildlife Animal Detection\\test_videos\\cow_video.mp4: 256x416 20 0s, 12.1ms\n",
      "video 1/1 (frame 451/644) C:\\Users\\dinyz\\Dinesh Ram\\Pycharm - Projects\\Wildlife Animal Detection\\test_videos\\cow_video.mp4: 256x416 13 0s, 17.0ms\n",
      "video 1/1 (frame 452/644) C:\\Users\\dinyz\\Dinesh Ram\\Pycharm - Projects\\Wildlife Animal Detection\\test_videos\\cow_video.mp4: 256x416 14 0s, 18.0ms\n",
      "video 1/1 (frame 453/644) C:\\Users\\dinyz\\Dinesh Ram\\Pycharm - Projects\\Wildlife Animal Detection\\test_videos\\cow_video.mp4: 256x416 13 0s, 12.5ms\n",
      "video 1/1 (frame 454/644) C:\\Users\\dinyz\\Dinesh Ram\\Pycharm - Projects\\Wildlife Animal Detection\\test_videos\\cow_video.mp4: 256x416 14 0s, 12.2ms\n",
      "video 1/1 (frame 455/644) C:\\Users\\dinyz\\Dinesh Ram\\Pycharm - Projects\\Wildlife Animal Detection\\test_videos\\cow_video.mp4: 256x416 11 0s, 11.9ms\n",
      "video 1/1 (frame 456/644) C:\\Users\\dinyz\\Dinesh Ram\\Pycharm - Projects\\Wildlife Animal Detection\\test_videos\\cow_video.mp4: 256x416 11 0s, 12.8ms\n",
      "video 1/1 (frame 457/644) C:\\Users\\dinyz\\Dinesh Ram\\Pycharm - Projects\\Wildlife Animal Detection\\test_videos\\cow_video.mp4: 256x416 16 0s, 12.4ms\n",
      "video 1/1 (frame 458/644) C:\\Users\\dinyz\\Dinesh Ram\\Pycharm - Projects\\Wildlife Animal Detection\\test_videos\\cow_video.mp4: 256x416 17 0s, 11.8ms\n",
      "video 1/1 (frame 459/644) C:\\Users\\dinyz\\Dinesh Ram\\Pycharm - Projects\\Wildlife Animal Detection\\test_videos\\cow_video.mp4: 256x416 14 0s, 9.5ms\n",
      "video 1/1 (frame 460/644) C:\\Users\\dinyz\\Dinesh Ram\\Pycharm - Projects\\Wildlife Animal Detection\\test_videos\\cow_video.mp4: 256x416 14 0s, 25.2ms\n",
      "video 1/1 (frame 461/644) C:\\Users\\dinyz\\Dinesh Ram\\Pycharm - Projects\\Wildlife Animal Detection\\test_videos\\cow_video.mp4: 256x416 17 0s, 15.0ms\n",
      "video 1/1 (frame 462/644) C:\\Users\\dinyz\\Dinesh Ram\\Pycharm - Projects\\Wildlife Animal Detection\\test_videos\\cow_video.mp4: 256x416 15 0s, 9.2ms\n",
      "video 1/1 (frame 463/644) C:\\Users\\dinyz\\Dinesh Ram\\Pycharm - Projects\\Wildlife Animal Detection\\test_videos\\cow_video.mp4: 256x416 12 0s, 24.7ms\n",
      "video 1/1 (frame 464/644) C:\\Users\\dinyz\\Dinesh Ram\\Pycharm - Projects\\Wildlife Animal Detection\\test_videos\\cow_video.mp4: 256x416 14 0s, 11.8ms\n",
      "video 1/1 (frame 465/644) C:\\Users\\dinyz\\Dinesh Ram\\Pycharm - Projects\\Wildlife Animal Detection\\test_videos\\cow_video.mp4: 256x416 10 0s, 12.3ms\n",
      "video 1/1 (frame 466/644) C:\\Users\\dinyz\\Dinesh Ram\\Pycharm - Projects\\Wildlife Animal Detection\\test_videos\\cow_video.mp4: 256x416 11 0s, 10.8ms\n",
      "video 1/1 (frame 467/644) C:\\Users\\dinyz\\Dinesh Ram\\Pycharm - Projects\\Wildlife Animal Detection\\test_videos\\cow_video.mp4: 256x416 10 0s, 10.8ms\n",
      "video 1/1 (frame 468/644) C:\\Users\\dinyz\\Dinesh Ram\\Pycharm - Projects\\Wildlife Animal Detection\\test_videos\\cow_video.mp4: 256x416 12 0s, 8.8ms\n",
      "video 1/1 (frame 469/644) C:\\Users\\dinyz\\Dinesh Ram\\Pycharm - Projects\\Wildlife Animal Detection\\test_videos\\cow_video.mp4: 256x416 10 0s, 12.1ms\n",
      "video 1/1 (frame 470/644) C:\\Users\\dinyz\\Dinesh Ram\\Pycharm - Projects\\Wildlife Animal Detection\\test_videos\\cow_video.mp4: 256x416 13 0s, 15.0ms\n",
      "video 1/1 (frame 471/644) C:\\Users\\dinyz\\Dinesh Ram\\Pycharm - Projects\\Wildlife Animal Detection\\test_videos\\cow_video.mp4: 256x416 13 0s, 11.3ms\n",
      "video 1/1 (frame 472/644) C:\\Users\\dinyz\\Dinesh Ram\\Pycharm - Projects\\Wildlife Animal Detection\\test_videos\\cow_video.mp4: 256x416 13 0s, 19.1ms\n",
      "video 1/1 (frame 473/644) C:\\Users\\dinyz\\Dinesh Ram\\Pycharm - Projects\\Wildlife Animal Detection\\test_videos\\cow_video.mp4: 256x416 11 0s, 19.2ms\n",
      "video 1/1 (frame 474/644) C:\\Users\\dinyz\\Dinesh Ram\\Pycharm - Projects\\Wildlife Animal Detection\\test_videos\\cow_video.mp4: 256x416 12 0s, 19.0ms\n",
      "video 1/1 (frame 475/644) C:\\Users\\dinyz\\Dinesh Ram\\Pycharm - Projects\\Wildlife Animal Detection\\test_videos\\cow_video.mp4: 256x416 13 0s, 18.6ms\n",
      "video 1/1 (frame 476/644) C:\\Users\\dinyz\\Dinesh Ram\\Pycharm - Projects\\Wildlife Animal Detection\\test_videos\\cow_video.mp4: 256x416 13 0s, 19.2ms\n",
      "video 1/1 (frame 477/644) C:\\Users\\dinyz\\Dinesh Ram\\Pycharm - Projects\\Wildlife Animal Detection\\test_videos\\cow_video.mp4: 256x416 9 0s, 12.9ms\n",
      "video 1/1 (frame 478/644) C:\\Users\\dinyz\\Dinesh Ram\\Pycharm - Projects\\Wildlife Animal Detection\\test_videos\\cow_video.mp4: 256x416 11 0s, 18.3ms\n",
      "video 1/1 (frame 479/644) C:\\Users\\dinyz\\Dinesh Ram\\Pycharm - Projects\\Wildlife Animal Detection\\test_videos\\cow_video.mp4: 256x416 9 0s, 18.1ms\n",
      "video 1/1 (frame 480/644) C:\\Users\\dinyz\\Dinesh Ram\\Pycharm - Projects\\Wildlife Animal Detection\\test_videos\\cow_video.mp4: 256x416 7 0s, 15.2ms\n",
      "video 1/1 (frame 481/644) C:\\Users\\dinyz\\Dinesh Ram\\Pycharm - Projects\\Wildlife Animal Detection\\test_videos\\cow_video.mp4: 256x416 8 0s, 18.5ms\n",
      "video 1/1 (frame 482/644) C:\\Users\\dinyz\\Dinesh Ram\\Pycharm - Projects\\Wildlife Animal Detection\\test_videos\\cow_video.mp4: 256x416 10 0s, 16.1ms\n",
      "video 1/1 (frame 483/644) C:\\Users\\dinyz\\Dinesh Ram\\Pycharm - Projects\\Wildlife Animal Detection\\test_videos\\cow_video.mp4: 256x416 8 0s, 12.0ms\n",
      "video 1/1 (frame 484/644) C:\\Users\\dinyz\\Dinesh Ram\\Pycharm - Projects\\Wildlife Animal Detection\\test_videos\\cow_video.mp4: 256x416 8 0s, 8.9ms\n",
      "video 1/1 (frame 485/644) C:\\Users\\dinyz\\Dinesh Ram\\Pycharm - Projects\\Wildlife Animal Detection\\test_videos\\cow_video.mp4: 256x416 7 0s, 13.2ms\n",
      "video 1/1 (frame 486/644) C:\\Users\\dinyz\\Dinesh Ram\\Pycharm - Projects\\Wildlife Animal Detection\\test_videos\\cow_video.mp4: 256x416 9 0s, 11.4ms\n",
      "video 1/1 (frame 487/644) C:\\Users\\dinyz\\Dinesh Ram\\Pycharm - Projects\\Wildlife Animal Detection\\test_videos\\cow_video.mp4: 256x416 9 0s, 11.3ms\n",
      "video 1/1 (frame 488/644) C:\\Users\\dinyz\\Dinesh Ram\\Pycharm - Projects\\Wildlife Animal Detection\\test_videos\\cow_video.mp4: 256x416 9 0s, 21.7ms\n",
      "video 1/1 (frame 489/644) C:\\Users\\dinyz\\Dinesh Ram\\Pycharm - Projects\\Wildlife Animal Detection\\test_videos\\cow_video.mp4: 256x416 12 0s, 15.0ms\n",
      "video 1/1 (frame 490/644) C:\\Users\\dinyz\\Dinesh Ram\\Pycharm - Projects\\Wildlife Animal Detection\\test_videos\\cow_video.mp4: 256x416 8 0s, 19.1ms\n",
      "video 1/1 (frame 491/644) C:\\Users\\dinyz\\Dinesh Ram\\Pycharm - Projects\\Wildlife Animal Detection\\test_videos\\cow_video.mp4: 256x416 9 0s, 11.6ms\n",
      "video 1/1 (frame 492/644) C:\\Users\\dinyz\\Dinesh Ram\\Pycharm - Projects\\Wildlife Animal Detection\\test_videos\\cow_video.mp4: 256x416 7 0s, 12.6ms\n",
      "video 1/1 (frame 493/644) C:\\Users\\dinyz\\Dinesh Ram\\Pycharm - Projects\\Wildlife Animal Detection\\test_videos\\cow_video.mp4: 256x416 8 0s, 12.2ms\n",
      "video 1/1 (frame 494/644) C:\\Users\\dinyz\\Dinesh Ram\\Pycharm - Projects\\Wildlife Animal Detection\\test_videos\\cow_video.mp4: 256x416 11 0s, 13.2ms\n",
      "video 1/1 (frame 495/644) C:\\Users\\dinyz\\Dinesh Ram\\Pycharm - Projects\\Wildlife Animal Detection\\test_videos\\cow_video.mp4: 256x416 8 0s, 10.6ms\n",
      "video 1/1 (frame 496/644) C:\\Users\\dinyz\\Dinesh Ram\\Pycharm - Projects\\Wildlife Animal Detection\\test_videos\\cow_video.mp4: 256x416 9 0s, 11.9ms\n",
      "video 1/1 (frame 497/644) C:\\Users\\dinyz\\Dinesh Ram\\Pycharm - Projects\\Wildlife Animal Detection\\test_videos\\cow_video.mp4: 256x416 8 0s, 13.5ms\n",
      "video 1/1 (frame 498/644) C:\\Users\\dinyz\\Dinesh Ram\\Pycharm - Projects\\Wildlife Animal Detection\\test_videos\\cow_video.mp4: 256x416 10 0s, 14.3ms\n",
      "video 1/1 (frame 499/644) C:\\Users\\dinyz\\Dinesh Ram\\Pycharm - Projects\\Wildlife Animal Detection\\test_videos\\cow_video.mp4: 256x416 6 0s, 13.9ms\n",
      "video 1/1 (frame 500/644) C:\\Users\\dinyz\\Dinesh Ram\\Pycharm - Projects\\Wildlife Animal Detection\\test_videos\\cow_video.mp4: 256x416 4 0s, 1 2, 13.8ms\n",
      "video 1/1 (frame 501/644) C:\\Users\\dinyz\\Dinesh Ram\\Pycharm - Projects\\Wildlife Animal Detection\\test_videos\\cow_video.mp4: 256x416 6 0s, 2 2s, 16.8ms\n",
      "video 1/1 (frame 502/644) C:\\Users\\dinyz\\Dinesh Ram\\Pycharm - Projects\\Wildlife Animal Detection\\test_videos\\cow_video.mp4: 256x416 4 0s, 2 2s, 13.1ms\n",
      "video 1/1 (frame 503/644) C:\\Users\\dinyz\\Dinesh Ram\\Pycharm - Projects\\Wildlife Animal Detection\\test_videos\\cow_video.mp4: 256x416 6 0s, 1 2, 12.7ms\n",
      "video 1/1 (frame 504/644) C:\\Users\\dinyz\\Dinesh Ram\\Pycharm - Projects\\Wildlife Animal Detection\\test_videos\\cow_video.mp4: 256x416 6 0s, 1 2, 12.8ms\n",
      "video 1/1 (frame 505/644) C:\\Users\\dinyz\\Dinesh Ram\\Pycharm - Projects\\Wildlife Animal Detection\\test_videos\\cow_video.mp4: 256x416 6 0s, 1 2, 16.6ms\n",
      "video 1/1 (frame 506/644) C:\\Users\\dinyz\\Dinesh Ram\\Pycharm - Projects\\Wildlife Animal Detection\\test_videos\\cow_video.mp4: 256x416 3 0s, 1 2, 12.9ms\n",
      "video 1/1 (frame 507/644) C:\\Users\\dinyz\\Dinesh Ram\\Pycharm - Projects\\Wildlife Animal Detection\\test_videos\\cow_video.mp4: 256x416 2 0s, 13.4ms\n",
      "video 1/1 (frame 508/644) C:\\Users\\dinyz\\Dinesh Ram\\Pycharm - Projects\\Wildlife Animal Detection\\test_videos\\cow_video.mp4: 256x416 3 0s, 1 2, 19.6ms\n",
      "video 1/1 (frame 509/644) C:\\Users\\dinyz\\Dinesh Ram\\Pycharm - Projects\\Wildlife Animal Detection\\test_videos\\cow_video.mp4: 256x416 3 0s, 9.5ms\n",
      "video 1/1 (frame 510/644) C:\\Users\\dinyz\\Dinesh Ram\\Pycharm - Projects\\Wildlife Animal Detection\\test_videos\\cow_video.mp4: 256x416 4 0s, 10.0ms\n",
      "video 1/1 (frame 511/644) C:\\Users\\dinyz\\Dinesh Ram\\Pycharm - Projects\\Wildlife Animal Detection\\test_videos\\cow_video.mp4: 256x416 2 0s, 11.9ms\n",
      "video 1/1 (frame 512/644) C:\\Users\\dinyz\\Dinesh Ram\\Pycharm - Projects\\Wildlife Animal Detection\\test_videos\\cow_video.mp4: 256x416 3 0s, 13.5ms\n",
      "video 1/1 (frame 513/644) C:\\Users\\dinyz\\Dinesh Ram\\Pycharm - Projects\\Wildlife Animal Detection\\test_videos\\cow_video.mp4: 256x416 3 0s, 13.4ms\n",
      "video 1/1 (frame 514/644) C:\\Users\\dinyz\\Dinesh Ram\\Pycharm - Projects\\Wildlife Animal Detection\\test_videos\\cow_video.mp4: 256x416 4 0s, 14.7ms\n",
      "video 1/1 (frame 515/644) C:\\Users\\dinyz\\Dinesh Ram\\Pycharm - Projects\\Wildlife Animal Detection\\test_videos\\cow_video.mp4: 256x416 3 0s, 13.2ms\n",
      "video 1/1 (frame 516/644) C:\\Users\\dinyz\\Dinesh Ram\\Pycharm - Projects\\Wildlife Animal Detection\\test_videos\\cow_video.mp4: 256x416 (no detections), 13.7ms\n",
      "video 1/1 (frame 517/644) C:\\Users\\dinyz\\Dinesh Ram\\Pycharm - Projects\\Wildlife Animal Detection\\test_videos\\cow_video.mp4: 256x416 3 0s, 12.2ms\n",
      "video 1/1 (frame 518/644) C:\\Users\\dinyz\\Dinesh Ram\\Pycharm - Projects\\Wildlife Animal Detection\\test_videos\\cow_video.mp4: 256x416 3 0s, 11.9ms\n",
      "video 1/1 (frame 519/644) C:\\Users\\dinyz\\Dinesh Ram\\Pycharm - Projects\\Wildlife Animal Detection\\test_videos\\cow_video.mp4: 256x416 3 0s, 20.0ms\n",
      "video 1/1 (frame 520/644) C:\\Users\\dinyz\\Dinesh Ram\\Pycharm - Projects\\Wildlife Animal Detection\\test_videos\\cow_video.mp4: 256x416 2 0s, 12.7ms\n",
      "video 1/1 (frame 521/644) C:\\Users\\dinyz\\Dinesh Ram\\Pycharm - Projects\\Wildlife Animal Detection\\test_videos\\cow_video.mp4: 256x416 2 0s, 13.7ms\n",
      "video 1/1 (frame 522/644) C:\\Users\\dinyz\\Dinesh Ram\\Pycharm - Projects\\Wildlife Animal Detection\\test_videos\\cow_video.mp4: 256x416 1 0, 19.8ms\n",
      "video 1/1 (frame 523/644) C:\\Users\\dinyz\\Dinesh Ram\\Pycharm - Projects\\Wildlife Animal Detection\\test_videos\\cow_video.mp4: 256x416 2 0s, 15.1ms\n",
      "video 1/1 (frame 524/644) C:\\Users\\dinyz\\Dinesh Ram\\Pycharm - Projects\\Wildlife Animal Detection\\test_videos\\cow_video.mp4: 256x416 (no detections), 10.2ms\n",
      "video 1/1 (frame 525/644) C:\\Users\\dinyz\\Dinesh Ram\\Pycharm - Projects\\Wildlife Animal Detection\\test_videos\\cow_video.mp4: 256x416 1 0, 22.0ms\n",
      "video 1/1 (frame 526/644) C:\\Users\\dinyz\\Dinesh Ram\\Pycharm - Projects\\Wildlife Animal Detection\\test_videos\\cow_video.mp4: 256x416 1 0, 12.8ms\n",
      "video 1/1 (frame 527/644) C:\\Users\\dinyz\\Dinesh Ram\\Pycharm - Projects\\Wildlife Animal Detection\\test_videos\\cow_video.mp4: 256x416 3 0s, 22.5ms\n",
      "video 1/1 (frame 528/644) C:\\Users\\dinyz\\Dinesh Ram\\Pycharm - Projects\\Wildlife Animal Detection\\test_videos\\cow_video.mp4: 256x416 5 0s, 15.8ms\n",
      "video 1/1 (frame 529/644) C:\\Users\\dinyz\\Dinesh Ram\\Pycharm - Projects\\Wildlife Animal Detection\\test_videos\\cow_video.mp4: 256x416 2 0s, 18.3ms\n",
      "video 1/1 (frame 530/644) C:\\Users\\dinyz\\Dinesh Ram\\Pycharm - Projects\\Wildlife Animal Detection\\test_videos\\cow_video.mp4: 256x416 3 0s, 16.1ms\n",
      "video 1/1 (frame 531/644) C:\\Users\\dinyz\\Dinesh Ram\\Pycharm - Projects\\Wildlife Animal Detection\\test_videos\\cow_video.mp4: 256x416 5 0s, 17.5ms\n",
      "video 1/1 (frame 532/644) C:\\Users\\dinyz\\Dinesh Ram\\Pycharm - Projects\\Wildlife Animal Detection\\test_videos\\cow_video.mp4: 256x416 6 0s, 11.2ms\n",
      "video 1/1 (frame 533/644) C:\\Users\\dinyz\\Dinesh Ram\\Pycharm - Projects\\Wildlife Animal Detection\\test_videos\\cow_video.mp4: 256x416 5 0s, 14.3ms\n",
      "video 1/1 (frame 534/644) C:\\Users\\dinyz\\Dinesh Ram\\Pycharm - Projects\\Wildlife Animal Detection\\test_videos\\cow_video.mp4: 256x416 1 0, 11.7ms\n",
      "video 1/1 (frame 535/644) C:\\Users\\dinyz\\Dinesh Ram\\Pycharm - Projects\\Wildlife Animal Detection\\test_videos\\cow_video.mp4: 256x416 2 0s, 14.8ms\n",
      "video 1/1 (frame 536/644) C:\\Users\\dinyz\\Dinesh Ram\\Pycharm - Projects\\Wildlife Animal Detection\\test_videos\\cow_video.mp4: 256x416 5 0s, 16.2ms\n",
      "video 1/1 (frame 537/644) C:\\Users\\dinyz\\Dinesh Ram\\Pycharm - Projects\\Wildlife Animal Detection\\test_videos\\cow_video.mp4: 256x416 1 0, 17.1ms\n",
      "video 1/1 (frame 538/644) C:\\Users\\dinyz\\Dinesh Ram\\Pycharm - Projects\\Wildlife Animal Detection\\test_videos\\cow_video.mp4: 256x416 2 0s, 21.2ms\n",
      "video 1/1 (frame 539/644) C:\\Users\\dinyz\\Dinesh Ram\\Pycharm - Projects\\Wildlife Animal Detection\\test_videos\\cow_video.mp4: 256x416 1 0, 12.2ms\n",
      "video 1/1 (frame 540/644) C:\\Users\\dinyz\\Dinesh Ram\\Pycharm - Projects\\Wildlife Animal Detection\\test_videos\\cow_video.mp4: 256x416 1 0, 14.1ms\n",
      "video 1/1 (frame 541/644) C:\\Users\\dinyz\\Dinesh Ram\\Pycharm - Projects\\Wildlife Animal Detection\\test_videos\\cow_video.mp4: 256x416 3 0s, 10.0ms\n",
      "video 1/1 (frame 542/644) C:\\Users\\dinyz\\Dinesh Ram\\Pycharm - Projects\\Wildlife Animal Detection\\test_videos\\cow_video.mp4: 256x416 2 0s, 10.2ms\n",
      "video 1/1 (frame 543/644) C:\\Users\\dinyz\\Dinesh Ram\\Pycharm - Projects\\Wildlife Animal Detection\\test_videos\\cow_video.mp4: 256x416 2 0s, 9.3ms\n",
      "video 1/1 (frame 544/644) C:\\Users\\dinyz\\Dinesh Ram\\Pycharm - Projects\\Wildlife Animal Detection\\test_videos\\cow_video.mp4: 256x416 3 0s, 9.1ms\n",
      "video 1/1 (frame 545/644) C:\\Users\\dinyz\\Dinesh Ram\\Pycharm - Projects\\Wildlife Animal Detection\\test_videos\\cow_video.mp4: 256x416 3 0s, 20.9ms\n",
      "video 1/1 (frame 546/644) C:\\Users\\dinyz\\Dinesh Ram\\Pycharm - Projects\\Wildlife Animal Detection\\test_videos\\cow_video.mp4: 256x416 2 0s, 14.9ms\n",
      "video 1/1 (frame 547/644) C:\\Users\\dinyz\\Dinesh Ram\\Pycharm - Projects\\Wildlife Animal Detection\\test_videos\\cow_video.mp4: 256x416 4 0s, 15.0ms\n",
      "video 1/1 (frame 548/644) C:\\Users\\dinyz\\Dinesh Ram\\Pycharm - Projects\\Wildlife Animal Detection\\test_videos\\cow_video.mp4: 256x416 6 0s, 8.8ms\n",
      "video 1/1 (frame 549/644) C:\\Users\\dinyz\\Dinesh Ram\\Pycharm - Projects\\Wildlife Animal Detection\\test_videos\\cow_video.mp4: 256x416 7 0s, 9.1ms\n",
      "video 1/1 (frame 550/644) C:\\Users\\dinyz\\Dinesh Ram\\Pycharm - Projects\\Wildlife Animal Detection\\test_videos\\cow_video.mp4: 256x416 4 0s, 13.8ms\n",
      "video 1/1 (frame 551/644) C:\\Users\\dinyz\\Dinesh Ram\\Pycharm - Projects\\Wildlife Animal Detection\\test_videos\\cow_video.mp4: 256x416 9 0s, 9.9ms\n",
      "video 1/1 (frame 552/644) C:\\Users\\dinyz\\Dinesh Ram\\Pycharm - Projects\\Wildlife Animal Detection\\test_videos\\cow_video.mp4: 256x416 4 0s, 13.1ms\n",
      "video 1/1 (frame 553/644) C:\\Users\\dinyz\\Dinesh Ram\\Pycharm - Projects\\Wildlife Animal Detection\\test_videos\\cow_video.mp4: 256x416 3 0s, 13.5ms\n",
      "video 1/1 (frame 554/644) C:\\Users\\dinyz\\Dinesh Ram\\Pycharm - Projects\\Wildlife Animal Detection\\test_videos\\cow_video.mp4: 256x416 4 0s, 15.6ms\n",
      "video 1/1 (frame 555/644) C:\\Users\\dinyz\\Dinesh Ram\\Pycharm - Projects\\Wildlife Animal Detection\\test_videos\\cow_video.mp4: 256x416 3 0s, 12.9ms\n",
      "video 1/1 (frame 556/644) C:\\Users\\dinyz\\Dinesh Ram\\Pycharm - Projects\\Wildlife Animal Detection\\test_videos\\cow_video.mp4: 256x416 2 0s, 13.5ms\n",
      "video 1/1 (frame 557/644) C:\\Users\\dinyz\\Dinesh Ram\\Pycharm - Projects\\Wildlife Animal Detection\\test_videos\\cow_video.mp4: 256x416 1 0, 20.5ms\n",
      "video 1/1 (frame 558/644) C:\\Users\\dinyz\\Dinesh Ram\\Pycharm - Projects\\Wildlife Animal Detection\\test_videos\\cow_video.mp4: 256x416 5 0s, 13.2ms\n",
      "video 1/1 (frame 559/644) C:\\Users\\dinyz\\Dinesh Ram\\Pycharm - Projects\\Wildlife Animal Detection\\test_videos\\cow_video.mp4: 256x416 2 0s, 13.6ms\n",
      "video 1/1 (frame 560/644) C:\\Users\\dinyz\\Dinesh Ram\\Pycharm - Projects\\Wildlife Animal Detection\\test_videos\\cow_video.mp4: 256x416 1 0, 13.0ms\n",
      "video 1/1 (frame 561/644) C:\\Users\\dinyz\\Dinesh Ram\\Pycharm - Projects\\Wildlife Animal Detection\\test_videos\\cow_video.mp4: 256x416 1 0, 12.3ms\n",
      "video 1/1 (frame 562/644) C:\\Users\\dinyz\\Dinesh Ram\\Pycharm - Projects\\Wildlife Animal Detection\\test_videos\\cow_video.mp4: 256x416 4 0s, 13.5ms\n",
      "video 1/1 (frame 563/644) C:\\Users\\dinyz\\Dinesh Ram\\Pycharm - Projects\\Wildlife Animal Detection\\test_videos\\cow_video.mp4: 256x416 2 0s, 11.7ms\n",
      "video 1/1 (frame 564/644) C:\\Users\\dinyz\\Dinesh Ram\\Pycharm - Projects\\Wildlife Animal Detection\\test_videos\\cow_video.mp4: 256x416 2 0s, 13.6ms\n",
      "video 1/1 (frame 565/644) C:\\Users\\dinyz\\Dinesh Ram\\Pycharm - Projects\\Wildlife Animal Detection\\test_videos\\cow_video.mp4: 256x416 (no detections), 19.4ms\n",
      "video 1/1 (frame 566/644) C:\\Users\\dinyz\\Dinesh Ram\\Pycharm - Projects\\Wildlife Animal Detection\\test_videos\\cow_video.mp4: 256x416 3 0s, 20.3ms\n",
      "video 1/1 (frame 567/644) C:\\Users\\dinyz\\Dinesh Ram\\Pycharm - Projects\\Wildlife Animal Detection\\test_videos\\cow_video.mp4: 256x416 5 0s, 18.9ms\n",
      "video 1/1 (frame 568/644) C:\\Users\\dinyz\\Dinesh Ram\\Pycharm - Projects\\Wildlife Animal Detection\\test_videos\\cow_video.mp4: 256x416 5 0s, 11.4ms\n",
      "video 1/1 (frame 569/644) C:\\Users\\dinyz\\Dinesh Ram\\Pycharm - Projects\\Wildlife Animal Detection\\test_videos\\cow_video.mp4: 256x416 6 0s, 13.5ms\n",
      "video 1/1 (frame 570/644) C:\\Users\\dinyz\\Dinesh Ram\\Pycharm - Projects\\Wildlife Animal Detection\\test_videos\\cow_video.mp4: 256x416 6 0s, 13.5ms\n",
      "video 1/1 (frame 571/644) C:\\Users\\dinyz\\Dinesh Ram\\Pycharm - Projects\\Wildlife Animal Detection\\test_videos\\cow_video.mp4: 256x416 7 0s, 13.5ms\n",
      "video 1/1 (frame 572/644) C:\\Users\\dinyz\\Dinesh Ram\\Pycharm - Projects\\Wildlife Animal Detection\\test_videos\\cow_video.mp4: 256x416 4 0s, 13.1ms\n",
      "video 1/1 (frame 573/644) C:\\Users\\dinyz\\Dinesh Ram\\Pycharm - Projects\\Wildlife Animal Detection\\test_videos\\cow_video.mp4: 256x416 4 0s, 20.4ms\n",
      "video 1/1 (frame 574/644) C:\\Users\\dinyz\\Dinesh Ram\\Pycharm - Projects\\Wildlife Animal Detection\\test_videos\\cow_video.mp4: 256x416 6 0s, 19.9ms\n",
      "video 1/1 (frame 575/644) C:\\Users\\dinyz\\Dinesh Ram\\Pycharm - Projects\\Wildlife Animal Detection\\test_videos\\cow_video.mp4: 256x416 4 0s, 16.7ms\n",
      "video 1/1 (frame 576/644) C:\\Users\\dinyz\\Dinesh Ram\\Pycharm - Projects\\Wildlife Animal Detection\\test_videos\\cow_video.mp4: 256x416 3 0s, 11.7ms\n",
      "video 1/1 (frame 577/644) C:\\Users\\dinyz\\Dinesh Ram\\Pycharm - Projects\\Wildlife Animal Detection\\test_videos\\cow_video.mp4: 256x416 3 0s, 13.5ms\n",
      "video 1/1 (frame 578/644) C:\\Users\\dinyz\\Dinesh Ram\\Pycharm - Projects\\Wildlife Animal Detection\\test_videos\\cow_video.mp4: 256x416 5 0s, 11.5ms\n",
      "video 1/1 (frame 579/644) C:\\Users\\dinyz\\Dinesh Ram\\Pycharm - Projects\\Wildlife Animal Detection\\test_videos\\cow_video.mp4: 256x416 4 0s, 14.7ms\n",
      "video 1/1 (frame 580/644) C:\\Users\\dinyz\\Dinesh Ram\\Pycharm - Projects\\Wildlife Animal Detection\\test_videos\\cow_video.mp4: 256x416 4 0s, 8.5ms\n",
      "video 1/1 (frame 581/644) C:\\Users\\dinyz\\Dinesh Ram\\Pycharm - Projects\\Wildlife Animal Detection\\test_videos\\cow_video.mp4: 256x416 5 0s, 14.5ms\n",
      "video 1/1 (frame 582/644) C:\\Users\\dinyz\\Dinesh Ram\\Pycharm - Projects\\Wildlife Animal Detection\\test_videos\\cow_video.mp4: 256x416 4 0s, 8.4ms\n",
      "video 1/1 (frame 583/644) C:\\Users\\dinyz\\Dinesh Ram\\Pycharm - Projects\\Wildlife Animal Detection\\test_videos\\cow_video.mp4: 256x416 2 0s, 11.5ms\n",
      "video 1/1 (frame 584/644) C:\\Users\\dinyz\\Dinesh Ram\\Pycharm - Projects\\Wildlife Animal Detection\\test_videos\\cow_video.mp4: 256x416 4 0s, 12.6ms\n",
      "video 1/1 (frame 585/644) C:\\Users\\dinyz\\Dinesh Ram\\Pycharm - Projects\\Wildlife Animal Detection\\test_videos\\cow_video.mp4: 256x416 4 0s, 13.2ms\n",
      "video 1/1 (frame 586/644) C:\\Users\\dinyz\\Dinesh Ram\\Pycharm - Projects\\Wildlife Animal Detection\\test_videos\\cow_video.mp4: 256x416 4 0s, 13.8ms\n",
      "video 1/1 (frame 587/644) C:\\Users\\dinyz\\Dinesh Ram\\Pycharm - Projects\\Wildlife Animal Detection\\test_videos\\cow_video.mp4: 256x416 3 0s, 12.5ms\n",
      "video 1/1 (frame 588/644) C:\\Users\\dinyz\\Dinesh Ram\\Pycharm - Projects\\Wildlife Animal Detection\\test_videos\\cow_video.mp4: 256x416 6 0s, 19.0ms\n",
      "video 1/1 (frame 589/644) C:\\Users\\dinyz\\Dinesh Ram\\Pycharm - Projects\\Wildlife Animal Detection\\test_videos\\cow_video.mp4: 256x416 4 0s, 19.1ms\n",
      "video 1/1 (frame 590/644) C:\\Users\\dinyz\\Dinesh Ram\\Pycharm - Projects\\Wildlife Animal Detection\\test_videos\\cow_video.mp4: 256x416 3 0s, 12.1ms\n",
      "video 1/1 (frame 591/644) C:\\Users\\dinyz\\Dinesh Ram\\Pycharm - Projects\\Wildlife Animal Detection\\test_videos\\cow_video.mp4: 256x416 5 0s, 13.7ms\n",
      "video 1/1 (frame 592/644) C:\\Users\\dinyz\\Dinesh Ram\\Pycharm - Projects\\Wildlife Animal Detection\\test_videos\\cow_video.mp4: 256x416 6 0s, 13.6ms\n",
      "video 1/1 (frame 593/644) C:\\Users\\dinyz\\Dinesh Ram\\Pycharm - Projects\\Wildlife Animal Detection\\test_videos\\cow_video.mp4: 256x416 4 0s, 12.4ms\n",
      "video 1/1 (frame 594/644) C:\\Users\\dinyz\\Dinesh Ram\\Pycharm - Projects\\Wildlife Animal Detection\\test_videos\\cow_video.mp4: 256x416 4 0s, 13.4ms\n",
      "video 1/1 (frame 595/644) C:\\Users\\dinyz\\Dinesh Ram\\Pycharm - Projects\\Wildlife Animal Detection\\test_videos\\cow_video.mp4: 256x416 2 0s, 12.8ms\n",
      "video 1/1 (frame 596/644) C:\\Users\\dinyz\\Dinesh Ram\\Pycharm - Projects\\Wildlife Animal Detection\\test_videos\\cow_video.mp4: 256x416 2 0s, 14.3ms\n",
      "video 1/1 (frame 597/644) C:\\Users\\dinyz\\Dinesh Ram\\Pycharm - Projects\\Wildlife Animal Detection\\test_videos\\cow_video.mp4: 256x416 2 0s, 17.6ms\n",
      "video 1/1 (frame 598/644) C:\\Users\\dinyz\\Dinesh Ram\\Pycharm - Projects\\Wildlife Animal Detection\\test_videos\\cow_video.mp4: 256x416 5 0s, 8.8ms\n",
      "video 1/1 (frame 599/644) C:\\Users\\dinyz\\Dinesh Ram\\Pycharm - Projects\\Wildlife Animal Detection\\test_videos\\cow_video.mp4: 256x416 5 0s, 10.0ms\n",
      "video 1/1 (frame 600/644) C:\\Users\\dinyz\\Dinesh Ram\\Pycharm - Projects\\Wildlife Animal Detection\\test_videos\\cow_video.mp4: 256x416 4 0s, 11.3ms\n",
      "video 1/1 (frame 601/644) C:\\Users\\dinyz\\Dinesh Ram\\Pycharm - Projects\\Wildlife Animal Detection\\test_videos\\cow_video.mp4: 256x416 5 0s, 14.2ms\n",
      "video 1/1 (frame 602/644) C:\\Users\\dinyz\\Dinesh Ram\\Pycharm - Projects\\Wildlife Animal Detection\\test_videos\\cow_video.mp4: 256x416 2 0s, 14.4ms\n",
      "video 1/1 (frame 603/644) C:\\Users\\dinyz\\Dinesh Ram\\Pycharm - Projects\\Wildlife Animal Detection\\test_videos\\cow_video.mp4: 256x416 4 0s, 13.1ms\n",
      "video 1/1 (frame 604/644) C:\\Users\\dinyz\\Dinesh Ram\\Pycharm - Projects\\Wildlife Animal Detection\\test_videos\\cow_video.mp4: 256x416 2 0s, 13.2ms\n",
      "video 1/1 (frame 605/644) C:\\Users\\dinyz\\Dinesh Ram\\Pycharm - Projects\\Wildlife Animal Detection\\test_videos\\cow_video.mp4: 256x416 2 0s, 8.6ms\n",
      "video 1/1 (frame 606/644) C:\\Users\\dinyz\\Dinesh Ram\\Pycharm - Projects\\Wildlife Animal Detection\\test_videos\\cow_video.mp4: 256x416 2 0s, 12.6ms\n",
      "video 1/1 (frame 607/644) C:\\Users\\dinyz\\Dinesh Ram\\Pycharm - Projects\\Wildlife Animal Detection\\test_videos\\cow_video.mp4: 256x416 2 0s, 15.7ms\n",
      "video 1/1 (frame 608/644) C:\\Users\\dinyz\\Dinesh Ram\\Pycharm - Projects\\Wildlife Animal Detection\\test_videos\\cow_video.mp4: 256x416 2 0s, 13.6ms\n",
      "video 1/1 (frame 609/644) C:\\Users\\dinyz\\Dinesh Ram\\Pycharm - Projects\\Wildlife Animal Detection\\test_videos\\cow_video.mp4: 256x416 1 0, 11.1ms\n",
      "video 1/1 (frame 610/644) C:\\Users\\dinyz\\Dinesh Ram\\Pycharm - Projects\\Wildlife Animal Detection\\test_videos\\cow_video.mp4: 256x416 2 0s, 9.6ms\n",
      "video 1/1 (frame 611/644) C:\\Users\\dinyz\\Dinesh Ram\\Pycharm - Projects\\Wildlife Animal Detection\\test_videos\\cow_video.mp4: 256x416 3 0s, 24.4ms\n",
      "video 1/1 (frame 612/644) C:\\Users\\dinyz\\Dinesh Ram\\Pycharm - Projects\\Wildlife Animal Detection\\test_videos\\cow_video.mp4: 256x416 3 0s, 13.7ms\n",
      "video 1/1 (frame 613/644) C:\\Users\\dinyz\\Dinesh Ram\\Pycharm - Projects\\Wildlife Animal Detection\\test_videos\\cow_video.mp4: 256x416 2 0s, 14.5ms\n",
      "video 1/1 (frame 614/644) C:\\Users\\dinyz\\Dinesh Ram\\Pycharm - Projects\\Wildlife Animal Detection\\test_videos\\cow_video.mp4: 256x416 1 0, 14.5ms\n",
      "video 1/1 (frame 615/644) C:\\Users\\dinyz\\Dinesh Ram\\Pycharm - Projects\\Wildlife Animal Detection\\test_videos\\cow_video.mp4: 256x416 3 0s, 13.7ms\n",
      "video 1/1 (frame 616/644) C:\\Users\\dinyz\\Dinesh Ram\\Pycharm - Projects\\Wildlife Animal Detection\\test_videos\\cow_video.mp4: 256x416 1 0, 14.3ms\n",
      "video 1/1 (frame 617/644) C:\\Users\\dinyz\\Dinesh Ram\\Pycharm - Projects\\Wildlife Animal Detection\\test_videos\\cow_video.mp4: 256x416 (no detections), 12.6ms\n",
      "video 1/1 (frame 618/644) C:\\Users\\dinyz\\Dinesh Ram\\Pycharm - Projects\\Wildlife Animal Detection\\test_videos\\cow_video.mp4: 256x416 (no detections), 13.7ms\n",
      "video 1/1 (frame 619/644) C:\\Users\\dinyz\\Dinesh Ram\\Pycharm - Projects\\Wildlife Animal Detection\\test_videos\\cow_video.mp4: 256x416 1 0, 11.7ms\n",
      "video 1/1 (frame 620/644) C:\\Users\\dinyz\\Dinesh Ram\\Pycharm - Projects\\Wildlife Animal Detection\\test_videos\\cow_video.mp4: 256x416 2 0s, 12.5ms\n",
      "video 1/1 (frame 621/644) C:\\Users\\dinyz\\Dinesh Ram\\Pycharm - Projects\\Wildlife Animal Detection\\test_videos\\cow_video.mp4: 256x416 1 0, 13.1ms\n",
      "video 1/1 (frame 622/644) C:\\Users\\dinyz\\Dinesh Ram\\Pycharm - Projects\\Wildlife Animal Detection\\test_videos\\cow_video.mp4: 256x416 2 0s, 13.6ms\n",
      "video 1/1 (frame 623/644) C:\\Users\\dinyz\\Dinesh Ram\\Pycharm - Projects\\Wildlife Animal Detection\\test_videos\\cow_video.mp4: 256x416 1 0, 9.9ms\n",
      "video 1/1 (frame 624/644) C:\\Users\\dinyz\\Dinesh Ram\\Pycharm - Projects\\Wildlife Animal Detection\\test_videos\\cow_video.mp4: 256x416 1 0, 12.7ms\n",
      "video 1/1 (frame 625/644) C:\\Users\\dinyz\\Dinesh Ram\\Pycharm - Projects\\Wildlife Animal Detection\\test_videos\\cow_video.mp4: 256x416 1 0, 12.9ms\n",
      "video 1/1 (frame 626/644) C:\\Users\\dinyz\\Dinesh Ram\\Pycharm - Projects\\Wildlife Animal Detection\\test_videos\\cow_video.mp4: 256x416 1 0, 13.1ms\n",
      "video 1/1 (frame 627/644) C:\\Users\\dinyz\\Dinesh Ram\\Pycharm - Projects\\Wildlife Animal Detection\\test_videos\\cow_video.mp4: 256x416 1 0, 14.1ms\n",
      "video 1/1 (frame 628/644) C:\\Users\\dinyz\\Dinesh Ram\\Pycharm - Projects\\Wildlife Animal Detection\\test_videos\\cow_video.mp4: 256x416 1 0, 13.6ms\n",
      "video 1/1 (frame 629/644) C:\\Users\\dinyz\\Dinesh Ram\\Pycharm - Projects\\Wildlife Animal Detection\\test_videos\\cow_video.mp4: 256x416 (no detections), 13.5ms\n",
      "video 1/1 (frame 630/644) C:\\Users\\dinyz\\Dinesh Ram\\Pycharm - Projects\\Wildlife Animal Detection\\test_videos\\cow_video.mp4: 256x416 1 0, 13.1ms\n",
      "video 1/1 (frame 631/644) C:\\Users\\dinyz\\Dinesh Ram\\Pycharm - Projects\\Wildlife Animal Detection\\test_videos\\cow_video.mp4: 256x416 (no detections), 14.7ms\n",
      "video 1/1 (frame 632/644) C:\\Users\\dinyz\\Dinesh Ram\\Pycharm - Projects\\Wildlife Animal Detection\\test_videos\\cow_video.mp4: 256x416 (no detections), 13.9ms\n",
      "video 1/1 (frame 633/644) C:\\Users\\dinyz\\Dinesh Ram\\Pycharm - Projects\\Wildlife Animal Detection\\test_videos\\cow_video.mp4: 256x416 (no detections), 13.9ms\n",
      "video 1/1 (frame 634/644) C:\\Users\\dinyz\\Dinesh Ram\\Pycharm - Projects\\Wildlife Animal Detection\\test_videos\\cow_video.mp4: 256x416 (no detections), 13.5ms\n",
      "video 1/1 (frame 635/644) C:\\Users\\dinyz\\Dinesh Ram\\Pycharm - Projects\\Wildlife Animal Detection\\test_videos\\cow_video.mp4: 256x416 (no detections), 13.6ms\n",
      "video 1/1 (frame 636/644) C:\\Users\\dinyz\\Dinesh Ram\\Pycharm - Projects\\Wildlife Animal Detection\\test_videos\\cow_video.mp4: 256x416 (no detections), 13.5ms\n",
      "video 1/1 (frame 637/644) C:\\Users\\dinyz\\Dinesh Ram\\Pycharm - Projects\\Wildlife Animal Detection\\test_videos\\cow_video.mp4: 256x416 (no detections), 10.7ms\n",
      "video 1/1 (frame 638/644) C:\\Users\\dinyz\\Dinesh Ram\\Pycharm - Projects\\Wildlife Animal Detection\\test_videos\\cow_video.mp4: 256x416 (no detections), 12.6ms\n",
      "video 1/1 (frame 639/644) C:\\Users\\dinyz\\Dinesh Ram\\Pycharm - Projects\\Wildlife Animal Detection\\test_videos\\cow_video.mp4: 256x416 (no detections), 10.4ms\n",
      "video 1/1 (frame 640/644) C:\\Users\\dinyz\\Dinesh Ram\\Pycharm - Projects\\Wildlife Animal Detection\\test_videos\\cow_video.mp4: 256x416 (no detections), 23.5ms\n",
      "video 1/1 (frame 641/644) C:\\Users\\dinyz\\Dinesh Ram\\Pycharm - Projects\\Wildlife Animal Detection\\test_videos\\cow_video.mp4: 256x416 (no detections), 25.4ms\n",
      "video 1/1 (frame 642/644) C:\\Users\\dinyz\\Dinesh Ram\\Pycharm - Projects\\Wildlife Animal Detection\\test_videos\\cow_video.mp4: 256x416 (no detections), 25.3ms\n",
      "video 1/1 (frame 643/644) C:\\Users\\dinyz\\Dinesh Ram\\Pycharm - Projects\\Wildlife Animal Detection\\test_videos\\cow_video.mp4: 256x416 (no detections), 24.1ms\n",
      "video 1/1 (frame 644/644) C:\\Users\\dinyz\\Dinesh Ram\\Pycharm - Projects\\Wildlife Animal Detection\\test_videos\\cow_video.mp4: 256x416 (no detections), 11.4ms\n",
      "Speed: 1.8ms preprocess, 13.9ms inference, 2.5ms postprocess per image at shape (1, 3, 256, 416)\n",
      "Results saved to \u001b[1mC:\\Users\\dinyz\\runs\\detect\\predict11\u001b[0m\n"
     ]
    }
   ],
   "source": [
    "# Perform object detection on an image\n",
    "model = YOLO(r\"C:\\Users\\dinyz\\runs\\detect\\train26\\weights\\best.pt\")\n",
    "results = model(r\"C:\\Users\\dinyz\\Dinesh Ram\\Pycharm - Projects\\Wildlife Animal Detection\\test_videos\\cow_video.mp4\",save=True)\n"
   ]
  },
  {
   "cell_type": "code",
   "execution_count": null,
   "id": "b6b97b56-4e56-4d78-ba36-1e4491d9262c",
   "metadata": {},
   "outputs": [],
   "source": []
  }
 ],
 "metadata": {
  "kernelspec": {
   "display_name": "Python 3 (ipykernel)",
   "language": "python",
   "name": "python3"
  },
  "language_info": {
   "codemirror_mode": {
    "name": "ipython",
    "version": 3
   },
   "file_extension": ".py",
   "mimetype": "text/x-python",
   "name": "python",
   "nbconvert_exporter": "python",
   "pygments_lexer": "ipython3",
   "version": "3.9.21"
  }
 },
 "nbformat": 4,
 "nbformat_minor": 5
}
